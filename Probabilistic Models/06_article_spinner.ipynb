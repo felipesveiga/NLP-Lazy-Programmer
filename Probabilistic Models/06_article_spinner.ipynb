{
 "cells": [
  {
   "cell_type": "markdown",
   "id": "52d2c4dc-1fb0-4daf-975a-da054b82cb0b",
   "metadata": {},
   "source": [
    "<h1 style='font-size:40px'> Article Spinner</h1>"
   ]
  },
  {
   "cell_type": "markdown",
   "id": "bade2ef1-c761-4520-b5c6-318cba2485a1",
   "metadata": {},
   "source": [
    "<h2 style='font-size:30px'> Article Spinning - Problem Description</h2>\n",
    "<div> \n",
    "    <ul style='font-size:20px'> \n",
    "        <li>   \n",
    "            Article Spinning consiste em criar uma nova versão de um texto, apenas trocando certas palavras.\n",
    "        </li>\n",
    "        <li>\n",
    "            Essa metodologia é bastante aplicada em Marketing e por sites que desejam obter mais fama com o crescimento de seu conteúdo.\n",
    "        </li>\n",
    "        <li>\n",
    "            Nesta seção, vamos montar um Modelo de Markov especializado em Article Spinnings!\n",
    "        </li>\n",
    "    </ul>\n",
    " </div>"
   ]
  },
  {
   "cell_type": "markdown",
   "id": "4be92f19-1815-4595-a3d9-d91999d030c7",
   "metadata": {},
   "source": [
    "<h2 style='font-size:30px'> Article Spinning - N-Gram Approach</h2>\n",
    "<div> \n",
    "    <ul style='font-size:20px'> \n",
    "        <li>   \n",
    "            Em Article Spinning, devemos garantir que a palavra a ser selecionada faça sentido, dentro do contexto maior do documento.\n",
    "        </li>\n",
    "        <li>\n",
    "            Nesse sentido, achamos mais prudente montar um Modelo de Markov que preveja a palavra mais provável, considerando os tokens que a circundam (palavra anterior e seguinte).\n",
    "            <center style='margin-top:20px'>\n",
    "                $p(w_{t}|w_{t-1}, w_{t+1})$\n",
    "            </center>\n",
    "        </li>\n",
    "    </ul>\n",
    " </div>"
   ]
  },
  {
   "cell_type": "markdown",
   "id": "ca19a102-fa40-40f5-bc91-65ea5bde8e3a",
   "metadata": {},
   "source": [
    "<h2 style='font-size:30px'> Article Spinner Exercise Prompt</h2>\n",
    "<div> \n",
    "    <ul style='font-size:20px'> \n",
    "        <li>   \n",
    "            Nós usaremos um dataset de notícias de negócios da BBC.\n",
    "        </li>\n",
    "        <li>\n",
    "            Assim como no último projeto, vamos preferir trabalhar com dicionários. Optamos por manter a pontuação dos artigos, a fim de não danificar a sua semântica.\n",
    "        </li>\n",
    "        <li>\n",
    "            Dica: Use a classe `TreebankWordDetokenizer` na reconstrução do texto, após sua edição.\n",
    "        </li>\n",
    "    </ul>\n",
    " </div>"
   ]
  },
  {
   "cell_type": "markdown",
   "id": "a08d7a4f-e833-43ff-80eb-0a20ab034b26",
   "metadata": {},
   "source": [
    "<p style='color:red'> Terminei o projeto; Aula 47</p>"
   ]
  }
 ],
 "metadata": {
  "kernelspec": {
   "display_name": "Python 3 (ipykernel)",
   "language": "python",
   "name": "python3"
  },
  "language_info": {
   "codemirror_mode": {
    "name": "ipython",
    "version": 3
   },
   "file_extension": ".py",
   "mimetype": "text/x-python",
   "name": "python",
   "nbconvert_exporter": "python",
   "pygments_lexer": "ipython3",
   "version": "3.11.7"
  }
 },
 "nbformat": 4,
 "nbformat_minor": 5
}
