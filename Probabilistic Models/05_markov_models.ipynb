{
 "cells": [
  {
   "cell_type": "markdown",
   "id": "f7727dcb-7e8b-488b-8d01-d93d50cbec24",
   "metadata": {},
   "source": [
    "<h1 style='font-size:40px'> Markov Models</h1>"
   ]
  },
  {
   "cell_type": "markdown",
   "id": "62c7b134-3aae-4361-9276-f22686df6a49",
   "metadata": {},
   "source": [
    "<h2 style='font-size:30px'> The Markov Property</h2>\n",
    "<div> \n",
    "    <ul style='font-size:20px'> \n",
    "        <li> \n",
    "            A Propriedade de Markov é uma assunção de que um determinado evento depende apenas de seu antecessor direto, sendo independente assim, de todos os demais acontecimentos do passado.\n",
    "            <center style='margin-top:20px'> \n",
    "                 $p(x_{t}|x_{t-1},x_{t-2},...)=p(x_{t}|x_{t-1})$\n",
    "            </center>\n",
    "        </li>\n",
    "    </ul>\n",
    "</div>"
   ]
  },
  {
   "cell_type": "markdown",
   "id": "7fd068e4-a96a-4bda-8501-709df15cb25b",
   "metadata": {},
   "source": [
    "<h2 style='font-size:30px'> The Markov Model</h2>\n",
    "<div> \n",
    "    <ul style='font-size:20px'> \n",
    "        <li> \n",
    "            O Modelo de Markov é um conjunto de probabilidades de migrarmos de uma situação para outra. Chamamos as situações, nesse contexto, de \"estados\".\n",
    "        </li>\n",
    "        <li>\n",
    "            Os Modelos de Markov respeitam a Propriedade de Markov. Por isso, podemos representar as probabilidades de transição em uma matriz quadrada (N é a quantidade de estados possíveis em nosso estudo). Os índices das linhas são os estados iniciais, enquanto os das colunas, de destino.\n",
    "            <center style='margin-top:20px'> \n",
    "                $A_{i,j}=p(s_{t}=j|s_{t-1}=i), \\forall{i=1\\dots{N}, j=1\\dots N}$\n",
    "            </center>\n",
    "        </li>\n",
    "        <li style='margin-top:20px'>\n",
    "            Perceba que os números de A sempre serão os mesmos, independentemente do valor de t. Falamos que lidamos com um Processo de Markov homogêneo ao tempo.\n",
    "        </li>\n",
    "    </ul>\n",
    "</div>"
   ]
  },
  {
   "cell_type": "markdown",
   "id": "b8333222-27ce-4222-81a0-47b2b65d79a0",
   "metadata": {},
   "source": [
    "<h3 style='font-size:30px;font-style:italic'> Initial State</h3>\n",
    "<div> \n",
    "    <ul style='font-size:20px'> \n",
    "        <li> \n",
    "            A probabilidade do primeiro estado da sequência não pode estar em A, porque ele não tem antecessor.\n",
    "        </li>\n",
    "        <li>\n",
    "            Nesse caso, armazenamos essas proporções em um vetor $\\pi$.\n",
    "            <center style='margin-top:20px'> \n",
    "                $\\pi_{i}=p(s_{1}=i) \\forall{i=1 \\dots{N}}$\n",
    "            </center>\n",
    "        </li>\n",
    "    </ul>\n",
    " </div>"
   ]
  },
  {
   "cell_type": "markdown",
   "id": "fcacdafb-cf70-411f-a257-ba960c484fcd",
   "metadata": {},
   "source": [
    "<h3 style='font-size:30px;font-style:italic'> Montagem de $A$ e $\\pi$</h3>\n",
    "<div> \n",
    "    <ul style='font-size:20px'> \n",
    "        <li> \n",
    "            A criação dessas ordenações envolve meramente o cálculo de probabilidades envolvendo os tokens.\n",
    "            <center style='margin-top:20px'> \n",
    "                $A_{i,j}=\\frac{\\text{count}(i\\to{j})}{\\text{count}(i)}$\n",
    "            </center>\n",
    "            <center style='margin-top:20px'> \n",
    "                $\\pi_{i}=\\frac{\\text{count}(s_{1}=i)}{M}$, sendo $M$ o tamanho do dataset.\n",
    "            </center>\n",
    "        </li>\n",
    "    </ul>\n",
    " </div>"
   ]
  },
  {
   "cell_type": "code",
   "execution_count": 98,
   "id": "c2c12b9a-38cd-44d7-a737-72fa3bacf98b",
   "metadata": {},
   "outputs": [
    {
     "data": {
      "text/html": [
       "<div>\n",
       "<style scoped>\n",
       "    .dataframe tbody tr th:only-of-type {\n",
       "        vertical-align: middle;\n",
       "    }\n",
       "\n",
       "    .dataframe tbody tr th {\n",
       "        vertical-align: top;\n",
       "    }\n",
       "\n",
       "    .dataframe thead th {\n",
       "        text-align: right;\n",
       "    }\n",
       "</style>\n",
       "<table border=\"1\" class=\"dataframe\">\n",
       "  <thead>\n",
       "    <tr style=\"text-align: right;\">\n",
       "      <th></th>\n",
       "      <th>ótimo</th>\n",
       "      <th>tudo</th>\n",
       "      <th>bem</th>\n",
       "      <th>tchau</th>\n",
       "    </tr>\n",
       "  </thead>\n",
       "  <tbody>\n",
       "    <tr>\n",
       "      <th>tudo</th>\n",
       "      <td>0.25</td>\n",
       "      <td>0.25</td>\n",
       "      <td>0.25</td>\n",
       "      <td>0.25</td>\n",
       "    </tr>\n",
       "    <tr>\n",
       "      <th>oi,</th>\n",
       "      <td>0.20</td>\n",
       "      <td>0.40</td>\n",
       "      <td>0.20</td>\n",
       "      <td>0.20</td>\n",
       "    </tr>\n",
       "  </tbody>\n",
       "</table>\n",
       "</div>"
      ],
      "text/plain": [
       "      ótimo  tudo   bem  tchau\n",
       "tudo   0.25  0.25  0.25   0.25\n",
       "oi,    0.20  0.40  0.20   0.20"
      ]
     },
     "execution_count": 98,
     "metadata": {},
     "output_type": "execute_result"
    }
   ],
   "source": [
    "import pandas as pd\n",
    "import numpy as np\n",
    "from typing import List\n",
    "\n",
    "class MarkovModel:\n",
    "    '''\n",
    "        Modelo de Markov.\n",
    "\n",
    "        Parâmetro\n",
    "        ---------\n",
    "        `corpus`: List[str]\n",
    "            Lista com os documentos a serem usados.\n",
    "    '''\n",
    "    def __init__(self, corpus:List[str]):\n",
    "        self.corpus = self.split_corpus(corpus)\n",
    "        self.corpus_length = len(self.corpus)\n",
    "\n",
    "    @staticmethod\n",
    "    def split_corpus(corpus:List[str])->List[List[str]]:\n",
    "        '''\n",
    "            Função que tokeniza os documentos do corpus.\n",
    "        '''\n",
    "        return [document.split() for document in corpus]\n",
    "\n",
    "    def __vocab(self)->None:\n",
    "        '''\n",
    "            Extração dos termos únicos do nosso corpus.\n",
    "        '''\n",
    "        vocab = []\n",
    "        for doc in self.corpus:\n",
    "            vocab+=doc[1:] # Not including the first tokens.\n",
    "        return set(vocab)\n",
    "        \n",
    "\n",
    "    def __pi(self)->pd.Series:\n",
    "        '''\n",
    "            Mensuração do vetor pi do Modelo de Markov\n",
    "\n",
    "            Retorna\n",
    "            -------\n",
    "            Uma `pd.Series` com as probabilidades de pi.\n",
    "        '''\n",
    "        self._pi = {}\n",
    "        for doc in self.corpus:\n",
    "            i = doc[0]\n",
    "            if i not in self._pi.keys():\n",
    "                self._pi[i] = 1\n",
    "            else:\n",
    "                self._pi[i]+=1\n",
    "        self._pi = {i:count/self.corpus_length for i, count in self._pi.items()}\n",
    "        return pd.Series(self._pi)\n",
    "        \n",
    "    def __a(self)->pd.DataFrame:\n",
    "        '''\n",
    "            Mensuração da matriz A, de um Modelo de Markov.\n",
    "\n",
    "            Retorna\n",
    "            -------\n",
    "            Um `pd.DataFrame` com as probabilidades de transição de estado.\n",
    "        '''\n",
    "        self._a = {j:{} for j in self.__vocab()}\n",
    "        for doc in self.corpus:\n",
    "            for idx, j in enumerate(doc[1:], start=1):\n",
    "                d_j = self._a[j]\n",
    "                i = doc[idx-1]\n",
    "                if i not in d_j.keys():\n",
    "                    d_j[i] = 1\n",
    "                else:\n",
    "                    d_j[i] += 1\n",
    "        \n",
    "        a = pd.DataFrame(self._a).fillna(1)\n",
    "        return a.div(a.sum(axis=1, skipna=True), axis=0) \n",
    "\n",
    "    def transform(self):\n",
    "        self.__a()\n",
    "        self.__pi()\n",
    "        return self.__a()\n",
    "\n",
    "a = MarkovModel(['oi, tudo bem','oi, tudo ótimo' , 'oi, tchau', 'caramba'])\n",
    "a.transform()"
   ]
  },
  {
   "cell_type": "code",
   "execution_count": 71,
   "id": "846d964e-c1a5-46fc-869a-6961f1e1c326",
   "metadata": {},
   "outputs": [
    {
     "data": {
      "text/plain": [
       "1.499696813895631e-241"
      ]
     },
     "execution_count": 71,
     "metadata": {},
     "output_type": "execute_result"
    }
   ],
   "source": [
    ".5**800"
   ]
  },
  {
   "cell_type": "markdown",
   "id": "03fcbaf6-23f2-45c9-8bba-b348fa37bb3f",
   "metadata": {},
   "source": [
    "<p style='color:red'> Terminei Aula 33; Normalizar os valores de A e documentar a classe</p>"
   ]
  }
 ],
 "metadata": {
  "kernelspec": {
   "display_name": "Python 3 (ipykernel)",
   "language": "python",
   "name": "python3"
  },
  "language_info": {
   "codemirror_mode": {
    "name": "ipython",
    "version": 3
   },
   "file_extension": ".py",
   "mimetype": "text/x-python",
   "name": "python",
   "nbconvert_exporter": "python",
   "pygments_lexer": "ipython3",
   "version": "3.11.7"
  }
 },
 "nbformat": 4,
 "nbformat_minor": 5
}
