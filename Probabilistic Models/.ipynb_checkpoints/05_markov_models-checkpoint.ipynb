{
 "cells": [
  {
   "cell_type": "markdown",
   "id": "f7727dcb-7e8b-488b-8d01-d93d50cbec24",
   "metadata": {},
   "source": [
    "<h1 style='font-size:40px'> Markov Models</h1>"
   ]
  },
  {
   "cell_type": "markdown",
   "id": "03fcbaf6-23f2-45c9-8bba-b348fa37bb3f",
   "metadata": {},
   "source": [
    "<p style='color:red'> Vi introdução da seção. Aula 32.</p>"
   ]
  }
 ],
 "metadata": {
  "kernelspec": {
   "display_name": "Python 3 (ipykernel)",
   "language": "python",
   "name": "python3"
  },
  "language_info": {
   "codemirror_mode": {
    "name": "ipython",
    "version": 3
   },
   "file_extension": ".py",
   "mimetype": "text/x-python",
   "name": "python",
   "nbconvert_exporter": "python",
   "pygments_lexer": "ipython3",
   "version": "3.11.7"
  }
 },
 "nbformat": 4,
 "nbformat_minor": 5
}
