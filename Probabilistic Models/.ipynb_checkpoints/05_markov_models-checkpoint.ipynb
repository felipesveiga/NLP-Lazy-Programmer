{
 "cells": [
  {
   "cell_type": "markdown",
   "id": "f7727dcb-7e8b-488b-8d01-d93d50cbec24",
   "metadata": {},
   "source": [
    "<h1 style='font-size:40px'> Markov Models</h1>"
   ]
  },
  {
   "cell_type": "markdown",
   "id": "62c7b134-3aae-4361-9276-f22686df6a49",
   "metadata": {},
   "source": [
    "<h2 style='font-size:30px'> The Markov Property</h2>\n",
    "<div> \n",
    "    <ul style='font-size:20px'> \n",
    "        <li> \n",
    "            A Propriedade de Markov é uma assunção de que um determinado evento depende apenas de seu antecessor direto, sendo independente assim, de todos os demais acontecimentos do passado.\n",
    "            <center style='margin-top:20px'> \n",
    "                 $p(x_{t}|x_{t-1},x_{t-2},...)=p(x_{t}|x_{t-1})$\n",
    "            </center>\n",
    "        </li>\n",
    "    </ul>\n",
    "</div>"
   ]
  },
  {
   "cell_type": "markdown",
   "id": "7fd068e4-a96a-4bda-8501-709df15cb25b",
   "metadata": {},
   "source": [
    "<h2 style='font-size:30px'> The Markov Model</h2>\n",
    "<div> \n",
    "    <ul style='font-size:20px'> \n",
    "        <li> \n",
    "            O Modelo de Markov é um conjunto de probabilidades de migrarmos de uma situação para outra. Chamamos as situações, nesse contexto, de \"estados\".\n",
    "        </li>\n",
    "        <li>\n",
    "            Os Modelos de Markov respeitam a Propriedade de Markov. Por isso, podemos representar as probabilidades de transição em uma matriz quadrada (N é a quantidade de estados possíveis em nosso estudo). Os índices das linhas são os estados iniciais, enquanto os das colunas, de destino.\n",
    "            <center style='margin-top:20px'> \n",
    "                $A_{i,j}=p(s_{t}=j|s_{t-1}=i), \\forall{i=1\\dots{N}, j=1\\dots N}$\n",
    "            </center>\n",
    "        </li>\n",
    "        <li style='margin-top:20px'>\n",
    "            Perceba que os números de A sempre serão os mesmos, independentemente do valor de t. Falamos que lidamos com um Processo de Markov homogêneo ao tempo.\n",
    "        </li>\n",
    "    </ul>\n",
    "</div>"
   ]
  },
  {
   "cell_type": "markdown",
   "id": "b8333222-27ce-4222-81a0-47b2b65d79a0",
   "metadata": {},
   "source": [
    "<h3 style='font-size:30px;font-style:italic'> Initial State</h3>\n",
    "<div> \n",
    "    <ul style='font-size:20px'> \n",
    "        <li> \n",
    "            A probabilidade do primeiro estado da sequência não pode estar em A, porque ele não tem antecessor.\n",
    "        </li>\n",
    "        <li>\n",
    "            Nesse caso, armazenamos essas proporções em um vetor $\\pi$.\n",
    "            <center style='margin-top:20px'> \n",
    "                $\\pi_{i}=p(s_{1}=i) \\forall{i=1 \\dots{N}}$\n",
    "            </center>\n",
    "        </li>\n",
    "    </ul>\n",
    " </div>"
   ]
  },
  {
   "cell_type": "markdown",
   "id": "fcacdafb-cf70-411f-a257-ba960c484fcd",
   "metadata": {},
   "source": [
    "<h3 style='font-size:30px;font-style:italic'> Montagem de $A$ e $\\pi$</h3>\n",
    "<div> \n",
    "    <ul style='font-size:20px'> \n",
    "        <li> \n",
    "            A criação dessas ordenações envolve meramente o cálculo de probabilidades envolvendo os tokens.\n",
    "            <center style='margin-top:20px'> \n",
    "                $A_{i,j}=\\frac{\\text{count}(i\\to{j})}{\\text{count}(i)}$\n",
    "            </center>\n",
    "            <center style='margin-top:20px'> \n",
    "                $\\pi_{i}=\\frac{\\text{count}(s_{1}=i)}{M}$, sendo $M$ o tamanho do dataset.\n",
    "            </center>\n",
    "        </li>\n",
    "    </ul>\n",
    " </div>"
   ]
  },
  {
   "cell_type": "code",
   "execution_count": 8,
   "id": "c2c12b9a-38cd-44d7-a737-72fa3bacf98b",
   "metadata": {},
   "outputs": [],
   "source": [
    "import numpy as np\n",
    "from nltk.tokenize import word_tokenize\n",
    "from typing import List\n",
    "\n",
    "class MarkovModel:\n",
    "    def __init__(self, corpus:List[str]):\n",
    "        self.corpus = self.split_corpus(corpus)\n",
    "\n",
    "    @staticmethod\n",
    "    def split_corpus(corpus:List[str])->List[List[str]]:\n",
    "        return [document.split() for document in corpus]\n",
    "        \n",
    "    def __pi(self):\n",
    "        d = {}\n",
    "        corpus_length = len(self.corpus)\n",
    "        for doc in self.corpus:\n",
    "            i = doc[0]\n",
    "            if i not in d.keys():\n",
    "                d[i] = 1\n",
    "            else:\n",
    "                d[i]+=1\n",
    "        return {i:count/corpus_length for i, count in d.items()}\n",
    "\n",
    "    def transform(self):\n",
    "        return self.__pi()"
   ]
  },
  {
   "cell_type": "code",
   "execution_count": 11,
   "id": "0dbeb8bc-9119-4a38-8c8b-ff153a06cb84",
   "metadata": {},
   "outputs": [
    {
     "data": {
      "text/plain": [
       "{'oi,': 0.6666666666666666, 'acaramba': 0.3333333333333333}"
      ]
     },
     "execution_count": 11,
     "metadata": {},
     "output_type": "execute_result"
    }
   ],
   "source": [
    "MarkovModel(['oi, tudo bem', 'oi, tchau', 'acaramba']).transform()"
   ]
  },
  {
   "cell_type": "code",
   "execution_count": 5,
   "id": "7a311867-f8b8-43ba-ab7b-e574fd7bedb1",
   "metadata": {},
   "outputs": [
    {
     "data": {
      "text/plain": [
       "['hello,', 'goodbye', 'hi', 'bye']"
      ]
     },
     "execution_count": 5,
     "metadata": {},
     "output_type": "execute_result"
    }
   ],
   "source": [
    "l = word_tokenize('hello, goodbye hi bye')\n",
    "\n",
    "'hello, goodbye hi bye'.split()"
   ]
  },
  {
   "cell_type": "markdown",
   "id": "03fcbaf6-23f2-45c9-8bba-b348fa37bb3f",
   "metadata": {},
   "source": [
    "<p style='color:red'> Comecei Aula 33; Aula 33 7:05 (NLP)</p>"
   ]
  }
 ],
 "metadata": {
  "kernelspec": {
   "display_name": "Python 3 (ipykernel)",
   "language": "python",
   "name": "python3"
  },
  "language_info": {
   "codemirror_mode": {
    "name": "ipython",
    "version": 3
   },
   "file_extension": ".py",
   "mimetype": "text/x-python",
   "name": "python",
   "nbconvert_exporter": "python",
   "pygments_lexer": "ipython3",
   "version": "3.11.7"
  }
 },
 "nbformat": 4,
 "nbformat_minor": 5
}
