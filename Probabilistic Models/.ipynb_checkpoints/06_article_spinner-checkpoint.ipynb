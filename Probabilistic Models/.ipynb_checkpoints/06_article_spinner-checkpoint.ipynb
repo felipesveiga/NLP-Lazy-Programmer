{
 "cells": [
  {
   "cell_type": "markdown",
   "id": "52d2c4dc-1fb0-4daf-975a-da054b82cb0b",
   "metadata": {},
   "source": [
    "<h1 style='font-size:40px'> Article Spinner</h1>"
   ]
  },
  {
   "cell_type": "markdown",
   "id": "a08d7a4f-e833-43ff-80eb-0a20ab034b26",
   "metadata": {},
   "source": [
    "<p style='color:red'> Terminei o projeto; Aula 44</p>"
   ]
  }
 ],
 "metadata": {
  "kernelspec": {
   "display_name": "Python 3 (ipykernel)",
   "language": "python",
   "name": "python3"
  },
  "language_info": {
   "codemirror_mode": {
    "name": "ipython",
    "version": 3
   },
   "file_extension": ".py",
   "mimetype": "text/x-python",
   "name": "python",
   "nbconvert_exporter": "python",
   "pygments_lexer": "ipython3",
   "version": "3.11.7"
  }
 },
 "nbformat": 4,
 "nbformat_minor": 5
}
