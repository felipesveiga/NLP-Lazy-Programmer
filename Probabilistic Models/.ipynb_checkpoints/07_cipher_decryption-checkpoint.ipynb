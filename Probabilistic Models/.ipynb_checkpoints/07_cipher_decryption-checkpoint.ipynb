{
 "cells": [
  {
   "cell_type": "markdown",
   "id": "760b1e52-1807-441a-9bc5-002559e4e1f8",
   "metadata": {},
   "source": [
    "<h1 style='font-size:40px'> Cypher Decryption</h1>"
   ]
  },
  {
   "cell_type": "markdown",
   "id": "dff8c806-e68d-46ba-b608-9ca777c74094",
   "metadata": {
    "jp-MarkdownHeadingCollapsed": true
   },
   "source": [
    "<h2 style='font-size:30px'> Section Introduction</h2>\n",
    "<div> \n",
    "    <ul style='font-size:20px'> \n",
    "        <li>   \n",
    "            Esta seção será dedicada à construção de um criador e decifrador de ciphers. Nós basearemos nossa solução inteiramente com técnicas de NLP, teoria da probabilidade e algoritmos genéticos.\n",
    "        </li>\n",
    "    </ul>\n",
    " </div>"
   ]
  },
  {
   "cell_type": "markdown",
   "id": "9cda62d2-f4f8-48ec-a425-64407659f305",
   "metadata": {},
   "source": [
    "<h2 style='font-size:30px'> Ciphers</h2>\n",
    "<div> \n",
    "    <ul style='font-size:20px'> \n",
    "        <li>   \n",
    "            Ciphers nada mais são do que versões encriptadas de mensagens. Existem inúmeras técnicas para a ocultação do conteúdo de textos, como a rotação de caracteres ou a mera substituição de um por outro.\n",
    "        </li>\n",
    "        <li>\n",
    "            Nossa missão no projeto da seção será criar o nosso decifrador, sem precisarmos da relação &lt;chave&gt;: &lt;valor&gt;. Iremos recorrer a apenas nossos connhecimentos estatísticos.\n",
    "        </li>\n",
    "    </ul>\n",
    " </div>"
   ]
  },
  {
   "cell_type": "markdown",
   "id": "2be2a8eb-f813-4d17-b433-99d9612e14c1",
   "metadata": {},
   "source": [
    "<h2 style='font-size:30px'> Language Models (Review)</h2>\n",
    "<div> \n",
    "    <ul style='font-size:20px'> \n",
    "        <li>   \n",
    "            A ideia central do nosso decipher é fazer com que ele designe altas probabilidades para decifrações que formam palavras reais. Faremos isso considerando as senhas como sequências de letras.\n",
    "        </li>\n",
    "        <li>\n",
    "            A probabilidade final de uma sequência se dará com o produto das probabilidades dos bigramas que a compõem. Nós, como o esperado, vamos recorrer a um Modelo de Markov para solucionar nosso problema.\n",
    "        </li>\n",
    "    </ul>\n",
    " </div>"
   ]
  },
  {
   "cell_type": "markdown",
   "id": "6a769602-2a3d-47a7-9c7f-52cbe8594dca",
   "metadata": {},
   "source": [
    "<h2 style='font-size:30px'> Genetic Algorithms</h2>\n",
    "<div> \n",
    "    <ul style='font-size:20px'> \n",
    "        <li> \n",
    "            Mesmo se pudéssemos recorrer a força bruta, nosso computador poderia literalmente levar anos para conseguir decifrar o cipher passado. Por exemplo, uma senha de 26 letras nos obrigaria a fazer $26!$ tentativas.\n",
    "        </li>\n",
    "        <li>\n",
    "            Nessa situação, poderíamos nos inspirar no fenômeno das mutações da biologia, e impor uma modificação na nossa relação &lt;chave&gt;: &lt;valor&gt; do nosso decrifrador, até que suas conversões obtenham altas probabilidades log.\n",
    "        </li>\n",
    "    </ul>\n",
    " </div>"
   ]
  },
  {
   "cell_type": "code",
   "execution_count": 12,
   "id": "f78b17d4-84ca-48ee-8cba-61d8e10f0235",
   "metadata": {
    "scrolled": true
   },
   "outputs": [
    {
     "data": {
      "text/plain": [
       "{'a': 'i',\n",
       " 'b': 'q',\n",
       " 'c': 'a',\n",
       " 'd': 'y',\n",
       " 'e': 'l',\n",
       " 'f': 'j',\n",
       " 'g': 'n',\n",
       " 'h': 'b',\n",
       " 'i': 'x',\n",
       " 'j': 'f',\n",
       " 'k': 'c',\n",
       " 'l': 'm',\n",
       " 'm': 'p',\n",
       " 'n': 'd',\n",
       " 'o': 'e',\n",
       " 'p': 'v',\n",
       " 'q': 'r',\n",
       " 'r': 'w',\n",
       " 's': 's',\n",
       " 't': 'z',\n",
       " 'u': 'u',\n",
       " 'v': 'h',\n",
       " 'w': 'k',\n",
       " 'x': 'o',\n",
       " 'y': 't',\n",
       " 'z': 'g'}"
      ]
     },
     "execution_count": 12,
     "metadata": {},
     "output_type": "execute_result"
    }
   ],
   "source": [
    "# Criação de um mapping <chave>:<valor> qualquer.\n",
    "from string import ascii_lowercase\n",
    "from numpy.random import choice, seed\n",
    "\n",
    "seed(42)\n",
    "\n",
    "alphabet = [l for l in ascii_lowercase]\n",
    "to = choice(alphabet, size=26, replace=False)\n",
    "\n",
    "dict(zip(*(alphabet, to)))"
   ]
  },
  {
   "cell_type": "markdown",
   "id": "257f5bb9-da55-4c23-aafa-e6c3fc601adc",
   "metadata": {},
   "source": [
    "<p style='color:red'> As iterações no projeto do Cipher estavam demorando demais, atrapalhando o seu andamento; Ir para nova seção</p>"
   ]
  }
 ],
 "metadata": {
  "kernelspec": {
   "display_name": "Python 3 (ipykernel)",
   "language": "python",
   "name": "python3"
  },
  "language_info": {
   "codemirror_mode": {
    "name": "ipython",
    "version": 3
   },
   "file_extension": ".py",
   "mimetype": "text/x-python",
   "name": "python",
   "nbconvert_exporter": "python",
   "pygments_lexer": "ipython3",
   "version": "3.12.3"
  }
 },
 "nbformat": 4,
 "nbformat_minor": 5
}
