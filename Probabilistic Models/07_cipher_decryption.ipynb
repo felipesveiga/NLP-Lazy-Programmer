{
 "cells": [
  {
   "cell_type": "markdown",
   "id": "760b1e52-1807-441a-9bc5-002559e4e1f8",
   "metadata": {},
   "source": [
    "<h1 style='font-size:40px'> Cypher Decryption</h1>"
   ]
  },
  {
   "cell_type": "markdown",
   "id": "dff8c806-e68d-46ba-b608-9ca777c74094",
   "metadata": {
    "jp-MarkdownHeadingCollapsed": true
   },
   "source": [
    "<h2 style='font-size:30px'> Section Introduction</h2>\n",
    "<div> \n",
    "    <ul style='font-size:20px'> \n",
    "        <li>   \n",
    "            Esta seção será dedicada à construção de um criador e decifrador de ciphers. Nós basearemos nossa solução inteiramente com técnicas de NLP, teoria da probabilidade e algoritmos genéticos.\n",
    "        </li>\n",
    "    </ul>\n",
    " </div>"
   ]
  },
  {
   "cell_type": "markdown",
   "id": "9cda62d2-f4f8-48ec-a425-64407659f305",
   "metadata": {},
   "source": [
    "<h2 style='font-size:30px'> Ciphers</h2>\n",
    "<div> \n",
    "    <ul style='font-size:20px'> \n",
    "        <li>   \n",
    "            Ciphers nada mais são do que versões encriptadas de mensagens. Existem inúmeras técnicas para a ocultação do conteúdo de textos, como a rotação de caracteres ou a mera substituição de um por outro.\n",
    "        </li>\n",
    "        <li>\n",
    "            Nossa missão no projeto da seção será criar o nosso decifrador, sem precisarmos da relação &lt;chave&gt;: &lt;valor&gt;. Iremos recorrer a apenas nossos connhecimentos estatísticos.\n",
    "        </li>\n",
    "    </ul>\n",
    " </div>"
   ]
  },
  {
   "cell_type": "markdown",
   "id": "2be2a8eb-f813-4d17-b433-99d9612e14c1",
   "metadata": {},
   "source": [
    "<h2 style='font-size:30px'> Language Models (Review)</h2>\n",
    "<div> \n",
    "    <ul style='font-size:20px'> \n",
    "        <li>   \n",
    "            A ideia central do nosso decipher é fazer com que ele designe altas probabilidades para decifrações que formam palavras reais. Faremos isso considerando as senhas como sequências de letras.\n",
    "        </li>\n",
    "        <li>\n",
    "            A probabilidade final de uma sequência se dará com o produto das probabilidades dos bigramas que a compõem.\n",
    "        </li>\n",
    "    </ul>\n",
    " </div>"
   ]
  },
  {
   "cell_type": "markdown",
   "id": "257f5bb9-da55-4c23-aafa-e6c3fc601adc",
   "metadata": {},
   "source": [
    "<p style='color:red'> Iniciei Aula 52; Demonstrar o Add-Epsilon Smoothing no ipynb da seção 5 (12:10)</p>"
   ]
  }
 ],
 "metadata": {
  "kernelspec": {
   "display_name": "Python 3 (ipykernel)",
   "language": "python",
   "name": "python3"
  },
  "language_info": {
   "codemirror_mode": {
    "name": "ipython",
    "version": 3
   },
   "file_extension": ".py",
   "mimetype": "text/x-python",
   "name": "python",
   "nbconvert_exporter": "python",
   "pygments_lexer": "ipython3",
   "version": "3.11.7"
  }
 },
 "nbformat": 4,
 "nbformat_minor": 5
}
