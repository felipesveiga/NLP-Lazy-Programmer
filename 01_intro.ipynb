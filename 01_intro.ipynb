{
 "cells": [
  {
   "cell_type": "markdown",
   "id": "5345e798-0aca-4428-8fcf-81ee99878179",
   "metadata": {},
   "source": [
    "<h1 style='font-size:40px'> Introduction</h1>"
   ]
  },
  {
   "cell_type": "markdown",
   "id": "a46b29cf-67f8-45ed-89c9-e633f1946254",
   "metadata": {},
   "source": [
    "<h2 style='font-size:30px'> Introduction and Outline</h2>\n",
    "<h3 style='font-size:30px;font-style:italic'> What is NLP?</h3>\n",
    "<div> \n",
    "    <ul style='font-size:20px'> \n",
    "        <li> \n",
    "            NLP é uma área de Ciência de Dados que lida com linguagem. Nela, usamos textos e áudio no abastecimento de algortimos de Machine Learning.\n",
    "        </li>\n",
    "    </ul>\n",
    "</div>"
   ]
  },
  {
   "cell_type": "markdown",
   "id": "6cdc33cf-b58b-4185-9e60-d652e6cfb132",
   "metadata": {},
   "source": [
    "<h3 style='font-size:30px;font-style:italic'> Amazing Modern Advancements</h3>\n",
    "<div> \n",
    "    <ul style='font-size:20px'> \n",
    "        <li> \n",
    "            Nos últimos anos, a área de Processamento de Linguagem Natural tem focado na criação de IA's voltadas à tradução de línguas e geração de texto. \n",
    "        </li>\n",
    "    </ul>\n",
    "</div>"
   ]
  },
  {
   "cell_type": "markdown",
   "id": "c46b7bb4-f484-4318-9307-68053bbaab69",
   "metadata": {},
   "source": [
    "<h3 style='font-size:30px;font-style:italic'> Estrutura do Curso</h3>\n",
    "<div> \n",
    "    <ul style='font-size:20px'> \n",
    "        <li> \n",
    "            O curso é dividido em 4 partes:\n",
    "            <ul style='list-style-type:decimal'>\n",
    "                <li>\n",
    "                    <i>Processamento de Texto e Modelos Vetoriais</i>: Tratamento de textos e sua conversão em vetores. \n",
    "                </li>\n",
    "                <li> \n",
    "                    <i>Modelos Probabilísticos</i>: Modelos de probabilidade que fundamentam a área de NLP.\n",
    "                </li>\n",
    "                <li> \n",
    "                    <i>Machine Learning</i>: Aplicação de NLP com modelos clássicos.\n",
    "                </li>\n",
    "                <li> \n",
    "                    <i>Deep Learning</i>: Uso de NLP em Redes Neurais.\n",
    "                </li>\n",
    "            </ul>\n",
    "        </li>\n",
    "    </ul>\n",
    "</div>"
   ]
  },
  {
   "cell_type": "markdown",
   "id": "231d66f4-107f-4b3a-9f09-6e1e1ce1ff5c",
   "metadata": {},
   "source": [
    "<p style='color:red'> Aula 3; Criar repositório do curso!</p>"
   ]
  }
 ],
 "metadata": {
  "kernelspec": {
   "display_name": "Python 3 (ipykernel)",
   "language": "python",
   "name": "python3"
  },
  "language_info": {
   "codemirror_mode": {
    "name": "ipython",
    "version": 3
   },
   "file_extension": ".py",
   "mimetype": "text/x-python",
   "name": "python",
   "nbconvert_exporter": "python",
   "pygments_lexer": "ipython3",
   "version": "3.11.7"
  }
 },
 "nbformat": 4,
 "nbformat_minor": 5
}
