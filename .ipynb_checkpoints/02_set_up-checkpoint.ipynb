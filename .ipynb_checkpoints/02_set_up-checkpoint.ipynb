{
 "cells": [
  {
   "cell_type": "markdown",
   "id": "c9771f52-40db-4e16-b6c1-73dc2608c6c5",
   "metadata": {},
   "source": [
    "<h1 style='font-size:40px'> Introduction</h1>"
   ]
  },
  {
   "cell_type": "markdown",
   "id": "9853c162-ea83-4638-89fa-f70c4478aa8c",
   "metadata": {},
   "source": [
    "<h2 style='font-size:30px'> Get Your Hands Dirty, Practical Coding Experience, Data Links</h2>\n",
    "<div> \n",
    "    <ul style='font-size:20px'> \n",
    "        <li> \n",
    "            <a href>Link</a> do Repositório do Curso.\n",
    "        </li>\n",
    "        <li> \n",
    "            <a href='https://deeplearningcourses.com/notebooks/rW3EZnH2QHQDMlYbEb5nrg'> Link</a> para acesso aos códigos do curso.\n",
    "        </li>\n",
    "        <li> \n",
    "            <strong> \n",
    "                Importante\n",
    "            </strong>: Notebooks do curso são disponibilizados no Google Colab!\n",
    "        </li>\n",
    "    </ul>\n",
    "</div>"
   ]
  },
  {
   "cell_type": "markdown",
   "id": "807788fe-bf3b-4be4-b392-41cbc7c24206",
   "metadata": {},
   "source": [
    "<p style='color:red'> Aula 5</p>"
   ]
  }
 ],
 "metadata": {
  "kernelspec": {
   "display_name": "Python 3 (ipykernel)",
   "language": "python",
   "name": "python3"
  },
  "language_info": {
   "codemirror_mode": {
    "name": "ipython",
    "version": 3
   },
   "file_extension": ".py",
   "mimetype": "text/x-python",
   "name": "python",
   "nbconvert_exporter": "python",
   "pygments_lexer": "ipython3",
   "version": "3.11.7"
  }
 },
 "nbformat": 4,
 "nbformat_minor": 5
}
