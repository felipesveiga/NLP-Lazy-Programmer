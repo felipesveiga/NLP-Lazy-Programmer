{
 "cells": [
  {
   "cell_type": "markdown",
   "id": "7e3019b0",
   "metadata": {
    "papermill": {
     "duration": 0.003931,
     "end_time": "2024-03-18T17:36:40.635032",
     "exception": false,
     "start_time": "2024-03-18T17:36:40.631101",
     "status": "completed"
    },
    "tags": []
   },
   "source": [
    "# Poe x Frost \n",
    "* This project aims to conceive a classification strategy of differentiating Edgar Allan Poe's poems from Robert Frost's. We'll conduct the experiment by training two separate Markov Models, each of them calibrated with the poems of one of the poets.\n",
    "* Then, given the $p(\\text{text}|\\text{author})$ returned by the models, we'll apply the Bayes' Theorem to compute $p(\\text{author}|\\text{text})$ to receive the final prediction."
   ]
  },
  {
   "cell_type": "markdown",
   "id": "17ae77d3",
   "metadata": {
    "papermill": {
     "duration": 0.002773,
     "end_time": "2024-03-18T17:36:40.641361",
     "exception": false,
     "start_time": "2024-03-18T17:36:40.638588",
     "status": "completed"
    },
    "tags": []
   },
   "source": [
    "## Loading the Documents"
   ]
  },
  {
   "cell_type": "code",
   "execution_count": 1,
   "id": "63cf96a8",
   "metadata": {
    "execution": {
     "iopub.execute_input": "2024-03-18T17:36:40.650790Z",
     "iopub.status.busy": "2024-03-18T17:36:40.650365Z",
     "iopub.status.idle": "2024-03-18T17:36:40.678952Z",
     "shell.execute_reply": "2024-03-18T17:36:40.677951Z"
    },
    "papermill": {
     "duration": 0.037311,
     "end_time": "2024-03-18T17:36:40.682872",
     "exception": false,
     "start_time": "2024-03-18T17:36:40.645561",
     "status": "completed"
    },
    "tags": []
   },
   "outputs": [
    {
     "data": {
      "text/plain": [
       "'I shall be telling this with a sigh\\nSomewhere ages and ages hence:\\nTwo roads diverged in a wood, and I,\\nI took the one less traveled by,\\nAnd that has made all the difference.'"
      ]
     },
     "execution_count": 1,
     "metadata": {},
     "output_type": "execute_result"
    }
   ],
   "source": [
    "from re import sub\n",
    "from typing import List\n",
    "\n",
    "def load_text(filename:str)->List[str]:\n",
    "    '''\n",
    "        Reads the .txt file.\n",
    "        \n",
    "        Parameter\n",
    "        ---------\n",
    "        `filename`: str\n",
    "            The name of the poems file.\n",
    "            \n",
    "        Returns\n",
    "        -------\n",
    "        A list containing each strophe's content.\n",
    "    '''\n",
    "    with open(f'/kaggle/input/poe-vs-frost/{filename}', 'r') as f:\n",
    "        strophe_delim = '\\n\\n'\n",
    "        return sub('\\n\\u2009\\n', strophe_delim, f.read()).split(strophe_delim)\n",
    "    \n",
    "a = load_text('05_robert_frost.txt')\n",
    "a[3]"
   ]
  },
  {
   "cell_type": "code",
   "execution_count": 2,
   "id": "a6b96152",
   "metadata": {
    "execution": {
     "iopub.execute_input": "2024-03-18T17:36:40.692186Z",
     "iopub.status.busy": "2024-03-18T17:36:40.691280Z",
     "iopub.status.idle": "2024-03-18T17:36:40.697085Z",
     "shell.execute_reply": "2024-03-18T17:36:40.696091Z"
    },
    "papermill": {
     "duration": 0.014789,
     "end_time": "2024-03-18T17:36:40.701144",
     "exception": false,
     "start_time": "2024-03-18T17:36:40.686355",
     "status": "completed"
    },
    "tags": []
   },
   "outputs": [
    {
     "name": "stdout",
     "output_type": "stream",
     "text": [
      "Two roads diverged in a yellow wood,\n",
      "And sorry I could not travel both\n",
      "And be one traveler, long I stood\n",
      "And looked down one as far as I could\n",
      "To where it bent in the undergrowth; \n"
     ]
    }
   ],
   "source": [
    "print(a[0])"
   ]
  }
 ],
 "metadata": {
  "kaggle": {
   "accelerator": "none",
   "dataSources": [
    {
     "datasetId": 4623586,
     "sourceId": 7878148,
     "sourceType": "datasetVersion"
    }
   ],
   "dockerImageVersionId": 30664,
   "isGpuEnabled": false,
   "isInternetEnabled": true,
   "language": "python",
   "sourceType": "notebook"
  },
  "kernelspec": {
   "display_name": "Python 3",
   "language": "python",
   "name": "python3"
  },
  "language_info": {
   "codemirror_mode": {
    "name": "ipython",
    "version": 3
   },
   "file_extension": ".py",
   "mimetype": "text/x-python",
   "name": "python",
   "nbconvert_exporter": "python",
   "pygments_lexer": "ipython3",
   "version": "3.10.13"
  },
  "papermill": {
   "default_parameters": {},
   "duration": 3.628057,
   "end_time": "2024-03-18T17:36:41.126451",
   "environment_variables": {},
   "exception": null,
   "input_path": "__notebook__.ipynb",
   "output_path": "__notebook__.ipynb",
   "parameters": {},
   "start_time": "2024-03-18T17:36:37.498394",
   "version": "2.5.0"
  }
 },
 "nbformat": 4,
 "nbformat_minor": 5
}
