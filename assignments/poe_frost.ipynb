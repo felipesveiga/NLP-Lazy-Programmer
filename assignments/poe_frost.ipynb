{
 "cells": [
  {
   "cell_type": "markdown",
   "id": "79595f45",
   "metadata": {
    "papermill": {
     "duration": 0.004906,
     "end_time": "2024-03-20T19:52:49.884505",
     "exception": false,
     "start_time": "2024-03-20T19:52:49.879599",
     "status": "completed"
    },
    "tags": []
   },
   "source": [
    "# Poe x Frost \n",
    "* This project aims to conceive a classification strategy of differentiating Edgar Allan Poe's poems from Robert Frost's. We'll conduct the experiment by training two separate Markov Models, each of them calibrated with the poems of one of the poets.\n",
    "* Then, given the $p(\\text{text}|\\text{author})$ returned by the models, we'll apply the Bayes' Theorem to compute $p(\\text{author}|\\text{text})$ to receive the final prediction."
   ]
  },
  {
   "cell_type": "markdown",
   "id": "0334b297",
   "metadata": {
    "papermill": {
     "duration": 0.004047,
     "end_time": "2024-03-20T19:52:49.893289",
     "exception": false,
     "start_time": "2024-03-20T19:52:49.889242",
     "status": "completed"
    },
    "tags": []
   },
   "source": [
    "## Loading the Documents"
   ]
  },
  {
   "cell_type": "code",
   "execution_count": 1,
   "id": "a8c2ed57",
   "metadata": {
    "execution": {
     "iopub.execute_input": "2024-03-20T19:52:49.904826Z",
     "iopub.status.busy": "2024-03-20T19:52:49.904343Z",
     "iopub.status.idle": "2024-03-20T19:52:49.947761Z",
     "shell.execute_reply": "2024-03-20T19:52:49.946773Z"
    },
    "papermill": {
     "duration": 0.052426,
     "end_time": "2024-03-20T19:52:49.950338",
     "exception": false,
     "start_time": "2024-03-20T19:52:49.897912",
     "status": "completed"
    },
    "tags": []
   },
   "outputs": [],
   "source": [
    "from re import sub\n",
    "from typing import List\n",
    "\n",
    "def load_text(filename:str)->List[str]:\n",
    "    '''\n",
    "        Reads the .txt file.\n",
    "        \n",
    "        Parameter\n",
    "        ---------\n",
    "        `filename`: str\n",
    "            The name of the poems file.\n",
    "            \n",
    "        Returns\n",
    "        -------\n",
    "        A list containing each strophe's content.\n",
    "    '''\n",
    "    with open(f'/kaggle/input/poe-vs-frost/{filename}', 'r') as f:\n",
    "        strophe_delim = '\\n\\n'\n",
    "        return sub('\\n\\u2009\\n', strophe_delim, f.read()).split(strophe_delim)\n",
    "    \n",
    "txt_frost = load_text('05_robert_frost.txt')\n",
    "txt_poe = load_text('05_edgar_allan_poe.txt')"
   ]
  },
  {
   "cell_type": "code",
   "execution_count": 2,
   "id": "90b6eb5c",
   "metadata": {
    "execution": {
     "iopub.execute_input": "2024-03-20T19:52:49.963752Z",
     "iopub.status.busy": "2024-03-20T19:52:49.962796Z",
     "iopub.status.idle": "2024-03-20T19:52:49.969022Z",
     "shell.execute_reply": "2024-03-20T19:52:49.967766Z"
    },
    "papermill": {
     "duration": 0.015887,
     "end_time": "2024-03-20T19:52:49.971500",
     "exception": false,
     "start_time": "2024-03-20T19:52:49.955613",
     "status": "completed"
    },
    "tags": []
   },
   "outputs": [
    {
     "name": "stdout",
     "output_type": "stream",
     "text": [
      "Two roads diverged in a yellow wood,\n",
      "And sorry I could not travel both\n",
      "And be one traveler, long I stood\n",
      "And looked down one as far as I could\n",
      "To where it bent in the undergrowth; \n"
     ]
    }
   ],
   "source": [
    "# Note that the variables are lists of strophes content. \n",
    "print(txt_frost[0])"
   ]
  },
  {
   "cell_type": "markdown",
   "id": "b4c0fe63",
   "metadata": {
    "papermill": {
     "duration": 0.01001,
     "end_time": "2024-03-20T19:52:49.986508",
     "exception": false,
     "start_time": "2024-03-20T19:52:49.976498",
     "status": "completed"
    },
    "tags": []
   },
   "source": [
    "## Datasets split\n",
    "* As in any Data Science project, we'll have to split our sets in two partitions. One dedicated to training our models and the other one to simply estimate the algorithm's performance in deployment scenario."
   ]
  },
  {
   "cell_type": "code",
   "execution_count": 3,
   "id": "acbaa68d",
   "metadata": {
    "execution": {
     "iopub.execute_input": "2024-03-20T19:52:49.998265Z",
     "iopub.status.busy": "2024-03-20T19:52:49.997350Z",
     "iopub.status.idle": "2024-03-20T19:52:51.532941Z",
     "shell.execute_reply": "2024-03-20T19:52:51.531943Z"
    },
    "papermill": {
     "duration": 1.544603,
     "end_time": "2024-03-20T19:52:51.535514",
     "exception": false,
     "start_time": "2024-03-20T19:52:49.990911",
     "status": "completed"
    },
    "tags": []
   },
   "outputs": [],
   "source": [
    "from sklearn.model_selection import train_test_split\n",
    "train_poe, test_poe = train_test_split(txt_poe, train_size=.75, random_state=42)\n",
    "train_frost, test_frost = train_test_split(txt_frost, train_size=.75, random_state=42)"
   ]
  },
  {
   "cell_type": "code",
   "execution_count": 4,
   "id": "c785416e",
   "metadata": {
    "execution": {
     "iopub.execute_input": "2024-03-20T19:52:51.547028Z",
     "iopub.status.busy": "2024-03-20T19:52:51.546093Z",
     "iopub.status.idle": "2024-03-20T19:52:51.554728Z",
     "shell.execute_reply": "2024-03-20T19:52:51.553576Z"
    },
    "papermill": {
     "duration": 0.017632,
     "end_time": "2024-03-20T19:52:51.557535",
     "exception": false,
     "start_time": "2024-03-20T19:52:51.539903",
     "status": "completed"
    },
    "tags": []
   },
   "outputs": [
    {
     "data": {
      "text/plain": [
       "0.6460176991150443"
      ]
     },
     "execution_count": 4,
     "metadata": {},
     "output_type": "execute_result"
    }
   ],
   "source": [
    "# Note that we are dealing with an unbalanced dataset.\n",
    "len(txt_frost)/ (len(txt_poe)+len(txt_frost))"
   ]
  },
  {
   "cell_type": "markdown",
   "id": "38bccf9a",
   "metadata": {
    "papermill": {
     "duration": 0.004293,
     "end_time": "2024-03-20T19:52:51.566465",
     "exception": false,
     "start_time": "2024-03-20T19:52:51.562172",
     "status": "completed"
    },
    "tags": []
   },
   "source": [
    "## Fitting our Models\n",
    "* Let's use the class below in order to generate the $A$'s and $\\pi$'s of our models."
   ]
  },
  {
   "cell_type": "code",
   "execution_count": 5,
   "id": "fcd44528",
   "metadata": {
    "execution": {
     "iopub.execute_input": "2024-03-20T19:52:51.577537Z",
     "iopub.status.busy": "2024-03-20T19:52:51.577091Z",
     "iopub.status.idle": "2024-03-20T19:52:53.270823Z",
     "shell.execute_reply": "2024-03-20T19:52:53.269542Z"
    },
    "papermill": {
     "duration": 1.702438,
     "end_time": "2024-03-20T19:52:53.273680",
     "exception": false,
     "start_time": "2024-03-20T19:52:51.571242",
     "status": "completed"
    },
    "tags": []
   },
   "outputs": [],
   "source": [
    "import pandas as pd\n",
    "import numpy as np\n",
    "from nltk.tokenize import word_tokenize\n",
    "from typing import List\n",
    "\n",
    "class MarkovModel:\n",
    "    '''\n",
    "       Markov Model, with Add-Epsilon Smoothing.\n",
    "\n",
    "        Parameters\n",
    "        ---------\n",
    "        `corpus`: List[str]\n",
    "            List with the documents to be used.\n",
    "        `epsilon`: float\n",
    "            Smoothing degree of the probabilities.\n",
    "            \n",
    "        Methods\n",
    "        ------\n",
    "        `fit`: Generates the model's A and pi.\n",
    "        \n",
    "        Attributes\n",
    "        ----------\n",
    "        `a`: `pd.DataFrame`\n",
    "            The model's A matrix.\n",
    "        `_a`: Dict[str, Dict[str, int]]\n",
    "            A Dictionary mapping the number of occurences a given state transition happened.\n",
    "        `pi`: `pd.Series`\n",
    "            The model's pi vector.\n",
    "        `_pi`: Dict[str, int]\n",
    "            A dictionary informing the amount of times a given token started a sentence.\n",
    "    '''\n",
    "    def __init__(self, corpus:List[str], epsilon:float):\n",
    "        self.corpus = self.split_corpus(corpus)\n",
    "        self.corpus_length = len(self.corpus)\n",
    "        self.epsilon = epsilon\n",
    "\n",
    "    @staticmethod\n",
    "    def split_corpus(corpus:List[str])->List[List[str]]:\n",
    "        '''\n",
    "            Tokenizes the corpus' documents.\n",
    "            \n",
    "            Parameter\n",
    "            ---------\n",
    "            `corpus`: List[str]\n",
    "                A list with each of the corpus' documents.\n",
    "                \n",
    "            Returns\n",
    "            -------\n",
    "            A list of the documents tokens.\n",
    "        '''\n",
    "        return [word_tokenize(document.lower()) for document in corpus]\n",
    "\n",
    "    def __vocab(self)->set:\n",
    "        '''\n",
    "            Extraction of all the corpus tokens. Disregarding the ones only used as first word of the strophes.\n",
    "        '''\n",
    "        vocab = []\n",
    "        for doc in self.corpus:\n",
    "            vocab+=doc[1:] # Not including the first tokens.\n",
    "        return set(vocab)\n",
    "        \n",
    "\n",
    "    def __pi(self):\n",
    "        '''\n",
    "            Encharged for measuring the model's pi vector.\n",
    "        '''\n",
    "        self._pi = {}\n",
    "        m = self.a.shape[0]\n",
    "        \n",
    "        for doc in self.corpus:\n",
    "            i = doc[0]\n",
    "            if i not in self._pi.keys():\n",
    "                self._pi[i] = 1\n",
    "            else:\n",
    "                self._pi[i]+=1\n",
    "        \n",
    "        self._pi['<UNKNOWN>'] = 0 # Defining a key for possible tokens of the test set that were unseen during training.\n",
    "        self.pi =  (pd.Series(self._pi)+self.epsilon) / (self.corpus_length+self.epsilon*m)\n",
    "        \n",
    "    def __a(self):\n",
    "        '''\n",
    "            Measures the model's A matrix.\n",
    "        '''\n",
    "        self._a = {j:{} for j in self.__vocab()}\n",
    "        for doc in self.corpus:\n",
    "            for idx, j in enumerate(doc[1:], start=1):\n",
    "                d_j = self._a[j]\n",
    "                i = doc[idx-1]\n",
    "                if i not in d_j.keys():\n",
    "                    d_j[i] = 1\n",
    "                else:\n",
    "                    d_j[i] += 1\n",
    "        self._a['<UNKNOWN>'] = {'<UNKNOWN>':0}\n",
    "        a = pd.DataFrame(self._a).fillna(0)\n",
    "        #a.loc['<UNKNOWN>'] = 0\n",
    "        #a['<UNKNOWN>'] = 0\n",
    "        num = (a+self.epsilon)\n",
    "        denom = a.sum(axis=1, skipna=True)+a.shape[0]*self.epsilon\n",
    "        self.a =  num.div(denom, axis=0) \n",
    "\n",
    "    def fit(self):\n",
    "        self.__a()\n",
    "        self.__pi()"
   ]
  },
  {
   "cell_type": "markdown",
   "id": "16c6839a",
   "metadata": {
    "execution": {
     "iopub.execute_input": "2024-03-18T17:25:44.810198Z",
     "iopub.status.busy": "2024-03-18T17:25:44.809340Z",
     "iopub.status.idle": "2024-03-18T17:25:44.816991Z",
     "shell.execute_reply": "2024-03-18T17:25:44.815925Z",
     "shell.execute_reply.started": "2024-03-18T17:25:44.810156Z"
    },
    "papermill": {
     "duration": 0.004147,
     "end_time": "2024-03-20T19:52:53.282429",
     "exception": false,
     "start_time": "2024-03-20T19:52:53.278282",
     "status": "completed"
    },
    "tags": []
   },
   "source": [
    "<p style='color:red'> Programa `predict` da classe; Treinar os modelos</p>"
   ]
  }
 ],
 "metadata": {
  "kaggle": {
   "accelerator": "none",
   "dataSources": [
    {
     "datasetId": 4623586,
     "sourceId": 7878148,
     "sourceType": "datasetVersion"
    }
   ],
   "dockerImageVersionId": 30664,
   "isGpuEnabled": false,
   "isInternetEnabled": true,
   "language": "python",
   "sourceType": "notebook"
  },
  "kernelspec": {
   "display_name": "Python 3",
   "language": "python",
   "name": "python3"
  },
  "language_info": {
   "codemirror_mode": {
    "name": "ipython",
    "version": 3
   },
   "file_extension": ".py",
   "mimetype": "text/x-python",
   "name": "python",
   "nbconvert_exporter": "python",
   "pygments_lexer": "ipython3",
   "version": "3.10.13"
  },
  "papermill": {
   "default_parameters": {},
   "duration": 7.413575,
   "end_time": "2024-03-20T19:52:54.009514",
   "environment_variables": {},
   "exception": null,
   "input_path": "__notebook__.ipynb",
   "output_path": "__notebook__.ipynb",
   "parameters": {},
   "start_time": "2024-03-20T19:52:46.595939",
   "version": "2.5.0"
  }
 },
 "nbformat": 4,
 "nbformat_minor": 5
}
