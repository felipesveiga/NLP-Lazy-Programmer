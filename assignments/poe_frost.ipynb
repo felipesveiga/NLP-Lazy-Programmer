{
 "cells": [
  {
   "cell_type": "markdown",
   "id": "67dac522",
   "metadata": {
    "papermill": {
     "duration": 0.006283,
     "end_time": "2024-03-29T21:13:45.359501",
     "exception": false,
     "start_time": "2024-03-29T21:13:45.353218",
     "status": "completed"
    },
    "tags": []
   },
   "source": [
    "# Poe x Frost \n",
    "* This project aims to conceive a classification strategy of differentiating Edgar Allan Poe's poems from Robert Frost's. We'll conduct the experiment by training two separate Markov Models, each of them calibrated with the poems of one of the poets.\n",
    "* Then, given the $p(\\text{text}|\\text{author})$ returned by the models, we'll apply the Bayes' Theorem to compute $p(\\text{author}|\\text{text})$ to receive the final prediction."
   ]
  },
  {
   "cell_type": "markdown",
   "id": "39bfc851",
   "metadata": {
    "papermill": {
     "duration": 0.005417,
     "end_time": "2024-03-29T21:13:45.371013",
     "exception": false,
     "start_time": "2024-03-29T21:13:45.365596",
     "status": "completed"
    },
    "tags": []
   },
   "source": [
    "## Loading the Documents"
   ]
  },
  {
   "cell_type": "code",
   "execution_count": 1,
   "id": "4fdff1f8",
   "metadata": {
    "execution": {
     "iopub.execute_input": "2024-03-29T21:13:45.385130Z",
     "iopub.status.busy": "2024-03-29T21:13:45.384511Z",
     "iopub.status.idle": "2024-03-29T21:13:45.422109Z",
     "shell.execute_reply": "2024-03-29T21:13:45.420966Z"
    },
    "papermill": {
     "duration": 0.048046,
     "end_time": "2024-03-29T21:13:45.424833",
     "exception": false,
     "start_time": "2024-03-29T21:13:45.376787",
     "status": "completed"
    },
    "tags": []
   },
   "outputs": [],
   "source": [
    "from re import sub\n",
    "from typing import List\n",
    "\n",
    "def load_text(filename:str)->List[str]:\n",
    "    '''\n",
    "        Reads the .txt file.\n",
    "        \n",
    "        Parameter\n",
    "        ---------\n",
    "        `filename`: str\n",
    "            The name of the poems file.\n",
    "            \n",
    "        Returns\n",
    "        -------\n",
    "        A list containing each strophe's content.\n",
    "    '''\n",
    "    with open(f'/kaggle/input/poe-vs-frost/{filename}', 'r') as f:\n",
    "        strophe_delim = '\\n\\n'\n",
    "        return sub('\\n\\u2009\\n', strophe_delim, f.read()).split(strophe_delim)\n",
    "    \n",
    "txt_frost = load_text('05_robert_frost.txt')\n",
    "txt_poe = load_text('05_edgar_allan_poe.txt')"
   ]
  },
  {
   "cell_type": "code",
   "execution_count": 2,
   "id": "6b104ca9",
   "metadata": {
    "execution": {
     "iopub.execute_input": "2024-03-29T21:13:45.438959Z",
     "iopub.status.busy": "2024-03-29T21:13:45.438171Z",
     "iopub.status.idle": "2024-03-29T21:13:45.444880Z",
     "shell.execute_reply": "2024-03-29T21:13:45.443164Z"
    },
    "papermill": {
     "duration": 0.016607,
     "end_time": "2024-03-29T21:13:45.447556",
     "exception": false,
     "start_time": "2024-03-29T21:13:45.430949",
     "status": "completed"
    },
    "tags": []
   },
   "outputs": [
    {
     "name": "stdout",
     "output_type": "stream",
     "text": [
      "Two roads diverged in a yellow wood,\n",
      "And sorry I could not travel both\n",
      "And be one traveler, long I stood\n",
      "And looked down one as far as I could\n",
      "To where it bent in the undergrowth; \n"
     ]
    }
   ],
   "source": [
    "# Note that the variables are lists of strophes content. \n",
    "print(txt_frost[0])"
   ]
  },
  {
   "cell_type": "markdown",
   "id": "5ccd5dc9",
   "metadata": {
    "papermill": {
     "duration": 0.005517,
     "end_time": "2024-03-29T21:13:45.458981",
     "exception": false,
     "start_time": "2024-03-29T21:13:45.453464",
     "status": "completed"
    },
    "tags": []
   },
   "source": [
    "## Datasets split\n",
    "* As in any Data Science project, we'll have to split our sets in two partitions. One dedicated to training our models and the other one to simply estimate the algorithm's performance in deployment scenario."
   ]
  },
  {
   "cell_type": "code",
   "execution_count": 3,
   "id": "71484f41",
   "metadata": {
    "execution": {
     "iopub.execute_input": "2024-03-29T21:13:45.473112Z",
     "iopub.status.busy": "2024-03-29T21:13:45.472469Z",
     "iopub.status.idle": "2024-03-29T21:13:47.108399Z",
     "shell.execute_reply": "2024-03-29T21:13:47.107055Z"
    },
    "papermill": {
     "duration": 1.646924,
     "end_time": "2024-03-29T21:13:47.111830",
     "exception": false,
     "start_time": "2024-03-29T21:13:45.464906",
     "status": "completed"
    },
    "tags": []
   },
   "outputs": [],
   "source": [
    "from sklearn.model_selection import train_test_split\n",
    "train_poe, test_poe = train_test_split(txt_poe, train_size=.75, random_state=42)\n",
    "train_frost, test_frost = train_test_split(txt_frost, train_size=.75, random_state=42)"
   ]
  },
  {
   "cell_type": "code",
   "execution_count": 4,
   "id": "2fcad23c",
   "metadata": {
    "execution": {
     "iopub.execute_input": "2024-03-29T21:13:47.126968Z",
     "iopub.status.busy": "2024-03-29T21:13:47.126382Z",
     "iopub.status.idle": "2024-03-29T21:13:47.135098Z",
     "shell.execute_reply": "2024-03-29T21:13:47.133822Z"
    },
    "papermill": {
     "duration": 0.019831,
     "end_time": "2024-03-29T21:13:47.138127",
     "exception": false,
     "start_time": "2024-03-29T21:13:47.118296",
     "status": "completed"
    },
    "tags": []
   },
   "outputs": [
    {
     "data": {
      "text/plain": [
       "0.6460176991150443"
      ]
     },
     "execution_count": 4,
     "metadata": {},
     "output_type": "execute_result"
    }
   ],
   "source": [
    "# Note that we are dealing with an unbalanced dataset.\n",
    "len(txt_frost)/ (len(txt_poe)+len(txt_frost))"
   ]
  },
  {
   "cell_type": "code",
   "execution_count": 5,
   "id": "26b7fafb",
   "metadata": {
    "execution": {
     "iopub.execute_input": "2024-03-29T21:13:47.152591Z",
     "iopub.status.busy": "2024-03-29T21:13:47.151815Z",
     "iopub.status.idle": "2024-03-29T21:13:47.157484Z",
     "shell.execute_reply": "2024-03-29T21:13:47.156613Z"
    },
    "papermill": {
     "duration": 0.01592,
     "end_time": "2024-03-29T21:13:47.160092",
     "exception": false,
     "start_time": "2024-03-29T21:13:47.144172",
     "status": "completed"
    },
    "tags": []
   },
   "outputs": [],
   "source": [
    "# Let's store each class' probability in a dictionary.\n",
    "proba_frost = len(txt_frost)/ (len(txt_poe)+len(txt_frost))\n",
    "probas = {'frost':proba_frost, 'poe':(1-proba_frost)}"
   ]
  },
  {
   "cell_type": "markdown",
   "id": "860b79ba",
   "metadata": {
    "papermill": {
     "duration": 0.005857,
     "end_time": "2024-03-29T21:13:47.172094",
     "exception": false,
     "start_time": "2024-03-29T21:13:47.166237",
     "status": "completed"
    },
    "tags": []
   },
   "source": [
    "## Fitting our Models\n",
    "* Let's use the class below in order to generate the $A$'s and $\\pi$'s of our models."
   ]
  },
  {
   "cell_type": "code",
   "execution_count": 6,
   "id": "e5247a73",
   "metadata": {
    "execution": {
     "iopub.execute_input": "2024-03-29T21:13:47.186477Z",
     "iopub.status.busy": "2024-03-29T21:13:47.185686Z",
     "iopub.status.idle": "2024-03-29T21:13:48.970185Z",
     "shell.execute_reply": "2024-03-29T21:13:48.968944Z"
    },
    "papermill": {
     "duration": 1.795186,
     "end_time": "2024-03-29T21:13:48.973280",
     "exception": false,
     "start_time": "2024-03-29T21:13:47.178094",
     "status": "completed"
    },
    "tags": []
   },
   "outputs": [],
   "source": [
    "import pandas as pd\n",
    "import numpy as np\n",
    "from nltk.tokenize import word_tokenize\n",
    "from typing import List, Tuple\n",
    "\n",
    "class MarkovModel:\n",
    "    '''\n",
    "       Markov Model, with Add-Epsilon Smoothing.\n",
    "\n",
    "        Parameters\n",
    "        ---------\n",
    "        `corpus`: List[str]\n",
    "            List with the documents to be used.\n",
    "        `epsilon`: float\n",
    "            Smoothing degree of the probabilities.\n",
    "        `name`: str\n",
    "            A name for your model.\n",
    "            \n",
    "        Methods\n",
    "        ------\n",
    "        `fit`: Generates the model's A and pi.\n",
    "        `predict_log_proba`: Estimates the probability's log of a given sequence.\n",
    "        \n",
    "        \n",
    "        Attributes\n",
    "        ----------\n",
    "        `a`: `pd.DataFrame`\n",
    "            The model's A matrix.\n",
    "        `_a`: Dict[str, Dict[str, int]]\n",
    "            A Dictionary mapping the number of occurences a given state transition happened.\n",
    "        `pi`: `pd.Series`\n",
    "            The model's pi vector.\n",
    "        `_pi`: Dict[str, int]\n",
    "            A dictionary informing the amount of times a given token started a sentence.\n",
    "        `_vocab`: Set[str]\n",
    "            A set object with all the corpus's vocabulary.\n",
    "    '''\n",
    "    def __init__(self, corpus:List[str], epsilon:float, name:str):\n",
    "        self.corpus = self.split_corpus(corpus)\n",
    "        self.corpus_length = len(self.corpus)\n",
    "        self.epsilon = epsilon\n",
    "        self.name = name\n",
    "\n",
    "    @staticmethod\n",
    "    def split_corpus(corpus:List[str])->List[List[str]]:\n",
    "        '''\n",
    "            Tokenizes the corpus' documents.\n",
    "            \n",
    "            Parameter\n",
    "            ---------\n",
    "            `corpus`: List[str]\n",
    "                A list with each of the corpus' documents.\n",
    "                \n",
    "            Returns\n",
    "            -------\n",
    "            A list of the documents tokens.\n",
    "        '''\n",
    "        return [word_tokenize(document.lower()) for document in corpus]\n",
    "    \n",
    "    def __vocab(self)->None:\n",
    "        '''\n",
    "            Extraction of all the corpus tokens.\n",
    "            \n",
    "            We create a set with all training tokens and another one disregarding the ones only used as first word of the strophes.\n",
    "        '''\n",
    "        self._vocab, self._a_vocab = [], []\n",
    "        \n",
    "        for doc in self.corpus:\n",
    "            self._vocab += doc\n",
    "            self._a_vocab+=doc[1:] # Not including the first tokens.\n",
    "            \n",
    "        self._vocab, self._a_vocab = set(self._vocab), set(self._a_vocab)        \n",
    "    \n",
    "    def __check_pi(self, token:str)->str:\n",
    "        '''\n",
    "            Masks a sentence's first token with '<UNKNOWN>' mark if it is not included in the training set.\n",
    "            \n",
    "            Parameter\n",
    "            ---------\n",
    "            `token`: str\n",
    "                The sentence's first token under scrutiny\n",
    "            \n",
    "            Returns\n",
    "            -------\n",
    "            The treated token.\n",
    "        '''\n",
    "        return token if token in self._pi else '<UNKNOWN>'\n",
    "    \n",
    "    def __check_a(self, token1:str, token2:str)->Tuple[str]:\n",
    "        '''\n",
    "            When querying the model's A matrix, checks whether the provided initial and target states are present. If not,\n",
    "            the tokens are masked with the flag '<UNKNOWN>'.\n",
    "            \n",
    "            Parameters\n",
    "            ----------\n",
    "            `token1`: str\n",
    "                The initial state.\n",
    "            `token2`: str\n",
    "                The target state.\n",
    "            \n",
    "            Returns\n",
    "            -------\n",
    "            The treated tokens inside a tuple.\n",
    "        '''\n",
    "        token1 = token1 if token1 in self.a.index else '<UNKNOWN>'\n",
    "        token2 = token2 if token2 in self.a.columns else '<UNKNOWN>'\n",
    "        return token1, token2\n",
    "    \n",
    "    def __pi(self):\n",
    "        '''\n",
    "            Encharged for measuring the model's pi vector.\n",
    "        '''\n",
    "        self._pi = {}\n",
    "        m = self.a.shape[0]\n",
    "        \n",
    "        for doc in self.corpus:\n",
    "            i = doc[0]\n",
    "            if i not in self._pi.keys():\n",
    "                self._pi[i] = 1\n",
    "            else:\n",
    "                self._pi[i]+=1\n",
    "        \n",
    "        self._pi['<UNKNOWN>'] = 0 # Defining a key for possible tokens of the test set that were unseen during training.\n",
    "        self.pi =  (pd.Series(self._pi)+self.epsilon) / (self.corpus_length+self.epsilon*m)\n",
    "        \n",
    "    def __a(self):\n",
    "        '''\n",
    "            Measures the model's A matrix.\n",
    "        '''\n",
    "        self._a = {j:{} for j in self._a_vocab}\n",
    "        for doc in self.corpus:\n",
    "            for idx, j in enumerate(doc[1:], start=1):\n",
    "                d_j = self._a[j]\n",
    "                i = doc[idx-1]\n",
    "                if i not in d_j.keys():\n",
    "                    d_j[i] = 1\n",
    "                else:\n",
    "                    d_j[i] += 1\n",
    "        self._a['<UNKNOWN>'] = {'<UNKNOWN>':0}\n",
    "        a = pd.DataFrame(self._a).fillna(0)\n",
    "        num = (a+self.epsilon)\n",
    "        denom = a.sum(axis=1, skipna=True)+a.shape[0]*self.epsilon\n",
    "        self.a =  num.div(denom, axis=0) \n",
    "        \n",
    "\n",
    "    def fit(self):\n",
    "        '''\n",
    "            Fits the algorithm to the provided corpus.\n",
    "        '''\n",
    "        self.__vocab()\n",
    "        self.__a()\n",
    "        self.__pi()\n",
    "        return self\n",
    "    \n",
    "    def predict_log_proba(self, text:str)->float:\n",
    "        '''\n",
    "            Estimates the probability's log of a given sequence.\n",
    "            \n",
    "            Parameter\n",
    "            ---------\n",
    "            `text`: str\n",
    "                The text whose probability needs to be computed.\n",
    "            \n",
    "            Returns\n",
    "            -------\n",
    "            The sequence's log probability.\n",
    "        '''\n",
    "        text = word_tokenize(text.lower())\n",
    "        proba_pi = np.log(self.pi[self.__check_pi(text[0])])\n",
    "        proba_a = np.log([self.a.loc[self.__check_a(text[i], text[i+1])] for i, _ in enumerate(text[:-1])]) \n",
    "        return proba_pi + np.sum(proba_a)                                                   \n",
    "    \n",
    "    def predict_proba(self, text:str)->float:\n",
    "        '''\n",
    "            Estimates the probability of a given sequence.\n",
    "            \n",
    "            *Note:* There is a risk of the output to be 0 for long sequences.\n",
    "            \n",
    "            Parameter\n",
    "            ---------\n",
    "            `text`: str\n",
    "                The text whose probability needs to be computed.\n",
    "            \n",
    "            Returns\n",
    "            -------\n",
    "            The sequence's probability.\n",
    "        '''\n",
    "        return np.exp(self.predict_log_proba(text))\n",
    "    \n",
    "    def predict_log_proba_author(self, text:str)->float:\n",
    "        '''\n",
    "            Measures the likelihood that a given text was written by the model's author by Bayes' Theorem.\n",
    "            \n",
    "            Parameter\n",
    "            ---------\n",
    "            `text`: str\n",
    "                The text under scrutiny.\n",
    "            \n",
    "            Returns\n",
    "            -------\n",
    "            The computed probability.\n",
    "        '''\n",
    "        global probas\n",
    "        return self.predict_log_proba(text) + np.log(probas[self.name])"
   ]
  },
  {
   "cell_type": "code",
   "execution_count": 7,
   "id": "b770c138",
   "metadata": {
    "execution": {
     "iopub.execute_input": "2024-03-29T21:13:48.987522Z",
     "iopub.status.busy": "2024-03-29T21:13:48.986940Z",
     "iopub.status.idle": "2024-03-29T21:13:50.292196Z",
     "shell.execute_reply": "2024-03-29T21:13:50.291115Z"
    },
    "papermill": {
     "duration": 1.315594,
     "end_time": "2024-03-29T21:13:50.295178",
     "exception": false,
     "start_time": "2024-03-29T21:13:48.979584",
     "status": "completed"
    },
    "tags": []
   },
   "outputs": [],
   "source": [
    "# Finally fitting our Markov Models.\n",
    "model_frost = MarkovModel(train_frost, 1, 'frost').fit()\n",
    "model_poe = MarkovModel(train_poe, 1, 'poe').fit()"
   ]
  },
  {
   "cell_type": "markdown",
   "id": "e8ad5384",
   "metadata": {
    "papermill": {
     "duration": 0.005702,
     "end_time": "2024-03-29T21:13:50.306944",
     "exception": false,
     "start_time": "2024-03-29T21:13:50.301242",
     "status": "completed"
    },
    "tags": []
   },
   "source": [
    "## Evaluation Stage\n",
    "* Now, we are able to use our fitted models in order to predict the probability a given stranza was written by Edgar Allan Poe or Robert Frost."
   ]
  },
  {
   "cell_type": "code",
   "execution_count": 8,
   "id": "eb8e873e",
   "metadata": {
    "execution": {
     "iopub.execute_input": "2024-03-29T21:13:50.321240Z",
     "iopub.status.busy": "2024-03-29T21:13:50.320790Z",
     "iopub.status.idle": "2024-03-29T21:13:50.331594Z",
     "shell.execute_reply": "2024-03-29T21:13:50.330298Z"
    },
    "papermill": {
     "duration": 0.021243,
     "end_time": "2024-03-29T21:13:50.334126",
     "exception": false,
     "start_time": "2024-03-29T21:13:50.312883",
     "status": "completed"
    },
    "tags": []
   },
   "outputs": [],
   "source": [
    "# I'm creating this object to automatize the assessement.\n",
    "from sklearn.metrics import f1_score\n",
    "\n",
    "class Evaluator:\n",
    "    '''\n",
    "        This object handles the evaluation of our models' predictions.\n",
    "        \n",
    "        Parameters\n",
    "        ----------\n",
    "        `model_frost`: MarkovModel\n",
    "            The Markov Model fitted with Robert Forst's stranzas.\n",
    "        `model_poe`: MarkovPoe\n",
    "            The Markov Model fitted with Edgar Allan Poe's stranzas.\n",
    "            \n",
    "        Methods\n",
    "        -------\n",
    "        `predict` Performs the author predictions for a given text.\n",
    "        `f1_score`: Evaluates the f1-score for the predictions of a given set of texts.\n",
    "    '''\n",
    "    def __init__(self, model_frost:MarkovModel, model_poe:MarkovModel):\n",
    "        self.model_frost = model_frost\n",
    "        self.model_poe = model_poe\n",
    "    \n",
    "    def predict(self, text:str)->int:\n",
    "        '''\n",
    "            Predicts a given text's author (0='Robert Frost'; 1='Edgar Allan Poe')\n",
    "            \n",
    "            Parameter\n",
    "            ---------\n",
    "            `text`: str\n",
    "                The strophe which author will be predicted.\n",
    "                \n",
    "            Returns\n",
    "            -------\n",
    "            The predicted author's code.\n",
    "        '''\n",
    "        predictions = [self.model_frost.predict_log_proba_author(text), self.model_poe.predict_log_proba_author(text)]\n",
    "        return np.argmax(predictions)\n",
    "    \n",
    "    def f1_score(self, texts:List[str], targets:List[int])->float:\n",
    "        '''\n",
    "            Measures the f1-score for the predictions of a given batch of texts.\n",
    "            \n",
    "            Parameters\n",
    "            ----------\n",
    "            `texts`: List[str]\n",
    "                The batch of texts.\n",
    "            `targets`: List[int]\n",
    "                The list of targets that will base the f1-score measurement.\n",
    "            \n",
    "            Returns\n",
    "            -------\n",
    "            The f1-score.\n",
    "        '''\n",
    "        predictions = list(map(self.predict, texts))\n",
    "        return f1_score(targets, predictions)"
   ]
  },
  {
   "cell_type": "code",
   "execution_count": 9,
   "id": "bf727275",
   "metadata": {
    "execution": {
     "iopub.execute_input": "2024-03-29T21:13:50.349137Z",
     "iopub.status.busy": "2024-03-29T21:13:50.348718Z",
     "iopub.status.idle": "2024-03-29T21:13:51.742648Z",
     "shell.execute_reply": "2024-03-29T21:13:51.741464Z"
    },
    "papermill": {
     "duration": 1.404626,
     "end_time": "2024-03-29T21:13:51.745422",
     "exception": false,
     "start_time": "2024-03-29T21:13:50.340796",
     "status": "completed"
    },
    "tags": []
   },
   "outputs": [
    {
     "data": {
      "text/plain": [
       "1.0"
      ]
     },
     "execution_count": 9,
     "metadata": {},
     "output_type": "execute_result"
    }
   ],
   "source": [
    "# Training performance. Note the models have overfitted the training sets!\n",
    "Evaluator(model_frost, model_poe).f1_score(train_frost+train_poe, [0 for _ in train_frost]+[1 for _ in train_poe])"
   ]
  },
  {
   "cell_type": "code",
   "execution_count": 10,
   "id": "6f8917b2",
   "metadata": {
    "execution": {
     "iopub.execute_input": "2024-03-29T21:13:51.760359Z",
     "iopub.status.busy": "2024-03-29T21:13:51.759402Z",
     "iopub.status.idle": "2024-03-29T21:13:52.030638Z",
     "shell.execute_reply": "2024-03-29T21:13:52.029422Z"
    },
    "papermill": {
     "duration": 0.281252,
     "end_time": "2024-03-29T21:13:52.032985",
     "exception": false,
     "start_time": "2024-03-29T21:13:51.751733",
     "status": "completed"
    },
    "tags": []
   },
   "outputs": [
    {
     "data": {
      "text/plain": [
       "0.5797101449275363"
      ]
     },
     "execution_count": 10,
     "metadata": {},
     "output_type": "execute_result"
    }
   ],
   "source": [
    "# The score drops down substantially with the test set!\n",
    "Evaluator(model_frost, model_poe).f1_score(test_frost+test_poe, [0 for _ in test_frost]+[1 for _ in test_poe])"
   ]
  }
 ],
 "metadata": {
  "kaggle": {
   "accelerator": "none",
   "dataSources": [
    {
     "datasetId": 4623586,
     "sourceId": 7878148,
     "sourceType": "datasetVersion"
    }
   ],
   "dockerImageVersionId": 30664,
   "isGpuEnabled": false,
   "isInternetEnabled": true,
   "language": "python",
   "sourceType": "notebook"
  },
  "kernelspec": {
   "display_name": "Python 3",
   "language": "python",
   "name": "python3"
  },
  "language_info": {
   "codemirror_mode": {
    "name": "ipython",
    "version": 3
   },
   "file_extension": ".py",
   "mimetype": "text/x-python",
   "name": "python",
   "nbconvert_exporter": "python",
   "pygments_lexer": "ipython3",
   "version": "3.10.13"
  },
  "papermill": {
   "default_parameters": {},
   "duration": 10.818822,
   "end_time": "2024-03-29T21:13:52.761545",
   "environment_variables": {},
   "exception": null,
   "input_path": "__notebook__.ipynb",
   "output_path": "__notebook__.ipynb",
   "parameters": {},
   "start_time": "2024-03-29T21:13:41.942723",
   "version": "2.5.0"
  }
 },
 "nbformat": 4,
 "nbformat_minor": 5
}
