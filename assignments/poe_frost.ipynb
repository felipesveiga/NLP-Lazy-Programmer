{
 "cells": [
  {
   "cell_type": "markdown",
   "id": "05eb1920",
   "metadata": {
    "papermill": {
     "duration": 0.004142,
     "end_time": "2024-03-19T14:44:58.988933",
     "exception": false,
     "start_time": "2024-03-19T14:44:58.984791",
     "status": "completed"
    },
    "tags": []
   },
   "source": [
    "# Poe x Frost \n",
    "* This project aims to conceive a classification strategy of differentiating Edgar Allan Poe's poems from Robert Frost's. We'll conduct the experiment by training two separate Markov Models, each of them calibrated with the poems of one of the poets.\n",
    "* Then, given the $p(\\text{text}|\\text{author})$ returned by the models, we'll apply the Bayes' Theorem to compute $p(\\text{author}|\\text{text})$ to receive the final prediction."
   ]
  },
  {
   "cell_type": "markdown",
   "id": "3a872a1e",
   "metadata": {
    "papermill": {
     "duration": 0.003339,
     "end_time": "2024-03-19T14:44:58.995923",
     "exception": false,
     "start_time": "2024-03-19T14:44:58.992584",
     "status": "completed"
    },
    "tags": []
   },
   "source": [
    "## Loading the Documents"
   ]
  },
  {
   "cell_type": "code",
   "execution_count": 1,
   "id": "d055f5fd",
   "metadata": {
    "execution": {
     "iopub.execute_input": "2024-03-19T14:44:59.005539Z",
     "iopub.status.busy": "2024-03-19T14:44:59.005094Z",
     "iopub.status.idle": "2024-03-19T14:44:59.036235Z",
     "shell.execute_reply": "2024-03-19T14:44:59.034560Z"
    },
    "papermill": {
     "duration": 0.039669,
     "end_time": "2024-03-19T14:44:59.039481",
     "exception": false,
     "start_time": "2024-03-19T14:44:58.999812",
     "status": "completed"
    },
    "tags": []
   },
   "outputs": [],
   "source": [
    "from re import sub\n",
    "from typing import List\n",
    "\n",
    "def load_text(filename:str)->List[str]:\n",
    "    '''\n",
    "        Reads the .txt file.\n",
    "        \n",
    "        Parameter\n",
    "        ---------\n",
    "        `filename`: str\n",
    "            The name of the poems file.\n",
    "            \n",
    "        Returns\n",
    "        -------\n",
    "        A list containing each strophe's content.\n",
    "    '''\n",
    "    with open(f'/kaggle/input/poe-vs-frost/{filename}', 'r') as f:\n",
    "        strophe_delim = '\\n\\n'\n",
    "        return sub('\\n\\u2009\\n', strophe_delim, f.read()).split(strophe_delim)\n",
    "    \n",
    "txt_frost = load_text('05_robert_frost.txt')\n",
    "txt_poe = load_text('05_edgar_allan_poe.txt')"
   ]
  },
  {
   "cell_type": "code",
   "execution_count": 2,
   "id": "67fe6747",
   "metadata": {
    "execution": {
     "iopub.execute_input": "2024-03-19T14:44:59.050332Z",
     "iopub.status.busy": "2024-03-19T14:44:59.049348Z",
     "iopub.status.idle": "2024-03-19T14:44:59.057125Z",
     "shell.execute_reply": "2024-03-19T14:44:59.055372Z"
    },
    "papermill": {
     "duration": 0.01618,
     "end_time": "2024-03-19T14:44:59.059855",
     "exception": false,
     "start_time": "2024-03-19T14:44:59.043675",
     "status": "completed"
    },
    "tags": []
   },
   "outputs": [
    {
     "name": "stdout",
     "output_type": "stream",
     "text": [
      "Two roads diverged in a yellow wood,\n",
      "And sorry I could not travel both\n",
      "And be one traveler, long I stood\n",
      "And looked down one as far as I could\n",
      "To where it bent in the undergrowth; \n"
     ]
    }
   ],
   "source": [
    "# Note that the variables are lists of strophes content. \n",
    "print(txt_frost[0])"
   ]
  },
  {
   "cell_type": "markdown",
   "id": "94548f0f",
   "metadata": {
    "papermill": {
     "duration": 0.003861,
     "end_time": "2024-03-19T14:44:59.067861",
     "exception": false,
     "start_time": "2024-03-19T14:44:59.064000",
     "status": "completed"
    },
    "tags": []
   },
   "source": [
    "## Fitting our Models\n",
    "* Let's use the class below in order to generate the $A$'s and $\\pi$'s of our models."
   ]
  },
  {
   "cell_type": "code",
   "execution_count": 3,
   "id": "79875944",
   "metadata": {
    "execution": {
     "iopub.execute_input": "2024-03-19T14:44:59.078363Z",
     "iopub.status.busy": "2024-03-19T14:44:59.077605Z",
     "iopub.status.idle": "2024-03-19T14:45:03.322550Z",
     "shell.execute_reply": "2024-03-19T14:45:03.321534Z"
    },
    "papermill": {
     "duration": 4.253944,
     "end_time": "2024-03-19T14:45:03.325767",
     "exception": false,
     "start_time": "2024-03-19T14:44:59.071823",
     "status": "completed"
    },
    "tags": []
   },
   "outputs": [],
   "source": [
    "import pandas as pd\n",
    "import numpy as np\n",
    "from nltk.tokenize import word_tokenize\n",
    "from typing import List\n",
    "\n",
    "class MarkovModel:\n",
    "    '''\n",
    "       Markov Model, with Add-Epsilon Smoothing.\n",
    "\n",
    "        Parâmetro\n",
    "        ---------\n",
    "        `corpus`: List[str]\n",
    "            List with the documents to be used.\n",
    "        `epsilon`: float\n",
    "            Smoothing degree of the probabilities..\n",
    "    '''\n",
    "    def __init__(self, corpus:List[str], epsilon:float):\n",
    "        self.corpus = self.split_corpus(corpus)\n",
    "        self.corpus_length = len(self.corpus)\n",
    "        self.epsilon = epsilon\n",
    "\n",
    "    @staticmethod\n",
    "    def split_corpus(corpus:List[str])->List[List[str]]:\n",
    "        '''\n",
    "            Tokenizes the corpus' documents.\n",
    "            \n",
    "            Parameter\n",
    "            ---------\n",
    "            `corpus`: List[str]\n",
    "                A list with each of the corpus' documents.\n",
    "                \n",
    "            Returns\n",
    "            -------\n",
    "            A list of the documents tokens.\n",
    "        '''\n",
    "        return [word_tokenize(document.lower()) for document in corpus]\n",
    "\n",
    "    def __vocab(self)->set:\n",
    "        '''\n",
    "            Extraction of all the corpus tokens. Disregarding the ones only used as first word of the strophes.\n",
    "        '''\n",
    "        vocab = []\n",
    "        for doc in self.corpus:\n",
    "            vocab+=doc[1:] # Not including the first tokens.\n",
    "        return set(vocab)\n",
    "        \n",
    "\n",
    "    def __pi(self):\n",
    "        '''\n",
    "            Encharged for measuring the model's pi vector.\n",
    "        '''\n",
    "        self._pi = {}\n",
    "        for doc in self.corpus:\n",
    "            i = doc[0]\n",
    "            if i not in self._pi.keys():\n",
    "                self._pi[i] = 1\n",
    "            else:\n",
    "                self._pi[i]+=1\n",
    "        m = self.a.shape[0]\n",
    "        self.pi =  (pd.Series(self._pi)+self.epsilon) / (self.corpus_length+self.epsilon*m)\n",
    "        \n",
    "    def __a(self):\n",
    "        '''\n",
    "            Measures the model's A matrix..\n",
    "        '''\n",
    "        self._a = {j:{} for j in self.__vocab()}\n",
    "        for doc in self.corpus:\n",
    "            for idx, j in enumerate(doc[1:], start=1):\n",
    "                d_j = self._a[j]\n",
    "                i = doc[idx-1]\n",
    "                if i not in d_j.keys():\n",
    "                    d_j[i] = 1\n",
    "                else:\n",
    "                    d_j[i] += 1\n",
    "        \n",
    "        a = pd.DataFrame(self._a).fillna(0)\n",
    "        num = (a+self.epsilon)\n",
    "        denom = a.sum(axis=1, skipna=True)+a.shape[0]*self.epsilon\n",
    "        self.a =  num.div(denom, axis=0) \n",
    "\n",
    "    def fit(self):\n",
    "        self.__a()\n",
    "        self.__pi()\n",
    "\n",
    "a = MarkovModel(txt_frost, 1)\n",
    "a.fit()"
   ]
  },
  {
   "cell_type": "code",
   "execution_count": 4,
   "id": "d9cc8d0f",
   "metadata": {
    "execution": {
     "iopub.execute_input": "2024-03-19T14:45:03.336401Z",
     "iopub.status.busy": "2024-03-19T14:45:03.335653Z",
     "iopub.status.idle": "2024-03-19T14:45:03.365248Z",
     "shell.execute_reply": "2024-03-19T14:45:03.364409Z"
    },
    "papermill": {
     "duration": 0.037774,
     "end_time": "2024-03-19T14:45:03.367791",
     "exception": false,
     "start_time": "2024-03-19T14:45:03.330017",
     "status": "completed"
    },
    "tags": []
   },
   "outputs": [
    {
     "data": {
      "text/plain": [
       "was         0.996594\n",
       "him         0.996519\n",
       "of          0.996743\n",
       "a           0.996782\n",
       "n't         0.996641\n",
       "              ...   \n",
       "hog         0.996441\n",
       "crooked     0.996441\n",
       "budded      0.996441\n",
       "drinking    0.996441\n",
       "unswept     0.996441\n",
       "Length: 2247, dtype: float64"
      ]
     },
     "execution_count": 4,
     "metadata": {},
     "output_type": "execute_result"
    }
   ],
   "source": [
    "a.a.sum(axis=1)"
   ]
  },
  {
   "cell_type": "markdown",
   "id": "113654cf",
   "metadata": {
    "execution": {
     "iopub.execute_input": "2024-03-18T17:25:44.810198Z",
     "iopub.status.busy": "2024-03-18T17:25:44.809340Z",
     "iopub.status.idle": "2024-03-18T17:25:44.816991Z",
     "shell.execute_reply": "2024-03-18T17:25:44.815925Z",
     "shell.execute_reply.started": "2024-03-18T17:25:44.810156Z"
    },
    "papermill": {
     "duration": 0.003815,
     "end_time": "2024-03-19T14:45:03.375749",
     "exception": false,
     "start_time": "2024-03-19T14:45:03.371934",
     "status": "completed"
    },
    "tags": []
   },
   "source": [
    "<p style='color:red'> Set de treino e teste para cada um dos txt's</p>"
   ]
  }
 ],
 "metadata": {
  "kaggle": {
   "accelerator": "none",
   "dataSources": [
    {
     "datasetId": 4623586,
     "sourceId": 7878148,
     "sourceType": "datasetVersion"
    }
   ],
   "dockerImageVersionId": 30664,
   "isGpuEnabled": false,
   "isInternetEnabled": true,
   "language": "python",
   "sourceType": "notebook"
  },
  "kernelspec": {
   "display_name": "Python 3",
   "language": "python",
   "name": "python3"
  },
  "language_info": {
   "codemirror_mode": {
    "name": "ipython",
    "version": 3
   },
   "file_extension": ".py",
   "mimetype": "text/x-python",
   "name": "python",
   "nbconvert_exporter": "python",
   "pygments_lexer": "ipython3",
   "version": "3.10.13"
  },
  "papermill": {
   "default_parameters": {},
   "duration": 8.324151,
   "end_time": "2024-03-19T14:45:04.204133",
   "environment_variables": {},
   "exception": null,
   "input_path": "__notebook__.ipynb",
   "output_path": "__notebook__.ipynb",
   "parameters": {},
   "start_time": "2024-03-19T14:44:55.879982",
   "version": "2.5.0"
  }
 },
 "nbformat": 4,
 "nbformat_minor": 5
}
