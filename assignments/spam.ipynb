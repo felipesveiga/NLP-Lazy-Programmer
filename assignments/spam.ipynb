{
 "cells": [
  {
   "cell_type": "markdown",
   "id": "b590b394-33c5-460e-b979-1070cc116546",
   "metadata": {},
   "source": [
    "# Naive Bayes Spam Classifier\n",
    "* This is a tiny project over the application of Naive Bayes in spam detection"
   ]
  },
  {
   "cell_type": "markdown",
   "id": "d94015c7-a047-4006-abc8-5eeefc83a3df",
   "metadata": {},
   "source": [
    "## Data Loading"
   ]
  },
  {
   "cell_type": "code",
   "execution_count": 1,
   "id": "28ec8bbb-5aac-4d43-b8dd-351d881effcd",
   "metadata": {},
   "outputs": [],
   "source": [
    "#!wget https://lazyprogrammer.me/course_files/spam.csv -P data/"
   ]
  },
  {
   "cell_type": "code",
   "execution_count": 2,
   "id": "dcb9867c-b504-4762-9ac4-f2055d1f232f",
   "metadata": {},
   "outputs": [
    {
     "data": {
      "text/html": [
       "<div>\n",
       "<style scoped>\n",
       "    .dataframe tbody tr th:only-of-type {\n",
       "        vertical-align: middle;\n",
       "    }\n",
       "\n",
       "    .dataframe tbody tr th {\n",
       "        vertical-align: top;\n",
       "    }\n",
       "\n",
       "    .dataframe thead th {\n",
       "        text-align: right;\n",
       "    }\n",
       "</style>\n",
       "<table border=\"1\" class=\"dataframe\">\n",
       "  <thead>\n",
       "    <tr style=\"text-align: right;\">\n",
       "      <th></th>\n",
       "      <th>v1</th>\n",
       "      <th>v2</th>\n",
       "    </tr>\n",
       "  </thead>\n",
       "  <tbody>\n",
       "    <tr>\n",
       "      <th>0</th>\n",
       "      <td>ham</td>\n",
       "      <td>Go until jurong point, crazy.. Available only ...</td>\n",
       "    </tr>\n",
       "    <tr>\n",
       "      <th>1</th>\n",
       "      <td>ham</td>\n",
       "      <td>Ok lar... Joking wif u oni...</td>\n",
       "    </tr>\n",
       "    <tr>\n",
       "      <th>2</th>\n",
       "      <td>spam</td>\n",
       "      <td>Free entry in 2 a wkly comp to win FA Cup fina...</td>\n",
       "    </tr>\n",
       "    <tr>\n",
       "      <th>3</th>\n",
       "      <td>ham</td>\n",
       "      <td>U dun say so early hor... U c already then say...</td>\n",
       "    </tr>\n",
       "    <tr>\n",
       "      <th>4</th>\n",
       "      <td>ham</td>\n",
       "      <td>Nah I don't think he goes to usf, he lives aro...</td>\n",
       "    </tr>\n",
       "  </tbody>\n",
       "</table>\n",
       "</div>"
      ],
      "text/plain": [
       "     v1                                                 v2\n",
       "0   ham  Go until jurong point, crazy.. Available only ...\n",
       "1   ham                      Ok lar... Joking wif u oni...\n",
       "2  spam  Free entry in 2 a wkly comp to win FA Cup fina...\n",
       "3   ham  U dun say so early hor... U c already then say...\n",
       "4   ham  Nah I don't think he goes to usf, he lives aro..."
      ]
     },
     "execution_count": 2,
     "metadata": {},
     "output_type": "execute_result"
    }
   ],
   "source": [
    "import pandas as pd\n",
    "\n",
    "df = pd.read_csv('data/spam.csv', encoding='iso-8859-1', usecols=[0,1])\n",
    "df.head()"
   ]
  },
  {
   "cell_type": "code",
   "execution_count": 3,
   "id": "22af0025-38a9-4f17-9a51-4988985a20d0",
   "metadata": {},
   "outputs": [
    {
     "data": {
      "text/plain": [
       "v1\n",
       "ham     0.865937\n",
       "spam    0.134063\n",
       "Name: proportion, dtype: float64"
      ]
     },
     "execution_count": 3,
     "metadata": {},
     "output_type": "execute_result"
    }
   ],
   "source": [
    "# Notice that we are dealing with a pretty unbalanced dataset.\n",
    "# This will require us to resort to specific quality metrics, such as f-beta. \n",
    "df['v1'].value_counts(normalize=True)"
   ]
  },
  {
   "cell_type": "markdown",
   "id": "1e3b6899-8706-4e7f-9240-4fdea5789ffc",
   "metadata": {},
   "source": [
    "## Data Treatment\n",
    "* Just applying usual treatment for ML (split, tokenization, lemmatization...)"
   ]
  },
  {
   "cell_type": "code",
   "execution_count": 4,
   "id": "d8bfd023-7550-4e09-925b-b7d402a5525f",
   "metadata": {},
   "outputs": [],
   "source": [
    "from sklearn.model_selection import train_test_split\n",
    "import numpy as np\n",
    "\n",
    "# Getting our X and y.\n",
    "X,y = df['v2'], df['v1']\n",
    "y = np.where(y=='spam', 1,0)\n",
    "\n",
    "# Creating our splits.\n",
    "X_train, X_test, y_train, y_test = train_test_split(X,y, stratify=y, random_state=42)"
   ]
  },
  {
   "cell_type": "code",
   "execution_count": 5,
   "id": "a5077e10-8ff0-4eb2-b807-44389034560c",
   "metadata": {},
   "outputs": [],
   "source": [
    "from sklearn.feature_extraction.text import TfidfVectorizer\n",
    "from nltk.stem import WordNetLemmatizer\n",
    "from nltk import word_tokenize, pos_tag\n",
    "from nltk.corpus import wordnet, stopwords\n",
    "from typing import List\n",
    "\n",
    "class LemmaTokenizer:\n",
    "    '''\n",
    "        Lemmatizer to be used as the `tokenizer` argument in the \n",
    "        `sklearn.feature_extraction.text.TfidfVectorizer` class. It tokenizes  the string and \n",
    "        applies lemmatization, according to the WordNet Pos-Tagging.\n",
    "    '''\n",
    "    def __init__(self):\n",
    "        self.wnl = WordNetLemmatizer()\n",
    "    \n",
    "    @staticmethod\n",
    "    def get_wordnet_pos(treebank_tag):\n",
    "        '''\n",
    "            Converts a Tree Bank TAG into a WordNet TAG.\n",
    "\n",
    "            Parameter\n",
    "            ---------\n",
    "            `trebank_tag`: str\n",
    "                The Tree Bank TAG\n",
    "\n",
    "            Returns\n",
    "            -------\n",
    "            The converted TAG.`\n",
    "        '''\n",
    "        if treebank_tag.startswith('J'):\n",
    "            return wordnet.ADJ\n",
    "        elif treebank_tag.startswith('V'):\n",
    "            return wordnet.VERB\n",
    "        elif treebank_tag.startswith('N'):\n",
    "            return wordnet.NOUN\n",
    "        elif treebank_tag.startswith('R'):\n",
    "            return wordnet.ADV\n",
    "        else:\n",
    "            return wordnet.NOUN\n",
    "        \n",
    "    def __call__(self, doc)->List[str]:\n",
    "        tokens = word_tokenize(doc)\n",
    "        tokens_tags = pos_tag(tokens)\n",
    "        return [self.wnl.lemmatize(token, pos=self.get_wordnet_pos(pos)) for token, pos in tokens_tags]"
   ]
  },
  {
   "cell_type": "code",
   "execution_count": 6,
   "id": "9173ab33-2e2f-4344-815c-9b9bf9bea8c0",
   "metadata": {},
   "outputs": [],
   "source": [
    "# Listing common English stopwords to avoid generating large matrices.\n",
    "stop_words = stopwords.words('english')"
   ]
  },
  {
   "cell_type": "code",
   "execution_count": 7,
   "id": "61626d0a-0203-46b9-8f82-e093d92ccfae",
   "metadata": {},
   "outputs": [],
   "source": [
    "# Finally, generating our transformation Pipeline!\n",
    "from sklearn.pipeline import Pipeline\n",
    "tf_idf = TfidfVectorizer(tokenizer=LemmaTokenizer(), stop_words=stop_words, strip_accents='ascii')\n",
    "\n",
    "pipe = Pipeline([('tf_idf', tf_idf)])"
   ]
  },
  {
   "cell_type": "code",
   "execution_count": 8,
   "id": "2777e784-f28f-4165-b95b-cb029ed9eb08",
   "metadata": {},
   "outputs": [
    {
     "name": "stderr",
     "output_type": "stream",
     "text": [
      "/home/felipe/.local/lib/python3.12/site-packages/sklearn/feature_extraction/text.py:523: UserWarning: The parameter 'token_pattern' will not be used since 'tokenizer' is not None'\n",
      "  warnings.warn(\n",
      "/home/felipe/.local/lib/python3.12/site-packages/sklearn/feature_extraction/text.py:408: UserWarning: Your stop_words may be inconsistent with your preprocessing. Tokenizing the stop words generated tokens [\"'d\", \"'ll\", \"'re\", \"'s\", \"'ve\", 'could', 'far', 'might', 'must', \"n't\", 'need', 'sha', 'wo', 'would'] not in stop_words.\n",
      "  warnings.warn(\n"
     ]
    }
   ],
   "source": [
    "# Turning our documents into vectors.\n",
    "X_train = pipe.fit_transform(X_train).toarray()\n",
    "X_test = pipe.transform(X_test).toarray()"
   ]
  },
  {
   "cell_type": "markdown",
   "id": "6e836fe1-2ddf-4447-a2f6-9facaa46c2b9",
   "metadata": {},
   "source": [
    "## Naive Bayes Modeling\n",
    "* With our data in numerical form, we can carry out the creation of a Gaussian Naive Bayes classifier."
   ]
  },
  {
   "cell_type": "code",
   "execution_count": 9,
   "id": "2d7c0a92-5b5b-437e-985a-34350311b525",
   "metadata": {},
   "outputs": [],
   "source": [
    "from sklearn.naive_bayes import GaussianNB\n",
    "gnb = GaussianNB().fit(X_train, y_train)"
   ]
  },
  {
   "cell_type": "code",
   "execution_count": 10,
   "id": "d56409cf-e877-4307-a07e-8973ac8c11cc",
   "metadata": {},
   "outputs": [
    {
     "data": {
      "text/plain": [
       "0.6307253341342544"
      ]
     },
     "execution_count": 10,
     "metadata": {},
     "output_type": "execute_result"
    }
   ],
   "source": [
    "# From my point of view, the prediction of FP's are a little bit more detrimental than FN's\n",
    "# in spam detection, since it is undesirable that the user misses important emails because they\n",
    "# were directed to the spam  box.\n",
    "\n",
    "# Hence, we'll evaluate our model with a f-beta score with beta=0.75\n",
    "from sklearn.metrics import fbeta_score\n",
    "fbeta_score(y_test, gnb.predict(X_test), beta=.75)"
   ]
  }
 ],
 "metadata": {
  "kernelspec": {
   "display_name": "Python 3 (ipykernel)",
   "language": "python",
   "name": "python3"
  },
  "language_info": {
   "codemirror_mode": {
    "name": "ipython",
    "version": 3
   },
   "file_extension": ".py",
   "mimetype": "text/x-python",
   "name": "python",
   "nbconvert_exporter": "python",
   "pygments_lexer": "ipython3",
   "version": "3.12.3"
  }
 },
 "nbformat": 4,
 "nbformat_minor": 5
}
