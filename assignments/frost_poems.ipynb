{
 "cells": [
  {
   "cell_type": "markdown",
   "id": "87812196",
   "metadata": {
    "papermill": {
     "duration": 0.0041,
     "end_time": "2024-04-03T08:54:58.958771",
     "exception": false,
     "start_time": "2024-04-03T08:54:58.954671",
     "status": "completed"
    },
    "tags": []
   },
   "source": [
    "# Poem Generator"
   ]
  },
  {
   "cell_type": "code",
   "execution_count": 1,
   "id": "8f8ca00d",
   "metadata": {
    "execution": {
     "iopub.execute_input": "2024-04-03T08:54:58.969816Z",
     "iopub.status.busy": "2024-04-03T08:54:58.968173Z",
     "iopub.status.idle": "2024-04-03T08:54:59.002744Z",
     "shell.execute_reply": "2024-04-03T08:54:59.001025Z"
    },
    "papermill": {
     "duration": 0.043745,
     "end_time": "2024-04-03T08:54:59.006385",
     "exception": false,
     "start_time": "2024-04-03T08:54:58.962640",
     "status": "completed"
    },
    "tags": []
   },
   "outputs": [],
   "source": [
    "from re import sub\n",
    "from typing import List\n",
    "\n",
    "def load_text(filename:str)->List[str]:\n",
    "    '''\n",
    "        Reads the .txt file.\n",
    "        \n",
    "        Parameter\n",
    "        ---------\n",
    "        `filename`: str\n",
    "            The name of the poems file.\n",
    "            \n",
    "        Returns\n",
    "        -------\n",
    "        A list containing each strophe's content.\n",
    "    '''\n",
    "    with open(f'/kaggle/input/poe-vs-frost/{filename}', 'r') as f:\n",
    "        strophe_delim = '\\n\\n'\n",
    "        return sub('\\n\\u2009\\n', strophe_delim, f.read()).split(strophe_delim)\n",
    "    \n",
    "txt_frost = load_text('05_robert_frost.txt')"
   ]
  },
  {
   "cell_type": "markdown",
   "id": "4888d0db",
   "metadata": {
    "papermill": {
     "duration": 0.00332,
     "end_time": "2024-04-03T08:54:59.013877",
     "exception": false,
     "start_time": "2024-04-03T08:54:59.010557",
     "status": "completed"
    },
    "tags": []
   },
   "source": [
    "## Text Treatment\n",
    "* Text Normalization, \\<EOS\\> tag and turning new line a valid character."
   ]
  },
  {
   "cell_type": "code",
   "execution_count": 2,
   "id": "e5d83263",
   "metadata": {
    "execution": {
     "iopub.execute_input": "2024-04-03T08:54:59.023211Z",
     "iopub.status.busy": "2024-04-03T08:54:59.022708Z",
     "iopub.status.idle": "2024-04-03T08:55:01.910457Z",
     "shell.execute_reply": "2024-04-03T08:55:01.908697Z"
    },
    "papermill": {
     "duration": 2.896677,
     "end_time": "2024-04-03T08:55:01.914150",
     "exception": false,
     "start_time": "2024-04-03T08:54:59.017473",
     "status": "completed"
    },
    "tags": []
   },
   "outputs": [],
   "source": [
    "import string\n",
    "from re import sub\n",
    "from nltk import word_tokenize\n",
    "\n",
    "def remove_punctuation(s:str)->str:\n",
    "    '''\n",
    "        Removes punctuation from a string.\n",
    "        \n",
    "        Parameter\n",
    "        ---------\n",
    "        s: `str`\n",
    "            The provided string.\n",
    "        \n",
    "        Returns\n",
    "        -------\n",
    "        The treated string.\n",
    "    '''\n",
    "        \n",
    "    translation_table = str.maketrans('', '', string.punctuation)\n",
    "    return s.lower().strip().translate(translation_table)\n",
    "\n",
    "def eos(s:str)->str:\n",
    "    '''\n",
    "        Creates an End-Of-Sentence tag at the end of the string.\n",
    "\n",
    "        Parameter\n",
    "        ---------\n",
    "        s: `str`\n",
    "            The provided string.\n",
    "\n",
    "        Returns\n",
    "        -------\n",
    "        The treated string.\n",
    "    '''\n",
    "    return s+' <eos>' if '<eos>' not in s else s\n",
    "\n",
    "def new_line(s:str)->str:\n",
    "    '''\n",
    "        Turns \\n character a token\n",
    "        \n",
    "        Parameter\n",
    "        ---------\n",
    "        s: `str`\n",
    "            The provided string.\n",
    "\n",
    "\n",
    "        Returns\n",
    "        -------\n",
    "        The treated string.\n",
    "    '''\n",
    "    return sub('\\n', ' \\n ', s)\n",
    "    \n",
    "def treat(s:str)->str:\n",
    "    '''\n",
    "        Applies all transformations mentioned above in a text.\n",
    "        \n",
    "        Parameter\n",
    "        ---------\n",
    "        s: `str`\n",
    "            The provided string.\n",
    "\n",
    "        Returns\n",
    "        -------\n",
    "        The treated string.\n",
    "    '''\n",
    "    s = remove_punctuation(s)\n",
    "    s = eos(s)\n",
    "    s = new_line(s)\n",
    "    return s\n",
    "\n",
    "txt_frost = list(map(treat, txt_frost))"
   ]
  },
  {
   "cell_type": "code",
   "execution_count": 3,
   "id": "6bae154f",
   "metadata": {
    "execution": {
     "iopub.execute_input": "2024-04-03T08:55:01.923613Z",
     "iopub.status.busy": "2024-04-03T08:55:01.922886Z",
     "iopub.status.idle": "2024-04-03T08:55:01.933028Z",
     "shell.execute_reply": "2024-04-03T08:55:01.931544Z"
    },
    "papermill": {
     "duration": 0.018349,
     "end_time": "2024-04-03T08:55:01.936090",
     "exception": false,
     "start_time": "2024-04-03T08:55:01.917741",
     "status": "completed"
    },
    "tags": []
   },
   "outputs": [
    {
     "data": {
      "text/plain": [
       "'two roads diverged in a yellow wood \\n and sorry i could not travel both \\n and be one traveler long i stood \\n and looked down one as far as i could \\n to where it bent in the undergrowth <eos>'"
      ]
     },
     "execution_count": 3,
     "metadata": {},
     "output_type": "execute_result"
    }
   ],
   "source": [
    "txt_frost[0]"
   ]
  },
  {
   "cell_type": "markdown",
   "id": "e67340a8",
   "metadata": {
    "papermill": {
     "duration": 0.003288,
     "end_time": "2024-04-03T08:55:01.943109",
     "exception": false,
     "start_time": "2024-04-03T08:55:01.939821",
     "status": "completed"
    },
    "tags": []
   },
   "source": [
    "## Creating the Markov Model"
   ]
  },
  {
   "cell_type": "markdown",
   "id": "5b44046e",
   "metadata": {
    "papermill": {
     "duration": 0.003231,
     "end_time": "2024-04-03T08:55:01.950216",
     "exception": false,
     "start_time": "2024-04-03T08:55:01.946985",
     "status": "completed"
    },
    "tags": []
   },
   "source": [
    "<p style='color:red'> Iniciar classe Markov</p>"
   ]
  }
 ],
 "metadata": {
  "kaggle": {
   "accelerator": "none",
   "dataSources": [
    {
     "datasetId": 4623586,
     "sourceId": 7878148,
     "sourceType": "datasetVersion"
    }
   ],
   "dockerImageVersionId": 30673,
   "isGpuEnabled": false,
   "isInternetEnabled": true,
   "language": "python",
   "sourceType": "notebook"
  },
  "kernelspec": {
   "display_name": "Python 3",
   "language": "python",
   "name": "python3"
  },
  "language_info": {
   "codemirror_mode": {
    "name": "ipython",
    "version": 3
   },
   "file_extension": ".py",
   "mimetype": "text/x-python",
   "name": "python",
   "nbconvert_exporter": "python",
   "pygments_lexer": "ipython3",
   "version": "3.10.13"
  },
  "papermill": {
   "default_parameters": {},
   "duration": 7.436098,
   "end_time": "2024-04-03T08:55:02.780423",
   "environment_variables": {},
   "exception": null,
   "input_path": "__notebook__.ipynb",
   "output_path": "__notebook__.ipynb",
   "parameters": {},
   "start_time": "2024-04-03T08:54:55.344325",
   "version": "2.5.0"
  }
 },
 "nbformat": 4,
 "nbformat_minor": 5
}
