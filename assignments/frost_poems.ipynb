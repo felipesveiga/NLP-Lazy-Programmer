{
 "cells": [
  {
   "cell_type": "markdown",
   "id": "7be2e8ed",
   "metadata": {
    "papermill": {
     "duration": 0.003198,
     "end_time": "2024-04-11T18:51:21.013566",
     "exception": false,
     "start_time": "2024-04-11T18:51:21.010368",
     "status": "completed"
    },
    "tags": []
   },
   "source": [
    "# Poem Generator"
   ]
  },
  {
   "cell_type": "code",
   "execution_count": 1,
   "id": "92cfd9c2",
   "metadata": {
    "execution": {
     "iopub.execute_input": "2024-04-11T18:51:21.020690Z",
     "iopub.status.busy": "2024-04-11T18:51:21.020286Z",
     "iopub.status.idle": "2024-04-11T18:51:21.045692Z",
     "shell.execute_reply": "2024-04-11T18:51:21.044622Z"
    },
    "papermill": {
     "duration": 0.031767,
     "end_time": "2024-04-11T18:51:21.048173",
     "exception": false,
     "start_time": "2024-04-11T18:51:21.016406",
     "status": "completed"
    },
    "tags": []
   },
   "outputs": [],
   "source": [
    "from re import sub\n",
    "from typing import List\n",
    "\n",
    "def load_text(filename:str)->List[str]:\n",
    "    '''\n",
    "        Reads the .txt file.\n",
    "        \n",
    "        Parameter\n",
    "        ---------\n",
    "        `filename`: str\n",
    "            The name of the poems file.\n",
    "            \n",
    "        Returns\n",
    "        -------\n",
    "        A list containing each strophe's content.\n",
    "    '''\n",
    "    with open(f'/kaggle/input/poe-vs-frost/{filename}', 'r') as f:\n",
    "        strophe_delim = '\\n\\n'\n",
    "        return sub('\\n\\u2009\\n', strophe_delim, f.read()).split(strophe_delim)\n",
    "    \n",
    "txt_frost = load_text('05_robert_frost.txt')"
   ]
  },
  {
   "cell_type": "markdown",
   "id": "876f82d7",
   "metadata": {
    "papermill": {
     "duration": 0.002202,
     "end_time": "2024-04-11T18:51:21.053267",
     "exception": false,
     "start_time": "2024-04-11T18:51:21.051065",
     "status": "completed"
    },
    "tags": []
   },
   "source": [
    "## Text Treatment\n",
    "* Text Normalization, \\<EOS\\> tag and turning new line a valid character."
   ]
  },
  {
   "cell_type": "code",
   "execution_count": 2,
   "id": "5d851a64",
   "metadata": {
    "execution": {
     "iopub.execute_input": "2024-04-11T18:51:21.059709Z",
     "iopub.status.busy": "2024-04-11T18:51:21.059322Z",
     "iopub.status.idle": "2024-04-11T18:51:23.317966Z",
     "shell.execute_reply": "2024-04-11T18:51:23.316602Z"
    },
    "papermill": {
     "duration": 2.265009,
     "end_time": "2024-04-11T18:51:23.320593",
     "exception": false,
     "start_time": "2024-04-11T18:51:21.055584",
     "status": "completed"
    },
    "tags": []
   },
   "outputs": [],
   "source": [
    "import string\n",
    "from re import sub\n",
    "from nltk import word_tokenize\n",
    "\n",
    "def remove_punctuation(s:str)->str:\n",
    "    '''\n",
    "        Removes punctuation from a string.\n",
    "        \n",
    "        Parameter\n",
    "        ---------\n",
    "        s: `str`\n",
    "            The provided string.\n",
    "        \n",
    "        Returns\n",
    "        -------\n",
    "        The treated string.\n",
    "    '''\n",
    "        \n",
    "    translation_table = str.maketrans('', '', string.punctuation)\n",
    "    return s.lower().strip().translate(translation_table)\n",
    "\n",
    "def eos(s:str)->str:\n",
    "    '''\n",
    "        Creates an End-Of-Sentence tag at the end of the string.\n",
    "\n",
    "        Parameter\n",
    "        ---------\n",
    "        s: `str`\n",
    "            The provided string.\n",
    "\n",
    "        Returns\n",
    "        -------\n",
    "        The treated string.\n",
    "    '''\n",
    "    return s+' <eos>' if '<eos>' not in s else s\n",
    "\n",
    "def new_line(s:str)->str:\n",
    "    '''\n",
    "        Turns \\n character a token\n",
    "        \n",
    "        Parameter\n",
    "        ---------\n",
    "        s: `str`\n",
    "            The provided string.\n",
    "\n",
    "\n",
    "        Returns\n",
    "        -------\n",
    "        The treated string.\n",
    "    '''\n",
    "    return sub('\\n', ' \\n ', s)\n",
    "    \n",
    "def treat(s:str)->str:\n",
    "    '''\n",
    "        Applies all transformations mentioned above in a text.\n",
    "        \n",
    "        Parameter\n",
    "        ---------\n",
    "        s: `str`\n",
    "            The provided string.\n",
    "\n",
    "        Returns\n",
    "        -------\n",
    "        The treated string.\n",
    "    '''\n",
    "    s = remove_punctuation(s)\n",
    "    s = eos(s)\n",
    "    s = new_line(s)\n",
    "    return s.split()\n",
    "\n",
    "txt_frost = list(map(treat, txt_frost))"
   ]
  },
  {
   "cell_type": "markdown",
   "id": "315a1589",
   "metadata": {
    "papermill": {
     "duration": 0.002245,
     "end_time": "2024-04-11T18:51:23.325529",
     "exception": false,
     "start_time": "2024-04-11T18:51:23.323284",
     "status": "completed"
    },
    "tags": []
   },
   "source": [
    "## Creating the Markov Model"
   ]
  },
  {
   "cell_type": "code",
   "execution_count": 3,
   "id": "b10686ef",
   "metadata": {
    "execution": {
     "iopub.execute_input": "2024-04-11T18:51:23.332602Z",
     "iopub.status.busy": "2024-04-11T18:51:23.332059Z",
     "iopub.status.idle": "2024-04-11T18:51:23.401980Z",
     "shell.execute_reply": "2024-04-11T18:51:23.400482Z"
    },
    "papermill": {
     "duration": 0.076603,
     "end_time": "2024-04-11T18:51:23.404542",
     "exception": false,
     "start_time": "2024-04-11T18:51:23.327939",
     "status": "completed"
    },
    "tags": []
   },
   "outputs": [
    {
     "name": "stdout",
     "output_type": "stream",
     "text": [
      "a governor it was or else by some mistake no theres not a soul for a doorsill or other corner piece in a new cottage on the new comers but theres a story in a glass case then hed need a tall one he can eat off a barrel from the house as far as i am a guide and thats why i cant pretend to tell them my fingers are about all ive the use of talking when its done it what was back shes bad thats all but me enough for a man with one hand outstretched the way hes felt but all the same\n"
     ]
    }
   ],
   "source": [
    "import numpy as np\n",
    "from collections import Counter\n",
    "from typing import List\n",
    "\n",
    "class MarkovModel:\n",
    "    '''\n",
    "        A Second-Order Markov Model designed for writing poems.\n",
    "        \n",
    "        Method\n",
    "        ------\n",
    "        `fit`: It fits the model's probability distributions  according to a provided list of texts tokens.\n",
    "        \n",
    "        Attributes\n",
    "        ----------\n",
    "        `pi`: A storage for first token probabilities.\n",
    "        `a`: The first order transition matrix for second token probabilities.\n",
    "        `a2`: The second order transition matrix\n",
    "    '''\n",
    "    def __pi(self, X:List[List[str]]):\n",
    "        '''\n",
    "            Builds the model's pi vector.\n",
    "            \n",
    "            Parameter\n",
    "            ---------\n",
    "            `X`: List[List[str]]\n",
    "        '''\n",
    "        self.pi = Counter(x[0] for x in X)\n",
    "        self.pi = {token:count/len(X) for token, count in self.pi.items()}\n",
    "        \n",
    "    def __a(self, X:List[List[str]]):\n",
    "        '''\n",
    "            Builds the first order transition matrix.\n",
    "            \n",
    "            Parameter\n",
    "            ---------\n",
    "            `X`: List[List[str]]\n",
    "        '''\n",
    "        counter = Counter(x[0]+'<sep>'+x[1] for x in X) \n",
    "        denom = Counter(x[0] for x in X)\n",
    "        self.a = {}\n",
    "        for key in counter.keys():\n",
    "            i,j = key.split('<sep>')\n",
    "            if i not in self.a.keys():\n",
    "                self.a[i] = {}\n",
    "            self.a[i][j] = counter[key]/denom[i]\n",
    "        \n",
    "            \n",
    "    def __a2(self, X:List[List[str]]):\n",
    "        '''\n",
    "            Builds the second order transition matrix.\n",
    "            \n",
    "            Parameter\n",
    "            ---------\n",
    "            `X`: List[List[str]]\n",
    "        '''\n",
    "        counter = Counter(x[i-2]+'<sep>'+x[i-1]+'<sep>'+x[i] for x in X for i in range(2, len(x)))\n",
    "        denom = Counter(x[i-1]+'<sep>'+x[i] for x in X for i in range(1, len(x)-1))\n",
    "        self.a2 = {}\n",
    "        for key in counter.keys():\n",
    "            i,j,k = key.split('<sep>')\n",
    "            if i not in self.a2.keys():\n",
    "                self.a2[i] = {}\n",
    "            if j not in self.a2[i].keys():\n",
    "                self.a2[i][j] = {}\n",
    "            self.a2[i][j][k] = counter[key]/denom[i+'<sep>'+j]\n",
    "        \n",
    "    def fit(self, X:List[List[str]]):\n",
    "        '''\n",
    "            Constructs the model's vector and state transition matrices.\n",
    "            \n",
    "            Parameter\n",
    "            ---------\n",
    "            `X`: List[List[str]]\n",
    "        '''\n",
    "        self.__pi(X)\n",
    "        self.__a(X)\n",
    "        self.__a2(X)\n",
    "        \n",
    "    def write(self):\n",
    "        '''\n",
    "            Writes a poem\n",
    "        '''\n",
    "        first_token = np.random.choice(list(self.pi.keys()), p=list(self.pi.values()))\n",
    "        second_token = np.random.choice(list(self.a[first_token].keys()), p=list(self.a[first_token].values()))\n",
    "        sentence = [first_token, second_token]\n",
    "        while True:\n",
    "            penultimate, last = sentence[-2], sentence[-1]\n",
    "            next_probas = self.a2[penultimate][last]\n",
    "            next_token = np.random.choice(list(next_probas.keys()), p=list(next_probas.values()))\n",
    "            if next_token=='<eos>':\n",
    "                break\n",
    "            else:\n",
    "                sentence.append(next_token)\n",
    "        return ' '.join(sentence)\n",
    "            \n",
    "model = MarkovModel()\n",
    "model.fit(txt_frost)\n",
    "print(model.write())"
   ]
  }
 ],
 "metadata": {
  "kaggle": {
   "accelerator": "none",
   "dataSources": [
    {
     "datasetId": 4623586,
     "sourceId": 7878148,
     "sourceType": "datasetVersion"
    }
   ],
   "dockerImageVersionId": 30673,
   "isGpuEnabled": false,
   "isInternetEnabled": true,
   "language": "python",
   "sourceType": "notebook"
  },
  "kernelspec": {
   "display_name": "Python 3",
   "language": "python",
   "name": "python3"
  },
  "language_info": {
   "codemirror_mode": {
    "name": "ipython",
    "version": 3
   },
   "file_extension": ".py",
   "mimetype": "text/x-python",
   "name": "python",
   "nbconvert_exporter": "python",
   "pygments_lexer": "ipython3",
   "version": "3.10.13"
  },
  "papermill": {
   "default_parameters": {},
   "duration": 5.958457,
   "end_time": "2024-04-11T18:51:23.928131",
   "environment_variables": {},
   "exception": null,
   "input_path": "__notebook__.ipynb",
   "output_path": "__notebook__.ipynb",
   "parameters": {},
   "start_time": "2024-04-11T18:51:17.969674",
   "version": "2.5.0"
  }
 },
 "nbformat": 4,
 "nbformat_minor": 5
}
