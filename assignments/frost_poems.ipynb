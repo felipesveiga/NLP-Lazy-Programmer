{
 "cells": [
  {
   "cell_type": "markdown",
   "id": "9be617c4",
   "metadata": {
    "papermill": {
     "duration": 0.003135,
     "end_time": "2024-04-02T22:56:51.569859",
     "exception": false,
     "start_time": "2024-04-02T22:56:51.566724",
     "status": "completed"
    },
    "tags": []
   },
   "source": [
    "# Poem Generator"
   ]
  },
  {
   "cell_type": "code",
   "execution_count": null,
   "id": "37775031",
   "metadata": {
    "papermill": {
     "duration": 0.001448,
     "end_time": "2024-04-02T22:56:51.573390",
     "exception": false,
     "start_time": "2024-04-02T22:56:51.571942",
     "status": "completed"
    },
    "tags": []
   },
   "outputs": [],
   "source": []
  }
 ],
 "metadata": {
  "kaggle": {
   "accelerator": "none",
   "dataSources": [
    {
     "datasetId": 4623586,
     "sourceId": 7878148,
     "sourceType": "datasetVersion"
    }
   ],
   "dockerImageVersionId": 30673,
   "isGpuEnabled": false,
   "isInternetEnabled": true,
   "language": "python",
   "sourceType": "notebook"
  },
  "kernelspec": {
   "display_name": "Python 3",
   "language": "python",
   "name": "python3"
  },
  "language_info": {
   "codemirror_mode": {
    "name": "ipython",
    "version": 3
   },
   "file_extension": ".py",
   "mimetype": "text/x-python",
   "name": "python",
   "nbconvert_exporter": "python",
   "pygments_lexer": "ipython3",
   "version": "3.10.13"
  },
  "papermill": {
   "default_parameters": {},
   "duration": 3.468117,
   "end_time": "2024-04-02T22:56:51.895463",
   "environment_variables": {},
   "exception": null,
   "input_path": "__notebook__.ipynb",
   "output_path": "__notebook__.ipynb",
   "parameters": {},
   "start_time": "2024-04-02T22:56:48.427346",
   "version": "2.5.0"
  }
 },
 "nbformat": 4,
 "nbformat_minor": 5
}
