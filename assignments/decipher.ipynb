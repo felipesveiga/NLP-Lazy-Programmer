{
 "cells": [
  {
   "cell_type": "markdown",
   "id": "e2846834",
   "metadata": {
    "papermill": {
     "duration": 0.004858,
     "end_time": "2024-05-06T09:13:11.424017",
     "exception": false,
     "start_time": "2024-05-06T09:13:11.419159",
     "status": "completed"
    },
    "tags": []
   },
   "source": [
    "# Cipher Decription\n",
    "* This project is aimed at producing a decipher that discovers the correct mapping &lt;code_letter&gt;:&lt;real_letter&gt; from secret messages.\n",
    "* The solution is based on the concept of Genetic Algorithms. Each decipher is basically a dictionary that represents a hypothetical mapping of letters.\n",
    "* Each offspring will inherit some of the mappings of their parent's dictionary, but with a slight modification/mutation."
   ]
  },
  {
   "cell_type": "code",
   "execution_count": 1,
   "id": "530ac346",
   "metadata": {
    "execution": {
     "iopub.execute_input": "2024-05-06T09:13:11.435699Z",
     "iopub.status.busy": "2024-05-06T09:13:11.434332Z",
     "iopub.status.idle": "2024-05-06T09:13:11.779733Z",
     "shell.execute_reply": "2024-05-06T09:13:11.778285Z"
    },
    "papermill": {
     "duration": 0.354275,
     "end_time": "2024-05-06T09:13:11.782733",
     "exception": false,
     "start_time": "2024-05-06T09:13:11.428458",
     "status": "completed"
    },
    "tags": []
   },
   "outputs": [
    {
     "data": {
      "text/plain": [
       "['',\n",
       " 'Call me Ishmael. Some years ago—never mind how long precisely—having\\nlittle or no money in my purse, and nothing particular to interest me\\non shore, I thought I would sail about a little and see the watery part\\nof the world. It is a way I have of driving off the spleen and\\nregulating the circulation. Whenever I find myself growing grim about\\nthe mouth; whenever it is a damp, drizzly November in my soul; whenever\\nI find myself involuntarily pausing before coffin warehouses, and\\nbringing up the rear of every funeral I meet; and especially whenever\\nmy hypos get such an upper hand of me, that it requires a strong moral\\nprinciple to prevent me from deliberately stepping into the street, and\\nmethodically knocking people’s hats off—then, I account it high time to\\nget to sea as soon as I can. This is my substitute for pistol and ball.\\nWith a philosophical flourish Cato throws himself upon his sword; I\\nquietly take to the ship. There is nothing surprising in this. If they\\nbut knew it, almost all men in their degree, some time or other,\\ncherish very nearly the same feelings towards the ocean with me.',\n",
       " 'There now is your insular city of the Manhattoes, belted round by\\nwharves as Indian isles by coral reefs—commerce surrounds it with her\\nsurf. Right and left, the streets take you waterward. Its extreme\\ndowntown is the battery, where that noble mole is washed by waves, and\\ncooled by breezes, which a few hours previous were out of sight of\\nland. Look at the crowds of water-gazers there.']"
      ]
     },
     "execution_count": 1,
     "metadata": {},
     "output_type": "execute_result"
    }
   ],
   "source": [
    "from re import sub\n",
    "from typing import List\n",
    "\n",
    "def load_text(filename:str)->List[str]:\n",
    "    '''\n",
    "        Reads the .txt file.\n",
    "        \n",
    "        Parameter\n",
    "        ---------\n",
    "        `filename`: str\n",
    "            The name of the poems file.\n",
    "            \n",
    "        Returns\n",
    "        -------\n",
    "        A list containing each strophe's content.\n",
    "    '''\n",
    "    with open(f'/kaggle/input/cipher/{filename}', 'r') as f:\n",
    "        parag_delim = '\\n\\n'\n",
    "        text = sub('(\\ufeff|\\n)?CHAPTER \\d+\\.[\\w\\'`,;\\. \\-]*', '', f.read()).split(parag_delim)\n",
    "        return text\n",
    "    \n",
    "corpus_model = load_text('moby_dick.txt')\n",
    "corpus_model[:3]"
   ]
  },
  {
   "cell_type": "code",
   "execution_count": 2,
   "id": "46dc595d",
   "metadata": {
    "execution": {
     "iopub.execute_input": "2024-05-06T09:13:11.794510Z",
     "iopub.status.busy": "2024-05-06T09:13:11.793259Z",
     "iopub.status.idle": "2024-05-06T09:13:11.945109Z",
     "shell.execute_reply": "2024-05-06T09:13:11.943906Z"
    },
    "papermill": {
     "duration": 0.161054,
     "end_time": "2024-05-06T09:13:11.948308",
     "exception": false,
     "start_time": "2024-05-06T09:13:11.787254",
     "status": "completed"
    },
    "tags": []
   },
   "outputs": [],
   "source": [
    "import string\n",
    "from typing import List\n",
    "\n",
    "def remove_punctuation(s:str)->str:\n",
    "    '''\n",
    "        Removes punctuation from a string. Also, already normalizes (lower) and removes any whitespaces\n",
    "        from the string's borders.\n",
    "        \n",
    "        Parameter\n",
    "        ---------\n",
    "        s: `str`\n",
    "            The provided string.\n",
    "        \n",
    "        Returns\n",
    "        -------\n",
    "        The treated string.\n",
    "    '''\n",
    "        \n",
    "    translation_table = str.maketrans('', '', string.punctuation+ '—“”‘‘’\\n')\n",
    "    return s.lower().strip().translate(translation_table)\n",
    "\n",
    "def to_ascii(s:str)->str:\n",
    "    ...\n",
    "\n",
    "def treat(s:str)->str:\n",
    "    '''\n",
    "        Applies all transformations mentioned above in a text.\n",
    "        \n",
    "        Parameter\n",
    "        ---------\n",
    "        s: `str`\n",
    "            The provided string.\n",
    "\n",
    "        Returns\n",
    "        -------\n",
    "        The treated string.\n",
    "    '''\n",
    "    s = remove_punctuation(s)\n",
    "    s = s.replace(' ','') # Note that I'm disregarding spaces since passwords commonly have it.\n",
    "    return s\n",
    "\n",
    "corpus_model = list(map(treat, corpus_model))"
   ]
  },
  {
   "cell_type": "code",
   "execution_count": 3,
   "id": "348f13e1",
   "metadata": {
    "execution": {
     "iopub.execute_input": "2024-05-06T09:13:11.959340Z",
     "iopub.status.busy": "2024-05-06T09:13:11.958947Z",
     "iopub.status.idle": "2024-05-06T09:13:11.970234Z",
     "shell.execute_reply": "2024-05-06T09:13:11.969050Z"
    },
    "papermill": {
     "duration": 0.019879,
     "end_time": "2024-05-06T09:13:11.972876",
     "exception": false,
     "start_time": "2024-05-06T09:13:11.952997",
     "status": "completed"
    },
    "tags": []
   },
   "outputs": [
    {
     "data": {
      "text/plain": [
       "['callmeishmaelsomeyearsagonevermindhowlongpreciselyhavinglittleornomoneyinmypurseandnothingparticulartointerestmeonshoreithoughtiwouldsailaboutalittleandseethewaterypartoftheworlditisawayihaveofdrivingoffthespleenandregulatingthecirculationwheneverifindmyselfgrowinggrimaboutthemouthwheneveritisadampdrizzlynovemberinmysoulwheneverifindmyselfinvoluntarilypausingbeforecoffinwarehousesandbringinguptherearofeveryfuneralimeetandespeciallywhenevermyhyposgetsuchanupperhandofmethatitrequiresastrongmoralprincipletopreventmefromdeliberatelysteppingintothestreetandmethodicallyknockingpeopleshatsofftheniaccountithightimetogettoseaassoonasicanthisismysubstituteforpistolandballwithaphilosophicalflourishcatothrowshimselfuponhisswordiquietlytaketotheshipthereisnothingsurprisinginthisiftheybutknewitalmostallmenintheirdegreesometimeorothercherishverynearlythesamefeelingstowardstheoceanwithme',\n",
       " 'therenowisyourinsularcityofthemanhattoesbeltedroundbywharvesasindianislesbycoralreefscommercesurroundsitwithhersurfrightandleftthestreetstakeyouwaterwarditsextremedowntownisthebatterywherethatnoblemoleiswashedbywavesandcooledbybreezeswhichafewhourspreviouswereoutofsightoflandlookatthecrowdsofwatergazersthere',\n",
       " 'circumambulatethecityofadreamysabbathafternoongofromcorlearshooktocoentiesslipandfromthencebywhitehallnorthwardwhatdoyouseepostedlikesilentsentinelsallaroundthetownstandthousandsuponthousandsofmortalmenfixedinoceanreveriessomeleaningagainstthespilessomeseateduponthepierheadssomelookingoverthebulwarksofshipsfromchinasomehighaloftintheriggingasifstrivingtogetastillbetterseawardpeepbutthesearealllandsmenofweekdayspentupinlathandplastertiedtocountersnailedtobenchesclinchedtodeskshowthenisthisarethegreenfieldsgonewhatdotheyhere']"
      ]
     },
     "execution_count": 3,
     "metadata": {},
     "output_type": "execute_result"
    }
   ],
   "source": [
    "from typing import List\n",
    "\n",
    "def filter_empty_strings(corpus:List[str])->List[str]:\n",
    "    '''\n",
    "        Some of the treatments made might have generated empty strings. Thus, we need to remove them to guarantee\n",
    "        the success of our model's training.\n",
    "        \n",
    "        Parameter\n",
    "        ---------\n",
    "        `corpus`: List[str]\n",
    "            Our project's corpus.\n",
    "        \n",
    "        Returns\n",
    "        -------\n",
    "        Our corpus with no empty strings.\n",
    "    '''\n",
    "    _lambda = lambda s: len(s)>0\n",
    "    corpus = list(filter(_lambda, corpus))\n",
    "    return corpus\n",
    "\n",
    "corpus_model = filter_empty_strings(corpus_model)\n",
    "corpus_model[:3]"
   ]
  },
  {
   "cell_type": "markdown",
   "id": "5fd448d3",
   "metadata": {
    "papermill": {
     "duration": 0.004292,
     "end_time": "2024-05-06T09:13:11.981983",
     "exception": false,
     "start_time": "2024-05-06T09:13:11.977691",
     "status": "completed"
    },
    "tags": []
   },
   "source": [
    "## Evaluator Setting\n",
    "* Since comparing our keys and values to the actual mapping is unadequate for a real world application, we'll instead use a Markov Model. It is going to receive the Moby Dick's corpus and will learn the most common unigrams and bigrams of the English Language.\n",
    "* Therefore, ẃe'll expect that our best decipher is going to create the sequences with higher probability, according to the model."
   ]
  },
  {
   "cell_type": "code",
   "execution_count": 4,
   "id": "effb0ded",
   "metadata": {
    "execution": {
     "iopub.execute_input": "2024-05-06T09:13:11.993162Z",
     "iopub.status.busy": "2024-05-06T09:13:11.992781Z",
     "iopub.status.idle": "2024-05-06T09:13:15.554264Z",
     "shell.execute_reply": "2024-05-06T09:13:15.553021Z"
    },
    "papermill": {
     "duration": 3.570743,
     "end_time": "2024-05-06T09:13:15.557317",
     "exception": false,
     "start_time": "2024-05-06T09:13:11.986574",
     "status": "completed"
    },
    "tags": []
   },
   "outputs": [],
   "source": [
    "import pandas as pd\n",
    "import numpy as np\n",
    "from nltk.tokenize import word_tokenize\n",
    "from typing import List, Tuple\n",
    "\n",
    "class MarkovModel:\n",
    "    '''\n",
    "       Markov Model, with Add-Epsilon Smoothing.\n",
    "\n",
    "        Parameters\n",
    "        ---------\n",
    "        `corpus`: List[str]\n",
    "            List with the documents to be used.\n",
    "        `epsilon`: float\n",
    "            Smoothing degree of the probabilities.\n",
    "        `name`: str\n",
    "            A name for your model.\n",
    "            \n",
    "        Methods\n",
    "        ------\n",
    "        `fit`: Generates the model's A and pi.\n",
    "        `predict_log_proba`: Estimates the probability's log of a given sequence.\n",
    "        \n",
    "        \n",
    "        Attributes\n",
    "        ----------\n",
    "        `a`: `pd.DataFrame`\n",
    "            The model's A matrix.\n",
    "        `_a`: Dict[str, Dict[str, int]]\n",
    "            A Dictionary mapping the number of occurences a given state transition happened.\n",
    "        `pi`: `pd.Series`\n",
    "            The model's pi vector.\n",
    "        `_pi`: Dict[str, int]\n",
    "            A dictionary informing the amount of times a given token started a sentence.\n",
    "        `_vocab`: Set[str]\n",
    "            A set object with all the corpus's vocabulary.\n",
    "    '''\n",
    "    def __init__(self, corpus:List[str], epsilon:float, name:str):\n",
    "        self.corpus = corpus\n",
    "        self.corpus_length = len(self.corpus)\n",
    "        self.epsilon = epsilon\n",
    "        self.name = name\n",
    "    \n",
    "    def __vocab(self)->None:\n",
    "        '''\n",
    "            Extraction of all the corpus tokens.\n",
    "            \n",
    "            We create a set with all training tokens and another one disregarding the ones only used as first word of the strophes.\n",
    "        '''\n",
    "        self._vocab, self._a_vocab = [], []\n",
    "        \n",
    "        for doc in self.corpus:\n",
    "            self._vocab += doc\n",
    "            self._a_vocab+=doc[1:] # Not including the first tokens.\n",
    "            \n",
    "        self._vocab, self._a_vocab = set(self._vocab), set(self._a_vocab)        \n",
    "    \n",
    "    def __check_pi(self, token:str)->str:\n",
    "        '''\n",
    "            Masks a sentence's first token with '<UNKNOWN>' mark if it is not included in the training set.\n",
    "            \n",
    "            Parameter\n",
    "            ---------\n",
    "            `token`: str\n",
    "                The sentence's first token under scrutiny\n",
    "            \n",
    "            Returns\n",
    "            -------\n",
    "            The treated token.\n",
    "        '''\n",
    "        return token if token in self.pi else '<UNKNOWN>'\n",
    "    \n",
    "    def __check_a(self, token1:str, token2:str)->Tuple[str]:\n",
    "        '''\n",
    "            When querying the model's A matrix, checks whether the provided initial and target states are present. If not,\n",
    "            the tokens are masked with the flag '<UNKNOWN>'.\n",
    "            \n",
    "            Parameters\n",
    "            ----------\n",
    "            `token1`: str\n",
    "                The initial state.\n",
    "            `token2`: str\n",
    "                The target state.\n",
    "            \n",
    "            Returns\n",
    "            -------\n",
    "            The treated tokens inside a tuple.\n",
    "        '''\n",
    "        token1 = token1 if token1 in self.a.index else '<UNKNOWN>'\n",
    "        token2 = token2 if token2 in self.a.columns else '<UNKNOWN>'\n",
    "        return token1, token2\n",
    "    \n",
    "    @property\n",
    "    def pi(self):\n",
    "        '''\n",
    "            Encharged for measuring the model's pi vector.\n",
    "        '''\n",
    "        pi = {}\n",
    "        m = self.a.shape[0]\n",
    "        \n",
    "        for doc in self.corpus:\n",
    "            i = doc[0]\n",
    "            if i not in pi.keys():\n",
    "                pi[i] = 1\n",
    "            else:\n",
    "                pi[i]+=1\n",
    "        \n",
    "        pi['<UNKNOWN>'] = 0 # Defining a key for possible tokens of the test set that were unseen during training.\n",
    "        pi =  (pd.Series(pi)+self.epsilon) / (self.corpus_length+self.epsilon*m)\n",
    "        return pi\n",
    "        \n",
    "    @property\n",
    "    def a(self):\n",
    "        '''\n",
    "            Measures the model's A matrix.\n",
    "        '''\n",
    "        a = {j:{} for j in self._a_vocab}\n",
    "        for doc in self.corpus:\n",
    "            for idx, j in enumerate(doc[1:], start=1):\n",
    "                d_j = a[j]\n",
    "                i = doc[idx-1]\n",
    "                if i not in d_j.keys():\n",
    "                    d_j[i] = 1\n",
    "                else:\n",
    "                    d_j[i] += 1\n",
    "        a['<UNKNOWN>'] = {'<UNKNOWN>':0}\n",
    "        a = pd.DataFrame(a).fillna(0)\n",
    "        num = (a+self.epsilon)\n",
    "        denom = a.sum(axis=1, skipna=True)+a.shape[0]*self.epsilon\n",
    "        a =  num.div(denom, axis=0) \n",
    "        return a\n",
    "\n",
    "    def fit(self):\n",
    "        '''\n",
    "            Fits the algorithm to the provided corpus.\n",
    "        '''\n",
    "        self.__vocab()\n",
    "        self.a\n",
    "        self.pi\n",
    "        return self\n",
    "    \n",
    "    def predict_log_proba(self, text:str)->float:\n",
    "        '''\n",
    "            Estimates the probability's log of a given sequence.\n",
    "            \n",
    "            Parameter\n",
    "            ---------\n",
    "            `text`: str\n",
    "                The text whose probability needs to be computed.\n",
    "            \n",
    "            Returns\n",
    "            -------\n",
    "            The sequence's log probability.\n",
    "        '''\n",
    "        text = word_tokenize(text.lower())\n",
    "        proba_pi = np.log(self.pi[self.__check_pi(text[0])])\n",
    "        proba_a = np.log([self.a.loc[self.__check_a(text[i-1], text[i])] for i in range(1, len(text))]) \n",
    "        return proba_pi + np.sum(proba_a)                                                   \n",
    "    \n",
    "    def predict_proba(self, text:str)->float:\n",
    "        '''\n",
    "            Estimates the probability of a given sequence.\n",
    "            \n",
    "            *Note:* There is a risk of the output to be 0 for long sequences.\n",
    "            \n",
    "            Parameter\n",
    "            ---------\n",
    "            `text`: str\n",
    "                The text whose probability needs to be computed.\n",
    "            \n",
    "            Returns\n",
    "            -------\n",
    "            The sequence's probability.\n",
    "        '''\n",
    "        return np.exp(self.predict_log_proba(text))\n",
    "    \n",
    "    def predict_log_proba_author(self, text:str)->float:\n",
    "        '''\n",
    "            Measures the likelihood that a given text was written by the model's author by Bayes' Theorem.\n",
    "            \n",
    "            Parameter\n",
    "            ---------\n",
    "            `text`: str\n",
    "                The text under scrutiny.\n",
    "            \n",
    "            Returns\n",
    "            -------\n",
    "            The computed probability.\n",
    "        '''\n",
    "        global probas\n",
    "        return self.predict_log_proba(text) + np.log(probas[self.name])"
   ]
  },
  {
   "cell_type": "code",
   "execution_count": 5,
   "id": "c8ca6d8f",
   "metadata": {
    "execution": {
     "iopub.execute_input": "2024-05-06T09:13:15.569569Z",
     "iopub.status.busy": "2024-05-06T09:13:15.568950Z",
     "iopub.status.idle": "2024-05-06T09:13:16.725828Z",
     "shell.execute_reply": "2024-05-06T09:13:16.724444Z"
    },
    "papermill": {
     "duration": 1.166142,
     "end_time": "2024-05-06T09:13:16.728474",
     "exception": false,
     "start_time": "2024-05-06T09:13:15.562332",
     "status": "completed"
    },
    "tags": []
   },
   "outputs": [
    {
     "data": {
      "text/plain": [
       "{'0',\n",
       " '1',\n",
       " '2',\n",
       " '3',\n",
       " '4',\n",
       " '5',\n",
       " '6',\n",
       " '7',\n",
       " '8',\n",
       " '9',\n",
       " 'a',\n",
       " 'b',\n",
       " 'c',\n",
       " 'd',\n",
       " 'e',\n",
       " 'f',\n",
       " 'g',\n",
       " 'h',\n",
       " 'i',\n",
       " 'j',\n",
       " 'k',\n",
       " 'l',\n",
       " 'm',\n",
       " 'n',\n",
       " 'o',\n",
       " 'p',\n",
       " 'q',\n",
       " 'r',\n",
       " 's',\n",
       " 't',\n",
       " 'u',\n",
       " 'v',\n",
       " 'w',\n",
       " 'x',\n",
       " 'y',\n",
       " 'z',\n",
       " '£',\n",
       " 'â',\n",
       " 'æ',\n",
       " 'è',\n",
       " 'é',\n",
       " 'œ'}"
      ]
     },
     "execution_count": 5,
     "metadata": {},
     "output_type": "execute_result"
    }
   ],
   "source": [
    "# Remover números e tratar outros caracteres latinos... \n",
    "MarkovModel(corpus_model, 1, 'hi').fit()._vocab"
   ]
  },
  {
   "cell_type": "code",
   "execution_count": 6,
   "id": "1e78a1f2",
   "metadata": {
    "execution": {
     "iopub.execute_input": "2024-05-06T09:13:16.741204Z",
     "iopub.status.busy": "2024-05-06T09:13:16.740795Z",
     "iopub.status.idle": "2024-05-06T09:13:16.749370Z",
     "shell.execute_reply": "2024-05-06T09:13:16.748054Z"
    },
    "papermill": {
     "duration": 0.018344,
     "end_time": "2024-05-06T09:13:16.752203",
     "exception": false,
     "start_time": "2024-05-06T09:13:16.733859",
     "status": "completed"
    },
    "tags": []
   },
   "outputs": [
    {
     "data": {
      "text/plain": [
       "NoneType"
      ]
     },
     "execution_count": 6,
     "metadata": {},
     "output_type": "execute_result"
    }
   ],
   "source": [
    "from re import match, fullmatch\n",
    "\n",
    "type(fullmatch('[A-z]+', 'Àaiai'))"
   ]
  },
  {
   "cell_type": "markdown",
   "id": "1c0f4d25",
   "metadata": {
    "papermill": {
     "duration": 0.004672,
     "end_time": "2024-05-06T09:13:16.762140",
     "exception": false,
     "start_time": "2024-05-06T09:13:16.757468",
     "status": "completed"
    },
    "tags": []
   },
   "source": [
    "<p style='color:red'> Manter no corpus de treinamento apenas documentos com caracteres alfabéticos</p>"
   ]
  }
 ],
 "metadata": {
  "kaggle": {
   "accelerator": "none",
   "dataSources": [
    {
     "datasetId": 4913847,
     "sourceId": 8275290,
     "sourceType": "datasetVersion"
    }
   ],
   "dockerImageVersionId": 30698,
   "isGpuEnabled": false,
   "isInternetEnabled": true,
   "language": "python",
   "sourceType": "notebook"
  },
  "kernelspec": {
   "display_name": "Python 3",
   "language": "python",
   "name": "python3"
  },
  "language_info": {
   "codemirror_mode": {
    "name": "ipython",
    "version": 3
   },
   "file_extension": ".py",
   "mimetype": "text/x-python",
   "name": "python",
   "nbconvert_exporter": "python",
   "pygments_lexer": "ipython3",
   "version": "3.10.13"
  },
  "papermill": {
   "default_parameters": {},
   "duration": 10.028545,
   "end_time": "2024-05-06T09:13:17.490301",
   "environment_variables": {},
   "exception": null,
   "input_path": "__notebook__.ipynb",
   "output_path": "__notebook__.ipynb",
   "parameters": {},
   "start_time": "2024-05-06T09:13:07.461756",
   "version": "2.5.0"
  }
 },
 "nbformat": 4,
 "nbformat_minor": 5
}
