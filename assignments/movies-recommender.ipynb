{
 "cells": [
  {
   "cell_type": "markdown",
   "id": "aa6c777f",
   "metadata": {
    "papermill": {
     "duration": 0.006184,
     "end_time": "2024-02-14T21:40:46.182253",
     "exception": false,
     "start_time": "2024-02-14T21:40:46.176069",
     "status": "completed"
    },
    "tags": []
   },
   "source": [
    "# TF-IDF Project\n",
    "* Este projeto busca a criação de um sistema de recomendação de filmes baseado em TF-iDF.\n",
    "* O programa final deverá receber o nome de um filme e retornar uma quantidade n de filmes parecidos com ele."
   ]
  },
  {
   "cell_type": "markdown",
   "id": "7ff9be86",
   "metadata": {
    "papermill": {
     "duration": 0.005378,
     "end_time": "2024-02-14T21:40:46.193575",
     "exception": false,
     "start_time": "2024-02-14T21:40:46.188197",
     "status": "completed"
    },
    "tags": []
   },
   "source": [
    "## Carregamento dos Dados\n",
    "* Vamos trabalhar apenas com a sinopse, gênero(s), keywords e cast dos filmes."
   ]
  },
  {
   "cell_type": "code",
   "execution_count": 1,
   "id": "1f47e5fe",
   "metadata": {
    "execution": {
     "iopub.execute_input": "2024-02-14T21:40:46.207894Z",
     "iopub.status.busy": "2024-02-14T21:40:46.206684Z",
     "iopub.status.idle": "2024-02-14T21:40:47.706083Z",
     "shell.execute_reply": "2024-02-14T21:40:47.704548Z"
    },
    "papermill": {
     "duration": 1.510174,
     "end_time": "2024-02-14T21:40:47.709380",
     "exception": false,
     "start_time": "2024-02-14T21:40:46.199206",
     "status": "completed"
    },
    "tags": []
   },
   "outputs": [
    {
     "data": {
      "text/html": [
       "<div>\n",
       "<style scoped>\n",
       "    .dataframe tbody tr th:only-of-type {\n",
       "        vertical-align: middle;\n",
       "    }\n",
       "\n",
       "    .dataframe tbody tr th {\n",
       "        vertical-align: top;\n",
       "    }\n",
       "\n",
       "    .dataframe thead th {\n",
       "        text-align: right;\n",
       "    }\n",
       "</style>\n",
       "<table border=\"1\" class=\"dataframe\">\n",
       "  <thead>\n",
       "    <tr style=\"text-align: right;\">\n",
       "      <th></th>\n",
       "      <th>budget</th>\n",
       "      <th>genres</th>\n",
       "      <th>homepage</th>\n",
       "      <th>id</th>\n",
       "      <th>keywords</th>\n",
       "      <th>original_language</th>\n",
       "      <th>original_title</th>\n",
       "      <th>overview</th>\n",
       "      <th>popularity</th>\n",
       "      <th>production_companies</th>\n",
       "      <th>production_countries</th>\n",
       "      <th>release_date</th>\n",
       "      <th>revenue</th>\n",
       "      <th>runtime</th>\n",
       "      <th>spoken_languages</th>\n",
       "      <th>status</th>\n",
       "      <th>tagline</th>\n",
       "      <th>title</th>\n",
       "      <th>vote_average</th>\n",
       "      <th>vote_count</th>\n",
       "    </tr>\n",
       "  </thead>\n",
       "  <tbody>\n",
       "    <tr>\n",
       "      <th>0</th>\n",
       "      <td>237000000</td>\n",
       "      <td>[{\"id\": 28, \"name\": \"Action\"}, {\"id\": 12, \"nam...</td>\n",
       "      <td>http://www.avatarmovie.com/</td>\n",
       "      <td>19995</td>\n",
       "      <td>[{\"id\": 1463, \"name\": \"culture clash\"}, {\"id\":...</td>\n",
       "      <td>en</td>\n",
       "      <td>Avatar</td>\n",
       "      <td>In the 22nd century, a paraplegic Marine is di...</td>\n",
       "      <td>150.437577</td>\n",
       "      <td>[{\"name\": \"Ingenious Film Partners\", \"id\": 289...</td>\n",
       "      <td>[{\"iso_3166_1\": \"US\", \"name\": \"United States o...</td>\n",
       "      <td>2009-12-10</td>\n",
       "      <td>2787965087</td>\n",
       "      <td>162.0</td>\n",
       "      <td>[{\"iso_639_1\": \"en\", \"name\": \"English\"}, {\"iso...</td>\n",
       "      <td>Released</td>\n",
       "      <td>Enter the World of Pandora.</td>\n",
       "      <td>Avatar</td>\n",
       "      <td>7.2</td>\n",
       "      <td>11800</td>\n",
       "    </tr>\n",
       "    <tr>\n",
       "      <th>1</th>\n",
       "      <td>300000000</td>\n",
       "      <td>[{\"id\": 12, \"name\": \"Adventure\"}, {\"id\": 14, \"...</td>\n",
       "      <td>http://disney.go.com/disneypictures/pirates/</td>\n",
       "      <td>285</td>\n",
       "      <td>[{\"id\": 270, \"name\": \"ocean\"}, {\"id\": 726, \"na...</td>\n",
       "      <td>en</td>\n",
       "      <td>Pirates of the Caribbean: At World's End</td>\n",
       "      <td>Captain Barbossa, long believed to be dead, ha...</td>\n",
       "      <td>139.082615</td>\n",
       "      <td>[{\"name\": \"Walt Disney Pictures\", \"id\": 2}, {\"...</td>\n",
       "      <td>[{\"iso_3166_1\": \"US\", \"name\": \"United States o...</td>\n",
       "      <td>2007-05-19</td>\n",
       "      <td>961000000</td>\n",
       "      <td>169.0</td>\n",
       "      <td>[{\"iso_639_1\": \"en\", \"name\": \"English\"}]</td>\n",
       "      <td>Released</td>\n",
       "      <td>At the end of the world, the adventure begins.</td>\n",
       "      <td>Pirates of the Caribbean: At World's End</td>\n",
       "      <td>6.9</td>\n",
       "      <td>4500</td>\n",
       "    </tr>\n",
       "    <tr>\n",
       "      <th>2</th>\n",
       "      <td>245000000</td>\n",
       "      <td>[{\"id\": 28, \"name\": \"Action\"}, {\"id\": 12, \"nam...</td>\n",
       "      <td>http://www.sonypictures.com/movies/spectre/</td>\n",
       "      <td>206647</td>\n",
       "      <td>[{\"id\": 470, \"name\": \"spy\"}, {\"id\": 818, \"name...</td>\n",
       "      <td>en</td>\n",
       "      <td>Spectre</td>\n",
       "      <td>A cryptic message from Bond’s past sends him o...</td>\n",
       "      <td>107.376788</td>\n",
       "      <td>[{\"name\": \"Columbia Pictures\", \"id\": 5}, {\"nam...</td>\n",
       "      <td>[{\"iso_3166_1\": \"GB\", \"name\": \"United Kingdom\"...</td>\n",
       "      <td>2015-10-26</td>\n",
       "      <td>880674609</td>\n",
       "      <td>148.0</td>\n",
       "      <td>[{\"iso_639_1\": \"fr\", \"name\": \"Fran\\u00e7ais\"},...</td>\n",
       "      <td>Released</td>\n",
       "      <td>A Plan No One Escapes</td>\n",
       "      <td>Spectre</td>\n",
       "      <td>6.3</td>\n",
       "      <td>4466</td>\n",
       "    </tr>\n",
       "    <tr>\n",
       "      <th>3</th>\n",
       "      <td>250000000</td>\n",
       "      <td>[{\"id\": 28, \"name\": \"Action\"}, {\"id\": 80, \"nam...</td>\n",
       "      <td>http://www.thedarkknightrises.com/</td>\n",
       "      <td>49026</td>\n",
       "      <td>[{\"id\": 849, \"name\": \"dc comics\"}, {\"id\": 853,...</td>\n",
       "      <td>en</td>\n",
       "      <td>The Dark Knight Rises</td>\n",
       "      <td>Following the death of District Attorney Harve...</td>\n",
       "      <td>112.312950</td>\n",
       "      <td>[{\"name\": \"Legendary Pictures\", \"id\": 923}, {\"...</td>\n",
       "      <td>[{\"iso_3166_1\": \"US\", \"name\": \"United States o...</td>\n",
       "      <td>2012-07-16</td>\n",
       "      <td>1084939099</td>\n",
       "      <td>165.0</td>\n",
       "      <td>[{\"iso_639_1\": \"en\", \"name\": \"English\"}]</td>\n",
       "      <td>Released</td>\n",
       "      <td>The Legend Ends</td>\n",
       "      <td>The Dark Knight Rises</td>\n",
       "      <td>7.6</td>\n",
       "      <td>9106</td>\n",
       "    </tr>\n",
       "    <tr>\n",
       "      <th>4</th>\n",
       "      <td>260000000</td>\n",
       "      <td>[{\"id\": 28, \"name\": \"Action\"}, {\"id\": 12, \"nam...</td>\n",
       "      <td>http://movies.disney.com/john-carter</td>\n",
       "      <td>49529</td>\n",
       "      <td>[{\"id\": 818, \"name\": \"based on novel\"}, {\"id\":...</td>\n",
       "      <td>en</td>\n",
       "      <td>John Carter</td>\n",
       "      <td>John Carter is a war-weary, former military ca...</td>\n",
       "      <td>43.926995</td>\n",
       "      <td>[{\"name\": \"Walt Disney Pictures\", \"id\": 2}]</td>\n",
       "      <td>[{\"iso_3166_1\": \"US\", \"name\": \"United States o...</td>\n",
       "      <td>2012-03-07</td>\n",
       "      <td>284139100</td>\n",
       "      <td>132.0</td>\n",
       "      <td>[{\"iso_639_1\": \"en\", \"name\": \"English\"}]</td>\n",
       "      <td>Released</td>\n",
       "      <td>Lost in our world, found in another.</td>\n",
       "      <td>John Carter</td>\n",
       "      <td>6.1</td>\n",
       "      <td>2124</td>\n",
       "    </tr>\n",
       "  </tbody>\n",
       "</table>\n",
       "</div>"
      ],
      "text/plain": [
       "      budget                                             genres  \\\n",
       "0  237000000  [{\"id\": 28, \"name\": \"Action\"}, {\"id\": 12, \"nam...   \n",
       "1  300000000  [{\"id\": 12, \"name\": \"Adventure\"}, {\"id\": 14, \"...   \n",
       "2  245000000  [{\"id\": 28, \"name\": \"Action\"}, {\"id\": 12, \"nam...   \n",
       "3  250000000  [{\"id\": 28, \"name\": \"Action\"}, {\"id\": 80, \"nam...   \n",
       "4  260000000  [{\"id\": 28, \"name\": \"Action\"}, {\"id\": 12, \"nam...   \n",
       "\n",
       "                                       homepage      id  \\\n",
       "0                   http://www.avatarmovie.com/   19995   \n",
       "1  http://disney.go.com/disneypictures/pirates/     285   \n",
       "2   http://www.sonypictures.com/movies/spectre/  206647   \n",
       "3            http://www.thedarkknightrises.com/   49026   \n",
       "4          http://movies.disney.com/john-carter   49529   \n",
       "\n",
       "                                            keywords original_language  \\\n",
       "0  [{\"id\": 1463, \"name\": \"culture clash\"}, {\"id\":...                en   \n",
       "1  [{\"id\": 270, \"name\": \"ocean\"}, {\"id\": 726, \"na...                en   \n",
       "2  [{\"id\": 470, \"name\": \"spy\"}, {\"id\": 818, \"name...                en   \n",
       "3  [{\"id\": 849, \"name\": \"dc comics\"}, {\"id\": 853,...                en   \n",
       "4  [{\"id\": 818, \"name\": \"based on novel\"}, {\"id\":...                en   \n",
       "\n",
       "                             original_title  \\\n",
       "0                                    Avatar   \n",
       "1  Pirates of the Caribbean: At World's End   \n",
       "2                                   Spectre   \n",
       "3                     The Dark Knight Rises   \n",
       "4                               John Carter   \n",
       "\n",
       "                                            overview  popularity  \\\n",
       "0  In the 22nd century, a paraplegic Marine is di...  150.437577   \n",
       "1  Captain Barbossa, long believed to be dead, ha...  139.082615   \n",
       "2  A cryptic message from Bond’s past sends him o...  107.376788   \n",
       "3  Following the death of District Attorney Harve...  112.312950   \n",
       "4  John Carter is a war-weary, former military ca...   43.926995   \n",
       "\n",
       "                                production_companies  \\\n",
       "0  [{\"name\": \"Ingenious Film Partners\", \"id\": 289...   \n",
       "1  [{\"name\": \"Walt Disney Pictures\", \"id\": 2}, {\"...   \n",
       "2  [{\"name\": \"Columbia Pictures\", \"id\": 5}, {\"nam...   \n",
       "3  [{\"name\": \"Legendary Pictures\", \"id\": 923}, {\"...   \n",
       "4        [{\"name\": \"Walt Disney Pictures\", \"id\": 2}]   \n",
       "\n",
       "                                production_countries release_date     revenue  \\\n",
       "0  [{\"iso_3166_1\": \"US\", \"name\": \"United States o...   2009-12-10  2787965087   \n",
       "1  [{\"iso_3166_1\": \"US\", \"name\": \"United States o...   2007-05-19   961000000   \n",
       "2  [{\"iso_3166_1\": \"GB\", \"name\": \"United Kingdom\"...   2015-10-26   880674609   \n",
       "3  [{\"iso_3166_1\": \"US\", \"name\": \"United States o...   2012-07-16  1084939099   \n",
       "4  [{\"iso_3166_1\": \"US\", \"name\": \"United States o...   2012-03-07   284139100   \n",
       "\n",
       "   runtime                                   spoken_languages    status  \\\n",
       "0    162.0  [{\"iso_639_1\": \"en\", \"name\": \"English\"}, {\"iso...  Released   \n",
       "1    169.0           [{\"iso_639_1\": \"en\", \"name\": \"English\"}]  Released   \n",
       "2    148.0  [{\"iso_639_1\": \"fr\", \"name\": \"Fran\\u00e7ais\"},...  Released   \n",
       "3    165.0           [{\"iso_639_1\": \"en\", \"name\": \"English\"}]  Released   \n",
       "4    132.0           [{\"iso_639_1\": \"en\", \"name\": \"English\"}]  Released   \n",
       "\n",
       "                                          tagline  \\\n",
       "0                     Enter the World of Pandora.   \n",
       "1  At the end of the world, the adventure begins.   \n",
       "2                           A Plan No One Escapes   \n",
       "3                                 The Legend Ends   \n",
       "4            Lost in our world, found in another.   \n",
       "\n",
       "                                      title  vote_average  vote_count  \n",
       "0                                    Avatar           7.2       11800  \n",
       "1  Pirates of the Caribbean: At World's End           6.9        4500  \n",
       "2                                   Spectre           6.3        4466  \n",
       "3                     The Dark Knight Rises           7.6        9106  \n",
       "4                               John Carter           6.1        2124  "
      ]
     },
     "execution_count": 1,
     "metadata": {},
     "output_type": "execute_result"
    }
   ],
   "source": [
    "import pandas as pd\n",
    "\n",
    "df_movies = pd.read_csv('/kaggle/input/tmdb-movie-metadata/tmdb_5000_movies.csv')\n",
    "df_movies.head()"
   ]
  },
  {
   "cell_type": "code",
   "execution_count": 2,
   "id": "ff4f62c1",
   "metadata": {
    "execution": {
     "iopub.execute_input": "2024-02-14T21:40:47.726054Z",
     "iopub.status.busy": "2024-02-14T21:40:47.725464Z",
     "iopub.status.idle": "2024-02-14T21:40:48.954193Z",
     "shell.execute_reply": "2024-02-14T21:40:48.952833Z"
    },
    "papermill": {
     "duration": 1.240884,
     "end_time": "2024-02-14T21:40:48.957309",
     "exception": false,
     "start_time": "2024-02-14T21:40:47.716425",
     "status": "completed"
    },
    "tags": []
   },
   "outputs": [
    {
     "data": {
      "text/html": [
       "<div>\n",
       "<style scoped>\n",
       "    .dataframe tbody tr th:only-of-type {\n",
       "        vertical-align: middle;\n",
       "    }\n",
       "\n",
       "    .dataframe tbody tr th {\n",
       "        vertical-align: top;\n",
       "    }\n",
       "\n",
       "    .dataframe thead th {\n",
       "        text-align: right;\n",
       "    }\n",
       "</style>\n",
       "<table border=\"1\" class=\"dataframe\">\n",
       "  <thead>\n",
       "    <tr style=\"text-align: right;\">\n",
       "      <th></th>\n",
       "      <th>movie_id</th>\n",
       "      <th>title</th>\n",
       "      <th>cast</th>\n",
       "      <th>crew</th>\n",
       "    </tr>\n",
       "  </thead>\n",
       "  <tbody>\n",
       "    <tr>\n",
       "      <th>0</th>\n",
       "      <td>19995</td>\n",
       "      <td>Avatar</td>\n",
       "      <td>[{\"cast_id\": 242, \"character\": \"Jake Sully\", \"...</td>\n",
       "      <td>[{\"credit_id\": \"52fe48009251416c750aca23\", \"de...</td>\n",
       "    </tr>\n",
       "    <tr>\n",
       "      <th>1</th>\n",
       "      <td>285</td>\n",
       "      <td>Pirates of the Caribbean: At World's End</td>\n",
       "      <td>[{\"cast_id\": 4, \"character\": \"Captain Jack Spa...</td>\n",
       "      <td>[{\"credit_id\": \"52fe4232c3a36847f800b579\", \"de...</td>\n",
       "    </tr>\n",
       "    <tr>\n",
       "      <th>2</th>\n",
       "      <td>206647</td>\n",
       "      <td>Spectre</td>\n",
       "      <td>[{\"cast_id\": 1, \"character\": \"James Bond\", \"cr...</td>\n",
       "      <td>[{\"credit_id\": \"54805967c3a36829b5002c41\", \"de...</td>\n",
       "    </tr>\n",
       "    <tr>\n",
       "      <th>3</th>\n",
       "      <td>49026</td>\n",
       "      <td>The Dark Knight Rises</td>\n",
       "      <td>[{\"cast_id\": 2, \"character\": \"Bruce Wayne / Ba...</td>\n",
       "      <td>[{\"credit_id\": \"52fe4781c3a36847f81398c3\", \"de...</td>\n",
       "    </tr>\n",
       "    <tr>\n",
       "      <th>4</th>\n",
       "      <td>49529</td>\n",
       "      <td>John Carter</td>\n",
       "      <td>[{\"cast_id\": 5, \"character\": \"John Carter\", \"c...</td>\n",
       "      <td>[{\"credit_id\": \"52fe479ac3a36847f813eaa3\", \"de...</td>\n",
       "    </tr>\n",
       "  </tbody>\n",
       "</table>\n",
       "</div>"
      ],
      "text/plain": [
       "   movie_id                                     title  \\\n",
       "0     19995                                    Avatar   \n",
       "1       285  Pirates of the Caribbean: At World's End   \n",
       "2    206647                                   Spectre   \n",
       "3     49026                     The Dark Knight Rises   \n",
       "4     49529                               John Carter   \n",
       "\n",
       "                                                cast  \\\n",
       "0  [{\"cast_id\": 242, \"character\": \"Jake Sully\", \"...   \n",
       "1  [{\"cast_id\": 4, \"character\": \"Captain Jack Spa...   \n",
       "2  [{\"cast_id\": 1, \"character\": \"James Bond\", \"cr...   \n",
       "3  [{\"cast_id\": 2, \"character\": \"Bruce Wayne / Ba...   \n",
       "4  [{\"cast_id\": 5, \"character\": \"John Carter\", \"c...   \n",
       "\n",
       "                                                crew  \n",
       "0  [{\"credit_id\": \"52fe48009251416c750aca23\", \"de...  \n",
       "1  [{\"credit_id\": \"52fe4232c3a36847f800b579\", \"de...  \n",
       "2  [{\"credit_id\": \"54805967c3a36829b5002c41\", \"de...  \n",
       "3  [{\"credit_id\": \"52fe4781c3a36847f81398c3\", \"de...  \n",
       "4  [{\"credit_id\": \"52fe479ac3a36847f813eaa3\", \"de...  "
      ]
     },
     "execution_count": 2,
     "metadata": {},
     "output_type": "execute_result"
    }
   ],
   "source": [
    "df_credits = pd.read_csv('/kaggle/input/tmdb-movie-metadata/tmdb_5000_credits.csv')\n",
    "df_credits.head()"
   ]
  },
  {
   "cell_type": "code",
   "execution_count": 3,
   "id": "7cd4be41",
   "metadata": {
    "execution": {
     "iopub.execute_input": "2024-02-14T21:40:48.973482Z",
     "iopub.status.busy": "2024-02-14T21:40:48.973047Z",
     "iopub.status.idle": "2024-02-14T21:40:49.014141Z",
     "shell.execute_reply": "2024-02-14T21:40:49.012813Z"
    },
    "papermill": {
     "duration": 0.053066,
     "end_time": "2024-02-14T21:40:49.017374",
     "exception": false,
     "start_time": "2024-02-14T21:40:48.964308",
     "status": "completed"
    },
    "tags": []
   },
   "outputs": [
    {
     "data": {
      "text/html": [
       "<div>\n",
       "<style scoped>\n",
       "    .dataframe tbody tr th:only-of-type {\n",
       "        vertical-align: middle;\n",
       "    }\n",
       "\n",
       "    .dataframe tbody tr th {\n",
       "        vertical-align: top;\n",
       "    }\n",
       "\n",
       "    .dataframe thead th {\n",
       "        text-align: right;\n",
       "    }\n",
       "</style>\n",
       "<table border=\"1\" class=\"dataframe\">\n",
       "  <thead>\n",
       "    <tr style=\"text-align: right;\">\n",
       "      <th></th>\n",
       "      <th>original_title</th>\n",
       "      <th>overview</th>\n",
       "      <th>genres</th>\n",
       "      <th>keywords</th>\n",
       "      <th>cast</th>\n",
       "    </tr>\n",
       "  </thead>\n",
       "  <tbody>\n",
       "    <tr>\n",
       "      <th>0</th>\n",
       "      <td>Avatar</td>\n",
       "      <td>In the 22nd century, a paraplegic Marine is di...</td>\n",
       "      <td>[{\"id\": 28, \"name\": \"Action\"}, {\"id\": 12, \"nam...</td>\n",
       "      <td>[{\"id\": 1463, \"name\": \"culture clash\"}, {\"id\":...</td>\n",
       "      <td>[{\"cast_id\": 242, \"character\": \"Jake Sully\", \"...</td>\n",
       "    </tr>\n",
       "    <tr>\n",
       "      <th>1</th>\n",
       "      <td>Pirates of the Caribbean: At World's End</td>\n",
       "      <td>Captain Barbossa, long believed to be dead, ha...</td>\n",
       "      <td>[{\"id\": 12, \"name\": \"Adventure\"}, {\"id\": 14, \"...</td>\n",
       "      <td>[{\"id\": 270, \"name\": \"ocean\"}, {\"id\": 726, \"na...</td>\n",
       "      <td>[{\"cast_id\": 4, \"character\": \"Captain Jack Spa...</td>\n",
       "    </tr>\n",
       "    <tr>\n",
       "      <th>2</th>\n",
       "      <td>Spectre</td>\n",
       "      <td>A cryptic message from Bond’s past sends him o...</td>\n",
       "      <td>[{\"id\": 28, \"name\": \"Action\"}, {\"id\": 12, \"nam...</td>\n",
       "      <td>[{\"id\": 470, \"name\": \"spy\"}, {\"id\": 818, \"name...</td>\n",
       "      <td>[{\"cast_id\": 1, \"character\": \"James Bond\", \"cr...</td>\n",
       "    </tr>\n",
       "    <tr>\n",
       "      <th>3</th>\n",
       "      <td>The Dark Knight Rises</td>\n",
       "      <td>Following the death of District Attorney Harve...</td>\n",
       "      <td>[{\"id\": 28, \"name\": \"Action\"}, {\"id\": 80, \"nam...</td>\n",
       "      <td>[{\"id\": 849, \"name\": \"dc comics\"}, {\"id\": 853,...</td>\n",
       "      <td>[{\"cast_id\": 2, \"character\": \"Bruce Wayne / Ba...</td>\n",
       "    </tr>\n",
       "    <tr>\n",
       "      <th>4</th>\n",
       "      <td>John Carter</td>\n",
       "      <td>John Carter is a war-weary, former military ca...</td>\n",
       "      <td>[{\"id\": 28, \"name\": \"Action\"}, {\"id\": 12, \"nam...</td>\n",
       "      <td>[{\"id\": 818, \"name\": \"based on novel\"}, {\"id\":...</td>\n",
       "      <td>[{\"cast_id\": 5, \"character\": \"John Carter\", \"c...</td>\n",
       "    </tr>\n",
       "  </tbody>\n",
       "</table>\n",
       "</div>"
      ],
      "text/plain": [
       "                             original_title  \\\n",
       "0                                    Avatar   \n",
       "1  Pirates of the Caribbean: At World's End   \n",
       "2                                   Spectre   \n",
       "3                     The Dark Knight Rises   \n",
       "4                               John Carter   \n",
       "\n",
       "                                            overview  \\\n",
       "0  In the 22nd century, a paraplegic Marine is di...   \n",
       "1  Captain Barbossa, long believed to be dead, ha...   \n",
       "2  A cryptic message from Bond’s past sends him o...   \n",
       "3  Following the death of District Attorney Harve...   \n",
       "4  John Carter is a war-weary, former military ca...   \n",
       "\n",
       "                                              genres  \\\n",
       "0  [{\"id\": 28, \"name\": \"Action\"}, {\"id\": 12, \"nam...   \n",
       "1  [{\"id\": 12, \"name\": \"Adventure\"}, {\"id\": 14, \"...   \n",
       "2  [{\"id\": 28, \"name\": \"Action\"}, {\"id\": 12, \"nam...   \n",
       "3  [{\"id\": 28, \"name\": \"Action\"}, {\"id\": 80, \"nam...   \n",
       "4  [{\"id\": 28, \"name\": \"Action\"}, {\"id\": 12, \"nam...   \n",
       "\n",
       "                                            keywords  \\\n",
       "0  [{\"id\": 1463, \"name\": \"culture clash\"}, {\"id\":...   \n",
       "1  [{\"id\": 270, \"name\": \"ocean\"}, {\"id\": 726, \"na...   \n",
       "2  [{\"id\": 470, \"name\": \"spy\"}, {\"id\": 818, \"name...   \n",
       "3  [{\"id\": 849, \"name\": \"dc comics\"}, {\"id\": 853,...   \n",
       "4  [{\"id\": 818, \"name\": \"based on novel\"}, {\"id\":...   \n",
       "\n",
       "                                                cast  \n",
       "0  [{\"cast_id\": 242, \"character\": \"Jake Sully\", \"...  \n",
       "1  [{\"cast_id\": 4, \"character\": \"Captain Jack Spa...  \n",
       "2  [{\"cast_id\": 1, \"character\": \"James Bond\", \"cr...  \n",
       "3  [{\"cast_id\": 2, \"character\": \"Bruce Wayne / Ba...  \n",
       "4  [{\"cast_id\": 5, \"character\": \"John Carter\", \"c...  "
      ]
     },
     "execution_count": 3,
     "metadata": {},
     "output_type": "execute_result"
    }
   ],
   "source": [
    "# Dataset com apenas os dados do projeto. \n",
    "df = pd.merge(df_movies, df_credits, left_on='id', right_on='movie_id')[['original_title', 'overview', 'genres', 'keywords', 'cast']]\n",
    "df.head()"
   ]
  },
  {
   "cell_type": "markdown",
   "id": "1fa50834",
   "metadata": {
    "papermill": {
     "duration": 0.00838,
     "end_time": "2024-02-14T21:40:49.035406",
     "exception": false,
     "start_time": "2024-02-14T21:40:49.027026",
     "status": "completed"
    },
    "tags": []
   },
   "source": [
    "## Tratamento dos Dados\n",
    "* Do que observei nas colunas de listas de dicionários, existe apenas uma chave que nos interessa em cada uma delas.\n",
    "* Por isso, podemos transformar essas colunas no concatenado dos valores dessas chaves."
   ]
  },
  {
   "cell_type": "code",
   "execution_count": 4,
   "id": "0a604c51",
   "metadata": {
    "execution": {
     "iopub.execute_input": "2024-02-14T21:40:49.053221Z",
     "iopub.status.busy": "2024-02-14T21:40:49.052233Z",
     "iopub.status.idle": "2024-02-14T21:40:52.693479Z",
     "shell.execute_reply": "2024-02-14T21:40:52.692150Z"
    },
    "papermill": {
     "duration": 3.653697,
     "end_time": "2024-02-14T21:40:52.696649",
     "exception": false,
     "start_time": "2024-02-14T21:40:49.042952",
     "status": "completed"
    },
    "tags": []
   },
   "outputs": [
    {
     "data": {
      "text/html": [
       "<div>\n",
       "<style scoped>\n",
       "    .dataframe tbody tr th:only-of-type {\n",
       "        vertical-align: middle;\n",
       "    }\n",
       "\n",
       "    .dataframe tbody tr th {\n",
       "        vertical-align: top;\n",
       "    }\n",
       "\n",
       "    .dataframe thead th {\n",
       "        text-align: right;\n",
       "    }\n",
       "</style>\n",
       "<table border=\"1\" class=\"dataframe\">\n",
       "  <thead>\n",
       "    <tr style=\"text-align: right;\">\n",
       "      <th></th>\n",
       "      <th>original_title</th>\n",
       "      <th>overview</th>\n",
       "      <th>genres</th>\n",
       "      <th>keywords</th>\n",
       "      <th>cast</th>\n",
       "    </tr>\n",
       "  </thead>\n",
       "  <tbody>\n",
       "    <tr>\n",
       "      <th>0</th>\n",
       "      <td>Avatar</td>\n",
       "      <td>In the 22nd century, a paraplegic Marine is di...</td>\n",
       "      <td>Action, Adventure, Fantasy, Science Fiction,</td>\n",
       "      <td>culture clash, future, space war, space colony...</td>\n",
       "      <td>Sam Worthington, Zoe Saldana, Sigourney Weaver...</td>\n",
       "    </tr>\n",
       "    <tr>\n",
       "      <th>1</th>\n",
       "      <td>Pirates of the Caribbean: At World's End</td>\n",
       "      <td>Captain Barbossa, long believed to be dead, ha...</td>\n",
       "      <td>Adventure, Fantasy, Action,</td>\n",
       "      <td>ocean, drug abuse, exotic island, east india t...</td>\n",
       "      <td>Johnny Depp, Orlando Bloom, Keira Knightley, S...</td>\n",
       "    </tr>\n",
       "    <tr>\n",
       "      <th>2</th>\n",
       "      <td>Spectre</td>\n",
       "      <td>A cryptic message from Bond’s past sends him o...</td>\n",
       "      <td>Action, Adventure, Crime,</td>\n",
       "      <td>spy, based on novel, secret agent, sequel, mi6...</td>\n",
       "      <td>Daniel Craig, Christoph Waltz, Léa Seydoux, Ra...</td>\n",
       "    </tr>\n",
       "    <tr>\n",
       "      <th>3</th>\n",
       "      <td>The Dark Knight Rises</td>\n",
       "      <td>Following the death of District Attorney Harve...</td>\n",
       "      <td>Action, Crime, Drama, Thriller,</td>\n",
       "      <td>dc comics, crime fighter, terrorist, secret id...</td>\n",
       "      <td>Christian Bale, Michael Caine, Gary Oldman, An...</td>\n",
       "    </tr>\n",
       "    <tr>\n",
       "      <th>4</th>\n",
       "      <td>John Carter</td>\n",
       "      <td>John Carter is a war-weary, former military ca...</td>\n",
       "      <td>Action, Adventure, Science Fiction,</td>\n",
       "      <td>based on novel, mars, medallion, space travel,...</td>\n",
       "      <td>Taylor Kitsch, Lynn Collins, Samantha Morton, ...</td>\n",
       "    </tr>\n",
       "  </tbody>\n",
       "</table>\n",
       "</div>"
      ],
      "text/plain": [
       "                             original_title  \\\n",
       "0                                    Avatar   \n",
       "1  Pirates of the Caribbean: At World's End   \n",
       "2                                   Spectre   \n",
       "3                     The Dark Knight Rises   \n",
       "4                               John Carter   \n",
       "\n",
       "                                            overview  \\\n",
       "0  In the 22nd century, a paraplegic Marine is di...   \n",
       "1  Captain Barbossa, long believed to be dead, ha...   \n",
       "2  A cryptic message from Bond’s past sends him o...   \n",
       "3  Following the death of District Attorney Harve...   \n",
       "4  John Carter is a war-weary, former military ca...   \n",
       "\n",
       "                                          genres  \\\n",
       "0  Action, Adventure, Fantasy, Science Fiction,    \n",
       "1                   Adventure, Fantasy, Action,    \n",
       "2                     Action, Adventure, Crime,    \n",
       "3               Action, Crime, Drama, Thriller,    \n",
       "4           Action, Adventure, Science Fiction,    \n",
       "\n",
       "                                            keywords  \\\n",
       "0  culture clash, future, space war, space colony...   \n",
       "1  ocean, drug abuse, exotic island, east india t...   \n",
       "2  spy, based on novel, secret agent, sequel, mi6...   \n",
       "3  dc comics, crime fighter, terrorist, secret id...   \n",
       "4  based on novel, mars, medallion, space travel,...   \n",
       "\n",
       "                                                cast  \n",
       "0  Sam Worthington, Zoe Saldana, Sigourney Weaver...  \n",
       "1  Johnny Depp, Orlando Bloom, Keira Knightley, S...  \n",
       "2  Daniel Craig, Christoph Waltz, Léa Seydoux, Ra...  \n",
       "3  Christian Bale, Michael Caine, Gary Oldman, An...  \n",
       "4  Taylor Kitsch, Lynn Collins, Samantha Morton, ...  "
      ]
     },
     "execution_count": 4,
     "metadata": {},
     "output_type": "execute_result"
    }
   ],
   "source": [
    "from typing import Dict, List\n",
    "\n",
    "# Listando as colunas \"dicionarizadas\" e a chave de nosso interesse.\n",
    "col_key = {col:'name' for col in ['genres', 'keywords', 'cast']}\n",
    "\n",
    "def _concat_str(row_value:str, k:str)->str:\n",
    "    '''\n",
    "        Função que converterá a lista de dicionários em uma string com os valores da chave de interesse concatenados.\n",
    "        \n",
    "        Parâmetros\n",
    "        ----------\n",
    "        `row_value`: str\n",
    "            Valor da linha de nosso interesse.\n",
    "        `k`: str\n",
    "            Nome da chave cujos valores substituirão a lista de dicionários.\n",
    "            \n",
    "        Retorna\n",
    "        -------\n",
    "        Uma string com os valores de interesse concatenados.\n",
    "            \n",
    "    '''\n",
    "    l = eval(row_value)\n",
    "    output_str = ''\n",
    "    for d in l:\n",
    "        output_str+=f'{d[k]}, '\n",
    "    return output_str\n",
    "\n",
    "def dict_to_str(df:pd.DataFrame=df, col_key: Dict[str, str]=col_key)->pd.DataFrame:\n",
    "    '''\n",
    "        Função que transformará as colunas \"dicionarizadas\".\n",
    "        \n",
    "        Parâmetros\n",
    "        ----------\n",
    "        `df`: pd.DataFrame\n",
    "            DataFrame com os dados do projeto.\n",
    "        `col_key`: Dict[str, str]\n",
    "            Dicionário que menciona os nomes das colunas-alvo e chaves de interesse.\n",
    "            \n",
    "        Retorna\n",
    "        -------\n",
    "        DataFrame com as colunas transformadas em texto pleno.\n",
    "    '''\n",
    "    df = df.copy() # Não vamos aplicar as transformações in-place.\n",
    "    for col, k in col_key.items():\n",
    "        df[col] = df[col].apply(_concat_str, **{'k':k})\n",
    "    return df\n",
    "    \n",
    "#df['cast'].map(lambda x: eval(x))\n",
    "df = dict_to_str()\n",
    "df.head()"
   ]
  },
  {
   "cell_type": "markdown",
   "id": "a4800bc8",
   "metadata": {
    "papermill": {
     "duration": 0.006894,
     "end_time": "2024-02-14T21:40:52.710998",
     "exception": false,
     "start_time": "2024-02-14T21:40:52.704104",
     "status": "completed"
    },
    "tags": []
   },
   "source": [
    "### Criação dos Textos para TF-IDF\n",
    "* Tendo as todas as colunas como texto, podemos uni-las em uma única só com todos os seus conteúdos.\n",
    "* Como nossa solução envolve apenas uma técnica Bag-of-Words, podemos apenas concatenar os valores das colunas, sem nos preocuparmos com a semântica."
   ]
  },
  {
   "cell_type": "code",
   "execution_count": 5,
   "id": "39a87f99",
   "metadata": {
    "execution": {
     "iopub.execute_input": "2024-02-14T21:40:52.727671Z",
     "iopub.status.busy": "2024-02-14T21:40:52.727292Z",
     "iopub.status.idle": "2024-02-14T21:40:52.797259Z",
     "shell.execute_reply": "2024-02-14T21:40:52.795804Z"
    },
    "papermill": {
     "duration": 0.081769,
     "end_time": "2024-02-14T21:40:52.800032",
     "exception": false,
     "start_time": "2024-02-14T21:40:52.718263",
     "status": "completed"
    },
    "tags": []
   },
   "outputs": [
    {
     "data": {
      "text/html": [
       "<div>\n",
       "<style scoped>\n",
       "    .dataframe tbody tr th:only-of-type {\n",
       "        vertical-align: middle;\n",
       "    }\n",
       "\n",
       "    .dataframe tbody tr th {\n",
       "        vertical-align: top;\n",
       "    }\n",
       "\n",
       "    .dataframe thead th {\n",
       "        text-align: right;\n",
       "    }\n",
       "</style>\n",
       "<table border=\"1\" class=\"dataframe\">\n",
       "  <thead>\n",
       "    <tr style=\"text-align: right;\">\n",
       "      <th></th>\n",
       "      <th>original_title</th>\n",
       "      <th>X</th>\n",
       "    </tr>\n",
       "  </thead>\n",
       "  <tbody>\n",
       "    <tr>\n",
       "      <th>0</th>\n",
       "      <td>Avatar</td>\n",
       "      <td>In the 22nd century, a paraplegic Marine is di...</td>\n",
       "    </tr>\n",
       "    <tr>\n",
       "      <th>1</th>\n",
       "      <td>Pirates of the Caribbean: At World's End</td>\n",
       "      <td>Captain Barbossa, long believed to be dead, ha...</td>\n",
       "    </tr>\n",
       "    <tr>\n",
       "      <th>2</th>\n",
       "      <td>Spectre</td>\n",
       "      <td>A cryptic message from Bond’s past sends him o...</td>\n",
       "    </tr>\n",
       "    <tr>\n",
       "      <th>3</th>\n",
       "      <td>The Dark Knight Rises</td>\n",
       "      <td>Following the death of District Attorney Harve...</td>\n",
       "    </tr>\n",
       "    <tr>\n",
       "      <th>4</th>\n",
       "      <td>John Carter</td>\n",
       "      <td>John Carter is a war-weary, former military ca...</td>\n",
       "    </tr>\n",
       "  </tbody>\n",
       "</table>\n",
       "</div>"
      ],
      "text/plain": [
       "                             original_title  \\\n",
       "0                                    Avatar   \n",
       "1  Pirates of the Caribbean: At World's End   \n",
       "2                                   Spectre   \n",
       "3                     The Dark Knight Rises   \n",
       "4                               John Carter   \n",
       "\n",
       "                                                   X  \n",
       "0  In the 22nd century, a paraplegic Marine is di...  \n",
       "1  Captain Barbossa, long believed to be dead, ha...  \n",
       "2  A cryptic message from Bond’s past sends him o...  \n",
       "3  Following the death of District Attorney Harve...  \n",
       "4  John Carter is a war-weary, former military ca...  "
      ]
     },
     "execution_count": 5,
     "metadata": {},
     "output_type": "execute_result"
    }
   ],
   "source": [
    "# Concatenando os dados.\n",
    "df['X'] = ''\n",
    "for col in df.columns[1:]:\n",
    "    df['X']+=(df[col]+' ')\n",
    "    \n",
    "# Removendo leading e trailing spaces.\n",
    "df['X'] = df['X'].str.strip()\n",
    "\n",
    "# Mantendo apenas as colunas de título e 'X'.\n",
    "df = df[['original_title', 'X']]\n",
    "df.head()"
   ]
  },
  {
   "cell_type": "code",
   "execution_count": 6,
   "id": "18c6c226",
   "metadata": {
    "execution": {
     "iopub.execute_input": "2024-02-14T21:40:52.818575Z",
     "iopub.status.busy": "2024-02-14T21:40:52.818132Z",
     "iopub.status.idle": "2024-02-14T21:40:55.266348Z",
     "shell.execute_reply": "2024-02-14T21:40:55.265074Z"
    },
    "papermill": {
     "duration": 2.461401,
     "end_time": "2024-02-14T21:40:55.270118",
     "exception": false,
     "start_time": "2024-02-14T21:40:52.808717",
     "status": "completed"
    },
    "tags": []
   },
   "outputs": [],
   "source": [
    "from sklearn.feature_extraction.text import TfidfVectorizer\n",
    "from nltk.stem import WordNetLemmatizer\n",
    "from nltk.corpus import stopwords\n",
    "from nltk import word_tokenize, pos_tag, wordnet\n",
    "from typing import List\n",
    "\n",
    "class LemmaTokenizer:\n",
    "    def __init__(self):\n",
    "        self.wnl = WordNetLemmatizer()\n",
    "    \n",
    "    @staticmethod\n",
    "    def get_wordnet_pos(treebank_tag):\n",
    "        if treebank_tag.startswith('J'):\n",
    "            return wordnet.ADJ\n",
    "        elif treebank_tag.startswith('V'):\n",
    "            return wordnet.VERB\n",
    "        elif treebank_tag.startswith('N'):\n",
    "            return wordnet.NOUN\n",
    "        elif treebank_tag.startswith('R'):\n",
    "            return wordnet.ADV\n",
    "        else:\n",
    "            return wordnet.NOUN\n",
    "        \n",
    "    def __call__(self, doc)->List[str]:\n",
    "        tokens = word_tokenize(doc)\n",
    "        tokens_tags = pos_tag(tokens)\n",
    "        return [self.wnl.lemmatize(token, pos=self.get_wordnet_pos(pos)) for token, pos in tokens_tags]"
   ]
  },
  {
   "cell_type": "code",
   "execution_count": 7,
   "id": "07beb75c",
   "metadata": {
    "execution": {
     "iopub.execute_input": "2024-02-14T21:40:55.289660Z",
     "iopub.status.busy": "2024-02-14T21:40:55.289214Z",
     "iopub.status.idle": "2024-02-14T21:40:55.302566Z",
     "shell.execute_reply": "2024-02-14T21:40:55.301270Z"
    },
    "papermill": {
     "duration": 0.02702,
     "end_time": "2024-02-14T21:40:55.305927",
     "exception": false,
     "start_time": "2024-02-14T21:40:55.278907",
     "status": "completed"
    },
    "tags": []
   },
   "outputs": [],
   "source": [
    "# Invocando as stopwords da língua inglesa.\n",
    "stop_words = stopwords.words('english')"
   ]
  },
  {
   "cell_type": "code",
   "execution_count": 8,
   "id": "d206ae3b",
   "metadata": {
    "collapsed": true,
    "execution": {
     "iopub.execute_input": "2024-02-14T21:40:55.323906Z",
     "iopub.status.busy": "2024-02-14T21:40:55.323226Z",
     "iopub.status.idle": "2024-02-14T21:40:55.471689Z",
     "shell.execute_reply": "2024-02-14T21:40:55.470837Z"
    },
    "jupyter": {
     "outputs_hidden": true
    },
    "papermill": {
     "duration": 0.16013,
     "end_time": "2024-02-14T21:40:55.474159",
     "exception": false,
     "start_time": "2024-02-14T21:40:55.314029",
     "status": "completed"
    },
    "tags": []
   },
   "outputs": [
    {
     "data": {
      "text/plain": [
       "array(['In the 22nd century, a paraplegic Marine is dispatched to the moon Pandora on a unique mission, but becomes torn between following orders and protecting an alien civilization. Action, Adventure, Fantasy, Science Fiction,  culture clash, future, space war, space colony, society, space travel, futuristic, romance, space, alien, tribe, alien planet, cgi, marine, soldier, battle, love affair, anti war, power relations, mind and soul, 3d,  Sam Worthington, Zoe Saldana, Sigourney Weaver, Stephen Lang, Michelle Rodriguez, Giovanni Ribisi, Joel David Moore, CCH Pounder, Wes Studi, Laz Alonso, Dileep Rao, Matt Gerald, Sean Anthony Moran, Jason Whyte, Scott Lawrence, Kelly Kilgour, James Patrick Pitt, Sean Patrick Murphy, Peter Dillon, Kevin Dorman, Kelson Henderson, David Van Horn, Jacob Tomuri, Michael Blain-Rozgay, Jon Curry, Luke Hawker, Woody Schultz, Peter Mensah, Sonia Yee, Jahnel Curfman, Ilram Choi, Kyla Warren, Lisa Roumain, Debra Wilson, Chris Mala, Taylor Kibby, Jodie Landau, Julie Lamm, Cullen B. Madden, Joseph Brady Madden, Frankie Torres, Austin Wilson, Sara Wilson, Tamica Washington-Miller, Lucy Briant, Nathan Meister, Gerry Blair, Matthew Chamberlain, Paul Yates, Wray Wilson, James Gaylyn, Melvin Leno Clark III, Carvon Futrell, Brandon Jelkes, Micah Moch, Hanniyah Muhammad, Christopher Nolen, Christa Oliver, April Marie Thomas, Bravita A. Threatt, Colin Bleasdale, Mike Bodnar, Matt Clayton, Nicole Dionne, Jamie Harrison, Allan Henry, Anthony Ingruber, Ashley Jeffery, Dean Knowsley, Joseph Mika-Hunt, Terry Notary, Kai Pantano, Logan Pithyou, Stuart Pollock, Raja, Gareth Ruck, Rhian Sheehan, T. J. Storm, Jodie Taylor, Alicia Vela-Bailey, Richard Whiteside, Nikie Zambo, Julene Renee,  In the 22nd century, a paraplegic Marine is dispatched to the moon Pandora on a unique mission, but becomes torn between following orders and protecting an alien civilization. Action, Adventure, Fantasy, Science Fiction,  culture clash, future, space war, space colony, society, space travel, futuristic, romance, space, alien, tribe, alien planet, cgi, marine, soldier, battle, love affair, anti war, power relations, mind and soul, 3d,  Sam Worthington, Zoe Saldana, Sigourney Weaver, Stephen Lang, Michelle Rodriguez, Giovanni Ribisi, Joel David Moore, CCH Pounder, Wes Studi, Laz Alonso, Dileep Rao, Matt Gerald, Sean Anthony Moran, Jason Whyte, Scott Lawrence, Kelly Kilgour, James Patrick Pitt, Sean Patrick Murphy, Peter Dillon, Kevin Dorman, Kelson Henderson, David Van Horn, Jacob Tomuri, Michael Blain-Rozgay, Jon Curry, Luke Hawker, Woody Schultz, Peter Mensah, Sonia Yee, Jahnel Curfman, Ilram Choi, Kyla Warren, Lisa Roumain, Debra Wilson, Chris Mala, Taylor Kibby, Jodie Landau, Julie Lamm, Cullen B. Madden, Joseph Brady Madden, Frankie Torres, Austin Wilson, Sara Wilson, Tamica Washington-Miller, Lucy Briant, Nathan Meister, Gerry Blair, Matthew Chamberlain, Paul Yates, Wray Wilson, James Gaylyn, Melvin Leno Clark III, Carvon Futrell, Brandon Jelkes, Micah Moch, Hanniyah Muhammad, Christopher Nolen, Christa Oliver, April Marie Thomas, Bravita A. Threatt, Colin Bleasdale, Mike Bodnar, Matt Clayton, Nicole Dionne, Jamie Harrison, Allan Henry, Anthony Ingruber, Ashley Jeffery, Dean Knowsley, Joseph Mika-Hunt, Terry Notary, Kai Pantano, Logan Pithyou, Stuart Pollock, Raja, Gareth Ruck, Rhian Sheehan, T. J. Storm, Jodie Taylor, Alicia Vela-Bailey, Richard Whiteside, Nikie Zambo, Julene Renee,',\n",
       "       \"Captain Barbossa, long believed to be dead, has come back to life and is headed to the edge of the Earth with Will Turner and Elizabeth Swann. But nothing is quite as it seems. Adventure, Fantasy, Action,  ocean, drug abuse, exotic island, east india trading company, love of one's life, traitor, shipwreck, strong woman, ship, alliance, calypso, afterlife, fighter, pirate, swashbuckler, aftercreditsstinger,  Johnny Depp, Orlando Bloom, Keira Knightley, Stellan Skarsgård, Chow Yun-fat, Bill Nighy, Geoffrey Rush, Jack Davenport, Kevin McNally, Tom Hollander, Naomie Harris, Jonathan Pryce, Keith Richards, Lee Arenberg, Mackenzie Crook, Greg Ellis, David Bailie, Martin Klebba, David Schofield, Lauren Maher, Vanessa Branch, Angus Barnett, Giles New, Reggie Lee, Dominic Scott Kay, Takayo Fischer, David Meunier, Ho-Kwan Tse, Andy Beckwith, Peter Donald Badalamenti II, Christopher S. Capp, Keith Richards, Hakeem Kae-Kazim, Ghassan Massoud,  Captain Barbossa, long believed to be dead, has come back to life and is headed to the edge of the Earth with Will Turner and Elizabeth Swann. But nothing is quite as it seems. Adventure, Fantasy, Action,  ocean, drug abuse, exotic island, east india trading company, love of one's life, traitor, shipwreck, strong woman, ship, alliance, calypso, afterlife, fighter, pirate, swashbuckler, aftercreditsstinger,  Johnny Depp, Orlando Bloom, Keira Knightley, Stellan Skarsgård, Chow Yun-fat, Bill Nighy, Geoffrey Rush, Jack Davenport, Kevin McNally, Tom Hollander, Naomie Harris, Jonathan Pryce, Keith Richards, Lee Arenberg, Mackenzie Crook, Greg Ellis, David Bailie, Martin Klebba, David Schofield, Lauren Maher, Vanessa Branch, Angus Barnett, Giles New, Reggie Lee, Dominic Scott Kay, Takayo Fischer, David Meunier, Ho-Kwan Tse, Andy Beckwith, Peter Donald Badalamenti II, Christopher S. Capp, Keith Richards, Hakeem Kae-Kazim, Ghassan Massoud,\",\n",
       "       'A cryptic message from Bond’s past sends him on a trail to uncover a sinister organization. While M battles political forces to keep the secret service alive, Bond peels back the layers of deceit to reveal the terrible truth behind SPECTRE. Action, Adventure, Crime,  spy, based on novel, secret agent, sequel, mi6, british secret service, united kingdom,  Daniel Craig, Christoph Waltz, Léa Seydoux, Ralph Fiennes, Monica Bellucci, Ben Whishaw, Naomie Harris, Dave Bautista, Andrew Scott, Rory Kinnear, Jesper Christensen, Alessandro Cremona, Stephanie Sigman, Tenoch Huerta, Adriana Paz, Domenico Fortunato, Marco Zingaro, Stefano Elfi DiClaudia, Ian Bonar, Tam Williams, Richard Banham, Pip Carter, Simon Lenagan, Alessandro Bressanello, Marc Zinga, Brigitte Millar, Adel Bencherif, Gediminas Adomaitis, Peppe Lanzetta, Francesco Arca, Matteo Taranto, Emilio Aniba, Benito Sagredo, Dai Tabuchi, George Lasha, Sargon Yelda, Andy Cheung, Erick Hayden, Oleg Mirochnikov, Antonio Salines, Miloud Mourad Benamara, Gido Schimanski, Nigel Barber, Patrice Naiambana, Stephane Cornicard, Gary Fannin, Sadao Ueda, Phillip Law, Wai Wong, Joseph Balderrama, Eiji Mihara, Junichi Kajioka, Victor Schefé, Harald Windisch, Tristan Matthiae, Detlef Bothe, Bodo Friesecke, Wilhem Iben, Noemi Krausz, Noah Saavedra, Francis Attakpah, Michael Glantschnig, Marlon Boess, Marie Wohlmuth, Lili Epply, Konstantin Gerlach, Lara Parmiani, Umit Ulgen, Amra Mallassi, Ziad Abaza, Walid Mumuni, Derek Horsham, Nari Blair-Mangat, Michael White, Adam McGrady, Nader Dernaika, Pezhmaan Alinia, Judi Dench, Neve Gachev, Karl Farrer, Kim Adis, Maurisa Selene Coleman, Matija Mondi Matović,  A cryptic message from Bond’s past sends him on a trail to uncover a sinister organization. While M battles political forces to keep the secret service alive, Bond peels back the layers of deceit to reveal the terrible truth behind SPECTRE. Action, Adventure, Crime,  spy, based on novel, secret agent, sequel, mi6, british secret service, united kingdom,  Daniel Craig, Christoph Waltz, Léa Seydoux, Ralph Fiennes, Monica Bellucci, Ben Whishaw, Naomie Harris, Dave Bautista, Andrew Scott, Rory Kinnear, Jesper Christensen, Alessandro Cremona, Stephanie Sigman, Tenoch Huerta, Adriana Paz, Domenico Fortunato, Marco Zingaro, Stefano Elfi DiClaudia, Ian Bonar, Tam Williams, Richard Banham, Pip Carter, Simon Lenagan, Alessandro Bressanello, Marc Zinga, Brigitte Millar, Adel Bencherif, Gediminas Adomaitis, Peppe Lanzetta, Francesco Arca, Matteo Taranto, Emilio Aniba, Benito Sagredo, Dai Tabuchi, George Lasha, Sargon Yelda, Andy Cheung, Erick Hayden, Oleg Mirochnikov, Antonio Salines, Miloud Mourad Benamara, Gido Schimanski, Nigel Barber, Patrice Naiambana, Stephane Cornicard, Gary Fannin, Sadao Ueda, Phillip Law, Wai Wong, Joseph Balderrama, Eiji Mihara, Junichi Kajioka, Victor Schefé, Harald Windisch, Tristan Matthiae, Detlef Bothe, Bodo Friesecke, Wilhem Iben, Noemi Krausz, Noah Saavedra, Francis Attakpah, Michael Glantschnig, Marlon Boess, Marie Wohlmuth, Lili Epply, Konstantin Gerlach, Lara Parmiani, Umit Ulgen, Amra Mallassi, Ziad Abaza, Walid Mumuni, Derek Horsham, Nari Blair-Mangat, Michael White, Adam McGrady, Nader Dernaika, Pezhmaan Alinia, Judi Dench, Neve Gachev, Karl Farrer, Kim Adis, Maurisa Selene Coleman, Matija Mondi Matović,',\n",
       "       ...,\n",
       "       '\"Signed, Sealed, Delivered\" introduces a dedicated quartet of civil servants in the Dead Letter Office of the U.S. Postal System who transform themselves into an elite team of lost-mail detectives. Their determination to deliver the seemingly undeliverable takes them out of the post office into an unpredictable world where letters and packages from the past save lives, solve crimes, reunite old loves, and change futures by arriving late, but always miraculously on time. Comedy, Drama, Romance, TV Movie,  date, love at first sight, narration, investigation, team, postal worker,  Eric Mabius, Kristin Booth, Crystal Lowe, Geoff Gustafson, Benjamin Hollingsworth, Laci J Mailey, Daphne Zuniga,  \"Signed, Sealed, Delivered\" introduces a dedicated quartet of civil servants in the Dead Letter Office of the U.S. Postal System who transform themselves into an elite team of lost-mail detectives. Their determination to deliver the seemingly undeliverable takes them out of the post office into an unpredictable world where letters and packages from the past save lives, solve crimes, reunite old loves, and change futures by arriving late, but always miraculously on time. Comedy, Drama, Romance, TV Movie,  date, love at first sight, narration, investigation, team, postal worker,  Eric Mabius, Kristin Booth, Crystal Lowe, Geoff Gustafson, Benjamin Hollingsworth, Laci J Mailey, Daphne Zuniga,',\n",
       "       'When ambitious New York attorney Sam is sent to Shanghai on assignment, he immediately stumbles into a legal mess that could end his career. With the help of a beautiful relocation specialist, a well-connected old-timer, a clever journalist, and a street-smart legal assistant, Sam might just save his job, find romance, and learn to appreciate the beauty and wonders of Shanghai. Written by Anonymous  (IMDB.com).   Daniel Henney, Eliza Coupe, Bill Paxton, Alan Ruck, Zhu Shimao,  When ambitious New York attorney Sam is sent to Shanghai on assignment, he immediately stumbles into a legal mess that could end his career. With the help of a beautiful relocation specialist, a well-connected old-timer, a clever journalist, and a street-smart legal assistant, Sam might just save his job, find romance, and learn to appreciate the beauty and wonders of Shanghai. Written by Anonymous  (IMDB.com).   Daniel Henney, Eliza Coupe, Bill Paxton, Alan Ruck, Zhu Shimao,',\n",
       "       \"Ever since the second grade when he first saw her in E.T. The Extraterrestrial, Brian Herzlinger has had a crush on Drew Barrymore. Now, 20 years later he's decided to try to fulfill his lifelong dream by asking her for a date. There's one small problem: She's Drew Barrymore and he's, well, Brian Herzlinger, a broke 27-year-old aspiring filmmaker from New Jersey. Documentary,  obsession, camcorder, crush, dream girl,  Drew Barrymore, Brian Herzlinger, Corey Feldman, Eric Roberts, Griffin Dunne, Samuel L. Jackson, Matt LeBlanc, Bill D'Elia,  Ever since the second grade when he first saw her in E.T. The Extraterrestrial, Brian Herzlinger has had a crush on Drew Barrymore. Now, 20 years later he's decided to try to fulfill his lifelong dream by asking her for a date. There's one small problem: She's Drew Barrymore and he's, well, Brian Herzlinger, a broke 27-year-old aspiring filmmaker from New Jersey. Documentary,  obsession, camcorder, crush, dream girl,  Drew Barrymore, Brian Herzlinger, Corey Feldman, Eric Roberts, Griffin Dunne, Samuel L. Jackson, Matt LeBlanc, Bill D'Elia,\"],\n",
       "      dtype='<U7584')"
      ]
     },
     "execution_count": 8,
     "metadata": {},
     "output_type": "execute_result"
    }
   ],
   "source": [
    "df['X'].values.astype('str')"
   ]
  },
  {
   "cell_type": "code",
   "execution_count": 9,
   "id": "b0321148",
   "metadata": {
    "execution": {
     "iopub.execute_input": "2024-02-14T21:40:55.491877Z",
     "iopub.status.busy": "2024-02-14T21:40:55.491195Z",
     "iopub.status.idle": "2024-02-14T21:40:57.120053Z",
     "shell.execute_reply": "2024-02-14T21:40:57.118827Z"
    },
    "papermill": {
     "duration": 1.640914,
     "end_time": "2024-02-14T21:40:57.122717",
     "exception": false,
     "start_time": "2024-02-14T21:40:55.481803",
     "status": "completed"
    },
    "tags": []
   },
   "outputs": [
    {
     "data": {
      "text/plain": [
       "<4803x53206 sparse matrix of type '<class 'numpy.float64'>'\n",
       "\twith 396284 stored elements in Compressed Sparse Row format>"
      ]
     },
     "execution_count": 9,
     "metadata": {},
     "output_type": "execute_result"
    }
   ],
   "source": [
    "# Criando nossa instância de TF-IDF\n",
    "tf_idf = TfidfVectorizer(strip_accents='ascii', stop_words=stop_words)\n",
    "\n",
    "# Gerando nossa bag-of-words.\n",
    "X = tf_idf.fit_transform(df['X'].astype('str'))\n",
    "X"
   ]
  },
  {
   "cell_type": "code",
   "execution_count": 10,
   "id": "eadf2e6e",
   "metadata": {
    "collapsed": true,
    "execution": {
     "iopub.execute_input": "2024-02-14T21:40:57.140425Z",
     "iopub.status.busy": "2024-02-14T21:40:57.140012Z",
     "iopub.status.idle": "2024-02-14T21:40:58.523790Z",
     "shell.execute_reply": "2024-02-14T21:40:58.522614Z"
    },
    "jupyter": {
     "outputs_hidden": true
    },
    "papermill": {
     "duration": 1.395711,
     "end_time": "2024-02-14T21:40:58.526373",
     "exception": false,
     "start_time": "2024-02-14T21:40:57.130662",
     "status": "completed"
    },
    "tags": []
   },
   "outputs": [
    {
     "data": {
      "text/plain": [
       "array([[1.        , 0.01908056, 0.01170046, ..., 0.00309658, 0.01846762,\n",
       "        0.00480298],\n",
       "       [0.01908056, 1.        , 0.01803646, ..., 0.00843364, 0.00639296,\n",
       "        0.00814863],\n",
       "       [0.01170046, 0.01803646, 1.        , ..., 0.00336842, 0.00239225,\n",
       "        0.        ],\n",
       "       ...,\n",
       "       [0.00309658, 0.00843364, 0.00336842, ..., 1.        , 0.01442196,\n",
       "        0.0258905 ],\n",
       "       [0.01846762, 0.00639296, 0.00239225, ..., 0.01442196, 1.        ,\n",
       "        0.0219145 ],\n",
       "       [0.00480298, 0.00814863, 0.        , ..., 0.0258905 , 0.0219145 ,\n",
       "        1.        ]])"
      ]
     },
     "execution_count": 10,
     "metadata": {},
     "output_type": "execute_result"
    }
   ],
   "source": [
    "from sklearn.metrics.pairwise import cosine_similarity\n",
    "cosine_similarity(X)"
   ]
  },
  {
   "cell_type": "markdown",
   "id": "719dd77b",
   "metadata": {
    "papermill": {
     "duration": 0.007647,
     "end_time": "2024-02-14T21:40:58.541998",
     "exception": false,
     "start_time": "2024-02-14T21:40:58.534351",
     "status": "completed"
    },
    "tags": []
   },
   "source": [
    "<p style='color:red'> X montado; Criar o mecanismo de queries usando np.where, np.argwhere</p>"
   ]
  }
 ],
 "metadata": {
  "kaggle": {
   "accelerator": "none",
   "dataSources": [
    {
     "datasetId": 138,
     "sourceId": 4508,
     "sourceType": "datasetVersion"
    }
   ],
   "dockerImageVersionId": 30646,
   "isGpuEnabled": false,
   "isInternetEnabled": true,
   "language": "python",
   "sourceType": "notebook"
  },
  "kernelspec": {
   "display_name": "Python 3",
   "language": "python",
   "name": "python3"
  },
  "language_info": {
   "codemirror_mode": {
    "name": "ipython",
    "version": 3
   },
   "file_extension": ".py",
   "mimetype": "text/x-python",
   "name": "python",
   "nbconvert_exporter": "python",
   "pygments_lexer": "ipython3",
   "version": "3.10.13"
  },
  "papermill": {
   "default_parameters": {},
   "duration": 16.442889,
   "end_time": "2024-02-14T21:40:59.271100",
   "environment_variables": {},
   "exception": null,
   "input_path": "__notebook__.ipynb",
   "output_path": "__notebook__.ipynb",
   "parameters": {},
   "start_time": "2024-02-14T21:40:42.828211",
   "version": "2.5.0"
  }
 },
 "nbformat": 4,
 "nbformat_minor": 5
}
