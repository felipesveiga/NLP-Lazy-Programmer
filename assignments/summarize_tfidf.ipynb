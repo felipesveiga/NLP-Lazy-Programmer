{
 "cells": [
  {
   "cell_type": "markdown",
   "id": "550bf63f-655b-436a-bd5a-ccab6856068f",
   "metadata": {},
   "source": [
    "# Text Summarization with TF-IDF\n",
    "* This lab is aimed at conceiving an  extractive summarization mechanism with the use of TF-IDF.\n",
    "* Given an article, we'll split its sentences and apply TF-IDF to them. Our extraction metric is going to be the me `np.nanmean` of the document's vector."
   ]
  },
  {
   "cell_type": "code",
   "execution_count": 6,
   "id": "b48be34c-0465-4582-9177-415177dd92e9",
   "metadata": {},
   "outputs": [
    {
     "name": "stdout",
     "output_type": "stream",
     "text": [
      "mkdir: cannot create directory ‘data’: File exists\n",
      "File ‘data/bbc_text_cls.csv’ already there; not retrieving.\n",
      "\n"
     ]
    }
   ],
   "source": [
    "! mkdir data\n",
    "!wget -nc https://lazyprogrammer.me/course_files/nlp/bbc_text_cls.csv -P data/"
   ]
  },
  {
   "cell_type": "code",
   "execution_count": 11,
   "id": "56ed4846-2517-43c9-a7c1-c028e2cbb1b6",
   "metadata": {},
   "outputs": [
    {
     "data": {
      "text/html": [
       "<div>\n",
       "<style scoped>\n",
       "    .dataframe tbody tr th:only-of-type {\n",
       "        vertical-align: middle;\n",
       "    }\n",
       "\n",
       "    .dataframe tbody tr th {\n",
       "        vertical-align: top;\n",
       "    }\n",
       "\n",
       "    .dataframe thead th {\n",
       "        text-align: right;\n",
       "    }\n",
       "</style>\n",
       "<table border=\"1\" class=\"dataframe\">\n",
       "  <thead>\n",
       "    <tr style=\"text-align: right;\">\n",
       "      <th></th>\n",
       "      <th>text</th>\n",
       "      <th>labels</th>\n",
       "    </tr>\n",
       "  </thead>\n",
       "  <tbody>\n",
       "    <tr>\n",
       "      <th>0</th>\n",
       "      <td>Ad sales boost Time Warner profit\\n\\nQuarterly...</td>\n",
       "      <td>business</td>\n",
       "    </tr>\n",
       "    <tr>\n",
       "      <th>1</th>\n",
       "      <td>Dollar gains on Greenspan speech\\n\\nThe dollar...</td>\n",
       "      <td>business</td>\n",
       "    </tr>\n",
       "    <tr>\n",
       "      <th>2</th>\n",
       "      <td>Yukos unit buyer faces loan claim\\n\\nThe owner...</td>\n",
       "      <td>business</td>\n",
       "    </tr>\n",
       "    <tr>\n",
       "      <th>3</th>\n",
       "      <td>High fuel prices hit BA's profits\\n\\nBritish A...</td>\n",
       "      <td>business</td>\n",
       "    </tr>\n",
       "    <tr>\n",
       "      <th>4</th>\n",
       "      <td>Pernod takeover talk lifts Domecq\\n\\nShares in...</td>\n",
       "      <td>business</td>\n",
       "    </tr>\n",
       "  </tbody>\n",
       "</table>\n",
       "</div>"
      ],
      "text/plain": [
       "                                                text    labels\n",
       "0  Ad sales boost Time Warner profit\\n\\nQuarterly...  business\n",
       "1  Dollar gains on Greenspan speech\\n\\nThe dollar...  business\n",
       "2  Yukos unit buyer faces loan claim\\n\\nThe owner...  business\n",
       "3  High fuel prices hit BA's profits\\n\\nBritish A...  business\n",
       "4  Pernod takeover talk lifts Domecq\\n\\nShares in...  business"
      ]
     },
     "execution_count": 11,
     "metadata": {},
     "output_type": "execute_result"
    }
   ],
   "source": [
    "import pandas as pd\n",
    "import numpy as np\n",
    "\n",
    "df = pd.read_csv('data/bbc_text_cls.csv')\n",
    "df = df[df.labels=='business']\n",
    "df.head()"
   ]
  },
  {
   "cell_type": "code",
   "execution_count": 29,
   "id": "7081a932-2fea-4fbf-a0da-ce83c7a9a00f",
   "metadata": {},
   "outputs": [
    {
     "data": {
      "text/plain": [
       "[\"Oil companies get Russian setback\\n\\nInternational oil and mining companies have reacted cautiously to Russia's decision to bar foreign firms from natural resource tenders in 2005.\",\n",
       " 'US oil giant Exxon said it did not plan to take part in a new tender on a project for which it had previously signed a preliminary agreement.',\n",
       " 'Miner Highland Gold said it regretted any limit on privatisation while BP, a big investor, declined to comment.',\n",
       " 'Only firms at least 51% Russian-owned will be permitted to bid.',\n",
       " 'The Federal Natural Resources Agency said \"the government is interested in letting Russian companies develop strategic resources\".',\n",
       " \"The foreign ownership issue will be dealt with according to Russia's competition law, natural resources minister Yuri Trutnev was quoted as saying by the Interfax news agency.\",\n",
       " 'No further details were given, with Mr Trutnev suggesting that Russia may decide on a case-by-case basis.',\n",
       " 'Observers said that the move may represent a shift in policy, as the administration of Vladimir Putin puts the protection of national interests above free market dynamics.',\n",
       " 'Russia recently wrested back control of a large chunk of its oil industry from stock-market listed company Yukos, a move that prompted calls of outrage from many investors.',\n",
       " 'Analysts warned that it was still too early to draw too many conclusions from this new set of proposals.',\n",
       " 'Companies echoed this sentiment, saying that they would require more information before ringing the alarm bells.',\n",
       " '\"It\\'s not good.',\n",
       " 'But it is very understandable,\" said Al Breach, an economist at UBS Brunswick.',\n",
       " '\"But if the investment climate is stable - that\\'s much more important.',\n",
       " '\"Foreigners of course would like to have free entry but... this is not the end of the world.\"',\n",
       " 'A number of other nations, including Mexico, Saudi Arabia and Kuwait, protect their national resources from foreign firms.',\n",
       " 'What has surprised observers is that since the collapse of communism Russia has been courting foreign investment.',\n",
       " 'BP spent $7.5bn to create Russian-registered oil company TNK-BP, and has a partnership to develop the Sakhalin 5 petroleum field with state-owned Rosneft.',\n",
       " \"Exxon, the world's largest oil company, has signed preliminary agreements to develop the Sakhalin 3 field.\",\n",
       " 'Company spokesman Glenn Waller said Exxon still considered the deal valid, despite Russia inviting new offers for the land block.',\n",
       " 'According to Mr Waller, Exxon \"were not planning to bid at a new tender anyway\".',\n",
       " '\"We regret the ministry has taken such a decision,\" said Ivan Kulakov, deputy chairman of Highland Gold - a mining firm that has the motto \"Bringing Russia\\'s Gold to Market\".',\n",
       " '\"It would be a shame if that has a negative impact on the investment climate.\"',\n",
       " \"Other firms that have been linked with investment in Russia include France's Total, the US-based ChevronTexaco, and miner Barrick Gold.\"]"
      ]
     },
     "execution_count": 29,
     "metadata": {},
     "output_type": "execute_result"
    }
   ],
   "source": [
    "from nltk import sent_tokenize\n",
    "from typing import List\n",
    "\n",
    "def get_sentences(df:pd.DataFrame, idx:int|None=None)->List[str]:\n",
    "    if idx is None:\n",
    "        idx = np.random.randint(low=0, high=df.shape[0], size=1)[0]\n",
    "    text = df.iloc[idx, 0]\n",
    "    return sent_tokenize(text)\n",
    "\n",
    "get_sentences(df)    \n",
    "#sent_tokenize(df.iloc[0,0])"
   ]
  },
  {
   "cell_type": "markdown",
   "id": "c7c4d710-3c45-4bee-a1c8-b2501320b7eb",
   "metadata": {},
   "source": [
    "<p style='color:red'> Documentar `get_sentences`; partir para a montagem do TF-IDF</p>"
   ]
  }
 ],
 "metadata": {
  "kernelspec": {
   "display_name": "Python 3 (ipykernel)",
   "language": "python",
   "name": "python3"
  },
  "language_info": {
   "codemirror_mode": {
    "name": "ipython",
    "version": 3
   },
   "file_extension": ".py",
   "mimetype": "text/x-python",
   "name": "python",
   "nbconvert_exporter": "python",
   "pygments_lexer": "ipython3",
   "version": "3.10.12"
  }
 },
 "nbformat": 4,
 "nbformat_minor": 5
}
