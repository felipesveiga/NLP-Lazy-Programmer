{
 "cells": [
  {
   "cell_type": "markdown",
   "id": "6789346f",
   "metadata": {
    "papermill": {
     "duration": 0.002612,
     "end_time": "2024-04-15T19:29:50.050182",
     "exception": false,
     "start_time": "2024-04-15T19:29:50.047570",
     "status": "completed"
    },
    "tags": []
   },
   "source": [
    "# BBC Articles Spinner\n",
    "* This is a small NLP project target on using Markov Models in building article spinner applications.\n",
    "* Here, we'll be dealing with a BBC News corpus containing business texts."
   ]
  },
  {
   "cell_type": "code",
   "execution_count": 1,
   "id": "d9e43242",
   "metadata": {
    "execution": {
     "iopub.execute_input": "2024-04-15T19:29:50.055947Z",
     "iopub.status.busy": "2024-04-15T19:29:50.055533Z",
     "iopub.status.idle": "2024-04-15T19:29:51.039164Z",
     "shell.execute_reply": "2024-04-15T19:29:51.038305Z"
    },
    "papermill": {
     "duration": 0.99006,
     "end_time": "2024-04-15T19:29:51.042322",
     "exception": false,
     "start_time": "2024-04-15T19:29:50.052262",
     "status": "completed"
    },
    "tags": []
   },
   "outputs": [
    {
     "data": {
      "text/plain": [
       "0    Ad sales boost Time Warner profit\\n\\nQuarterly...\n",
       "1    Dollar gains on Greenspan speech\\n\\nThe dollar...\n",
       "2    Yukos unit buyer faces loan claim\\n\\nThe owner...\n",
       "3    High fuel prices hit BA's profits\\n\\nBritish A...\n",
       "4    Pernod takeover talk lifts Domecq\\n\\nShares in...\n",
       "Name: text, dtype: object"
      ]
     },
     "execution_count": 1,
     "metadata": {},
     "output_type": "execute_result"
    }
   ],
   "source": [
    "# Loading our corpus.\n",
    "import pandas as pd\n",
    "import numpy as np\n",
    "\n",
    "df = pd.read_csv('/kaggle/input/bbc-business/06_bbc_text_cls.csv')\n",
    "df = df[df.labels=='business']['text'] # As mentioned, we'll be just focusing in business articles.\n",
    "df.head()"
   ]
  },
  {
   "cell_type": "markdown",
   "id": "1c82dad1",
   "metadata": {
    "papermill": {
     "duration": 0.001952,
     "end_time": "2024-04-15T19:29:51.047343",
     "exception": false,
     "start_time": "2024-04-15T19:29:51.045391",
     "status": "completed"
    },
    "tags": []
   },
   "source": [
    "<p style='color:red'> Iniciar tratamento do corpus (lower, tokenização considerando pontuações...)</p>"
   ]
  }
 ],
 "metadata": {
  "kaggle": {
   "accelerator": "none",
   "dataSources": [
    {
     "datasetId": 4804690,
     "sourceId": 8129202,
     "sourceType": "datasetVersion"
    }
   ],
   "dockerImageVersionId": 30684,
   "isGpuEnabled": false,
   "isInternetEnabled": true,
   "language": "python",
   "sourceType": "notebook"
  },
  "kernelspec": {
   "display_name": "Python 3",
   "language": "python",
   "name": "python3"
  },
  "language_info": {
   "codemirror_mode": {
    "name": "ipython",
    "version": 3
   },
   "file_extension": ".py",
   "mimetype": "text/x-python",
   "name": "python",
   "nbconvert_exporter": "python",
   "pygments_lexer": "ipython3",
   "version": "3.10.13"
  },
  "papermill": {
   "default_parameters": {},
   "duration": 4.334825,
   "end_time": "2024-04-15T19:29:51.469257",
   "environment_variables": {},
   "exception": null,
   "input_path": "__notebook__.ipynb",
   "output_path": "__notebook__.ipynb",
   "parameters": {},
   "start_time": "2024-04-15T19:29:47.134432",
   "version": "2.5.0"
  }
 },
 "nbformat": 4,
 "nbformat_minor": 5
}
