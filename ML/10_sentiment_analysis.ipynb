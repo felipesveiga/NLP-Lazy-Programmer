{
 "cells": [
  {
   "cell_type": "markdown",
   "id": "60283fb7-4da4-48fa-b6ce-a653e7bfb5a0",
   "metadata": {},
   "source": [
    "<h1 style='font-size:40px'> Sentiment Analysis</h1>\n",
    "<div> \n",
    "    <ul style='font-size:20px'> \n",
    "        <li>   \n",
    "            Seção focada na aplicação de ML em Análise de Sentimentos.\n",
    "        </li>\n",
    "    </ul>\n",
    " </div>"
   ]
  },
  {
   "cell_type": "markdown",
   "id": "c6a7a15f-e09b-4eb6-a296-2325400be85f",
   "metadata": {},
   "source": [
    "<h2 style='font-size:30px'>  Logistic Regression Intuition</h2>\n",
    "<div> \n",
    "    <ul style='font-size:20px'> \n",
    "        <li>\n",
    "            Apresentação da Regressão Logística.\n",
    "            <center style='margin-top:20px'>\n",
    "                $p(y=1|x)=\\sigma{(x^{T}w+b)}$\n",
    "            </center>\n",
    "            <center style='margin-top:20px'>\n",
    "                $\\sigma{(x)}=\\frac{1}{1+\\exp{(-x)}}$\n",
    "            </center>\n",
    "        </li>\n",
    "    </ul>\n",
    " </div>"
   ]
  },
  {
   "cell_type": "markdown",
   "id": "ca9190aa-73f5-4a93-a211-7595da0d9295",
   "metadata": {},
   "source": [
    "<h3 style='font-size:30px;font-style:italic'> Discriminative & Generative Models</h3>\n",
    "<div> \n",
    "    <ul style='font-size:20px'> \n",
    "        <li> \n",
    "            Em Estatística, existem dois principais tipos de modelagem: discriminativa e generativa.\n",
    "        </li>\n",
    "        <li>\n",
    "            Modelos discriminativos são aqueles que são treinados para computar uma função que preveja $p(y|x)$. A Regressão Logística é um exemplo claro dessa modalidade de algoritmo.\n",
    "        </li>\n",
    "        <li>\n",
    "            Já os modelos generativos aprendem a prever $p(x|y)$. No caso, o Naïve Bayes e GAN's são casos desse tipo de modelagem \n",
    "        </li>\n",
    "    </ul>\n",
    " </div>"
   ]
  },
  {
   "cell_type": "markdown",
   "id": "04037bea-7330-4aaf-bc68-2ee9dfb7f74b",
   "metadata": {},
   "source": [
    "<p style='color:red'> Vi Aula 69; Rever explicação sobre modelos discriminativos e generativos; Aula 69 (15:50)</p>"
   ]
  }
 ],
 "metadata": {
  "kernelspec": {
   "display_name": "Python 3 (ipykernel)",
   "language": "python",
   "name": "python3"
  },
  "language_info": {
   "codemirror_mode": {
    "name": "ipython",
    "version": 3
   },
   "file_extension": ".py",
   "mimetype": "text/x-python",
   "name": "python",
   "nbconvert_exporter": "python",
   "pygments_lexer": "ipython3",
   "version": "3.12.3"
  }
 },
 "nbformat": 4,
 "nbformat_minor": 5
}
