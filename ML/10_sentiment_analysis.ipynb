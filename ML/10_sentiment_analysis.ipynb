{
 "cells": [
  {
   "cell_type": "markdown",
   "id": "60283fb7-4da4-48fa-b6ce-a653e7bfb5a0",
   "metadata": {},
   "source": [
    "<h1 style='font-size:40px'> Sentiment Analysis</h1>\n",
    "<div> \n",
    "    <ul style='font-size:20px'> \n",
    "        <li>   \n",
    "            Seção focada na aplicação de ML em Análise de Sentimentos.\n",
    "        </li>\n",
    "    </ul>\n",
    " </div>"
   ]
  },
  {
   "cell_type": "markdown",
   "id": "04037bea-7330-4aaf-bc68-2ee9dfb7f74b",
   "metadata": {},
   "source": [
    "<p style='color:red'> Vi Aula 67 e 68; Aula 69</p>"
   ]
  }
 ],
 "metadata": {
  "kernelspec": {
   "display_name": "Python 3 (ipykernel)",
   "language": "python",
   "name": "python3"
  },
  "language_info": {
   "codemirror_mode": {
    "name": "ipython",
    "version": 3
   },
   "file_extension": ".py",
   "mimetype": "text/x-python",
   "name": "python",
   "nbconvert_exporter": "python",
   "pygments_lexer": "ipython3",
   "version": "3.12.3"
  }
 },
 "nbformat": 4,
 "nbformat_minor": 5
}
