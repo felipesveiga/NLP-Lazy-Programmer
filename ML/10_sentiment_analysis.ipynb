{
 "cells": [
  {
   "cell_type": "markdown",
   "id": "60283fb7-4da4-48fa-b6ce-a653e7bfb5a0",
   "metadata": {},
   "source": [
    "<h1 style='font-size:40px'> Sentiment Analysis</h1>\n",
    "<div> \n",
    "    <ul style='font-size:20px'> \n",
    "        <li>   \n",
    "            Seção focada na aplicação de ML em Análise de Sentimentos.\n",
    "        </li>\n",
    "    </ul>\n",
    " </div>"
   ]
  },
  {
   "cell_type": "markdown",
   "id": "c6a7a15f-e09b-4eb6-a296-2325400be85f",
   "metadata": {},
   "source": [
    "<h2 style='font-size:30px'>  Logistic Regression Intuition</h2>\n",
    "<div> \n",
    "    <ul style='font-size:20px'> \n",
    "        <li>\n",
    "            Apresentação da Regressão Logística.\n",
    "            <center style='margin-top:20px'>\n",
    "                $p(y=1|x)=\\sigma{(x^{T}w+b)}$\n",
    "            </center>\n",
    "            <center style='margin-top:20px'>\n",
    "                $\\sigma{(x)}=\\frac{1}{1+\\exp{(-x)}}$\n",
    "            </center>\n",
    "        </li>\n",
    "    </ul>\n",
    " </div>"
   ]
  },
  {
   "cell_type": "markdown",
   "id": "ca9190aa-73f5-4a93-a211-7595da0d9295",
   "metadata": {},
   "source": [
    "<h3 style='font-size:30px;font-style:italic'> Discriminative & Generative Models</h3>\n",
    "<div> \n",
    "    <ul style='font-size:20px'> \n",
    "        <li> \n",
    "            Em Estatística, existem dois principais tipos de modelagem: discriminativa e generativa.\n",
    "        </li>\n",
    "        <li>\n",
    "            Modelos discriminativos são aqueles que são treinados para computar uma função que preveja $p(y|x)$. A Regressão Logística é um exemplo claro dessa modalidade de algoritmo.\n",
    "        </li>\n",
    "        <li>\n",
    "            Já os modelos generativos aprendem a prever $p(x|y)$. No caso, o Naïve Bayes e GAN's são casos desse tipo de modelagem. O termo \"generativo\" vem do fato de que poderemos extrair amostras de instâncias pertencentes a uma classe $y$, uma vez que temos calibradas as distribuições de probabilidades. \n",
    "        </li>\n",
    "    </ul>\n",
    " </div>"
   ]
  },
  {
   "cell_type": "markdown",
   "id": "a7ad6814-d2c8-4b62-b016-b3e92611ffc5",
   "metadata": {
    "editable": true,
    "slideshow": {
     "slide_type": ""
    },
    "tags": []
   },
   "source": [
    "<h2 style='font-size:30px'> Multiclass Logistic Regression</h2>\n",
    "<div> \n",
    "    <ul style='font-size:20px'> \n",
    "        <li>\n",
    "            A Softmax Regression é um outro modelo linear de classificação, voltado a problemas multi-classe.\n",
    "        </li>\n",
    "        <li> \n",
    "            No seu caso, montaremos K funções lineares cujos coeficientes serão depositados dentro de uma matriz. Seus produtos serão passados como argumento de uma função exponencial.\n",
    "            <center style='margin-top:20px'>\n",
    "                $a=W^{T}x$\n",
    "            </center>\n",
    "            <center style='margin-top:20px'>\n",
    "                $p(y=k|x)=\\frac{\\exp{(a_k)}}{\\sum_{j=1}^{K}\\exp{(a_j)}}, \\forall{k=1...K}$\n",
    "            </center>\n",
    "        </li>\n",
    "        <li style='margin-top:20px'>\n",
    "            As previsões serão computadas extraindo o argmax da softmax para cada instância:\n",
    "            <center style='margin-top:20px'>\n",
    "                $k^{*}=\\underset{x}{\\arg\\max}\\text{ }{p(Y=k|X)}$\n",
    "            </center>\n",
    "        </li>\n",
    "    </ul>\n",
    " </div>"
   ]
  },
  {
   "cell_type": "markdown",
   "id": "66e8da04-2691-4690-9fbe-0b04e84d8a73",
   "metadata": {
    "editable": true,
    "slideshow": {
     "slide_type": ""
    },
    "tags": []
   },
   "source": [
    "<h2 style='font-size:30px'>Sentiment Analysis - Exercise Prompt</h2>\n",
    "<div> \n",
    "    <ul style='font-size:20px'> \n",
    "        <li>\n",
    "            Vamos utilizar um dataset de tweets para fazer uma classificação de sentimentos (positivo, neutro, negativo). \n",
    "        </li>\n",
    "        <li>\n",
    "            O instrutor nos instrui a realizar uma segunda classificação, omitindo do dataset as instâncias neutras.\n",
    "        </li>\n",
    "        <li>\n",
    "            Acho que vou pular, pois não sinto que isso vai agregar muito pra mim... \n",
    "        </li>\n",
    "    </ul>\n",
    " </div>"
   ]
  },
  {
   "cell_type": "markdown",
   "id": "04037bea-7330-4aaf-bc68-2ee9dfb7f74b",
   "metadata": {
    "editable": true,
    "slideshow": {
     "slide_type": ""
    },
    "tags": []
   },
   "source": [
    "<p style='color:red'> Terminei Aula 70 a 72; Acompanhar Aulas 73 e 74, apenas para ver se algo de novo é ensinado</p>"
   ]
  }
 ],
 "metadata": {
  "kernelspec": {
   "display_name": "Python 3 (ipykernel)",
   "language": "python",
   "name": "python3"
  },
  "language_info": {
   "codemirror_mode": {
    "name": "ipython",
    "version": 3
   },
   "file_extension": ".py",
   "mimetype": "text/x-python",
   "name": "python",
   "nbconvert_exporter": "python",
   "pygments_lexer": "ipython3",
   "version": "3.12.3"
  }
 },
 "nbformat": 4,
 "nbformat_minor": 5
}
