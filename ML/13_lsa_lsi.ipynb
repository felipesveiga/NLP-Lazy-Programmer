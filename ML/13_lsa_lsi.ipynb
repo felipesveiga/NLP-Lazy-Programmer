{
 "cells": [
  {
   "cell_type": "markdown",
   "id": "6d743731-b3fb-425d-a35c-0a2690f796ea",
   "metadata": {},
   "source": [
    "<h1 style='font-size:40px'>Latent Semantic Analysis (Latent Semantic Indexing)</h1>"
   ]
  },
  {
   "cell_type": "markdown",
   "id": "cc9697fd-1afa-4f6c-b88c-143cb2ef6e76",
   "metadata": {},
   "source": [
    "<h2 style='font-size:30px'> LSA / LSI Section Introduction</h2>\n",
    "<div> \n",
    "    <ul style='font-size:20px'> \n",
    "        <li>\n",
    "            Esta seção será focada no aprendizado de Latent Semantic Analysis e Indexing. Essas técnicas são baseadas no SVD, algoritmo de fatorização de matriz.\n",
    "        </li>\n",
    "        <li>\n",
    "            Elas são utilizadas para lidar com polissemia e palavras sinônimas.\n",
    "        </li>\n",
    "    </ul>\n",
    " </div>"
   ]
  },
  {
   "cell_type": "code",
   "execution_count": null,
   "id": "96b82646-923a-4fd6-9b32-110376e9d134",
   "metadata": {},
   "outputs": [],
   "source": [
    "# Roteiro de Estudos LDA\n",
    "# LSA/LSI (acho que não vai dar, por ora)\n",
    "# Gaussian Mixtures (Expectation Maximization) ['https://www.baeldung.com/cs/expectation-maximization-technique']\n",
    "# LDA"
   ]
  },
  {
   "cell_type": "code",
   "execution_count": 3,
   "id": "3c972d06-5a20-4df9-a5ef-c964d1787d1b",
   "metadata": {},
   "outputs": [
    {
     "name": "stdout",
     "output_type": "stream",
     "text": [
      "[master f465199] Aula 96\n",
      " 1 file changed, 12 insertions(+), 13 deletions(-)\n",
      "Enumerating objects: 7, done.\n",
      "Counting objects: 100% (7/7), done.\n",
      "Delta compression using up to 24 threads\n",
      "Compressing objects: 100% (4/4), done.\n",
      "Writing objects: 100% (4/4), 560 bytes | 560.00 KiB/s, done.\n",
      "Total 4 (delta 3), reused 0 (delta 0), pack-reused 0\n",
      "remote: Resolving deltas: 100% (3/3), completed with 3 local objects.\u001b[K\n",
      "To https://github.com/felipesveiga/NLP-Lazy-Programmer.git\n",
      "   74074c3..f465199  master -> master\n"
     ]
    }
   ],
   "source": [
    "! git add .\n",
    "! git commit -am 'Aula 96' \n",
    "! git push"
   ]
  },
  {
   "cell_type": "markdown",
   "id": "bfc93f94-6a78-4d56-b855-558d9ffb81ae",
   "metadata": {},
   "source": [
    "<p style='color:red'> Tentar aprender LDA; Começar por EM e GMM</p>"
   ]
  }
 ],
 "metadata": {
  "kernelspec": {
   "display_name": "Python 3 (ipykernel)",
   "language": "python",
   "name": "python3"
  },
  "language_info": {
   "codemirror_mode": {
    "name": "ipython",
    "version": 3
   },
   "file_extension": ".py",
   "mimetype": "text/x-python",
   "name": "python",
   "nbconvert_exporter": "python",
   "pygments_lexer": "ipython3",
   "version": "3.10.12"
  }
 },
 "nbformat": 4,
 "nbformat_minor": 5
}
