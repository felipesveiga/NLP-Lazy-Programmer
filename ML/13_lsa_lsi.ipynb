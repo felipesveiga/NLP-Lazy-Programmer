{
 "cells": [
  {
   "cell_type": "markdown",
   "id": "6d743731-b3fb-425d-a35c-0a2690f796ea",
   "metadata": {},
   "source": [
    "<h1 style='font-size:40px'>Latent Semantic Analysis (Latent Semantic Indexing)</h1>"
   ]
  },
  {
   "cell_type": "markdown",
   "id": "cc9697fd-1afa-4f6c-b88c-143cb2ef6e76",
   "metadata": {},
   "source": [
    "<h2 style='font-size:30px'> LSA / LSI Section Introduction</h2>\n",
    "<div> \n",
    "    <ul style='font-size:20px'> \n",
    "        <li>\n",
    "            Esta seção será focada no aprendizado de Latent Semantic Analysis e Indexing. Essas técnicas são baseadas no SVD, algoritmo de fatorização de matriz.\n",
    "        </li>\n",
    "        <li>\n",
    "            Elas são utilizadas para lidar com polissemia e palavras sinônimas.\n",
    "        </li>\n",
    "    </ul>\n",
    " </div>"
   ]
  },
  {
   "cell_type": "code",
   "execution_count": 2,
   "id": "3c972d06-5a20-4df9-a5ef-c964d1787d1b",
   "metadata": {},
   "outputs": [
    {
     "name": "stdout",
     "output_type": "stream",
     "text": [
      "[master f43e189] Revisar anotação NMF\n",
      " 1 file changed, 468 insertions(+), 9 deletions(-)\n",
      "Enumerating objects: 7, done.\n",
      "Counting objects: 100% (7/7), done.\n",
      "Delta compression using up to 24 threads\n",
      "Compressing objects: 100% (4/4), done.\n",
      "Writing objects: 100% (4/4), 5.78 KiB | 5.78 MiB/s, done.\n",
      "Total 4 (delta 2), reused 0 (delta 0), pack-reused 0\n",
      "remote: Resolving deltas: 100% (2/2), completed with 2 local objects.\u001b[K\n",
      "To https://github.com/felipesveiga/NLP-Lazy-Programmer.git\n",
      "   cfb5e29..f43e189  master -> master\n"
     ]
    }
   ],
   "source": [
    "! git add .\n",
    "! git commit -am 'Aula 95' \n",
    "! git push"
   ]
  },
  {
   "cell_type": "markdown",
   "id": "bfc93f94-6a78-4d56-b855-558d9ffb81ae",
   "metadata": {},
   "source": [
    "<p style='color:red'> Terminei seção 12; Iniciei Seção 13; Aula 95; Pesquisar sobre SVD</p>"
   ]
  }
 ],
 "metadata": {
  "kernelspec": {
   "display_name": "Python 3 (ipykernel)",
   "language": "python",
   "name": "python3"
  },
  "language_info": {
   "codemirror_mode": {
    "name": "ipython",
    "version": 3
   },
   "file_extension": ".py",
   "mimetype": "text/x-python",
   "name": "python",
   "nbconvert_exporter": "python",
   "pygments_lexer": "ipython3",
   "version": "3.10.12"
  }
 },
 "nbformat": 4,
 "nbformat_minor": 5
}
