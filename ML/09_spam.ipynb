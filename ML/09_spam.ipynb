{
 "cells": [
  {
   "cell_type": "markdown",
   "id": "f90ad712-b30a-44eb-b112-1fb8f02569bd",
   "metadata": {},
   "source": [
    "<h1 style='font-size:40px'> Spam Detection</h1>\n",
    "<div> \n",
    "    <ul style='font-size:20px'> \n",
    "        <li>   \n",
    "            Esta seção terá o enfoque de criar um detector de spams, utilizando o Naive Bayes.\n",
    "        </li>\n",
    "    </ul>\n",
    " </div>"
   ]
  },
  {
   "cell_type": "markdown",
   "id": "1f33c156-1b43-4fc3-8bef-29769c77738d",
   "metadata": {},
   "source": [
    "<p style='color:red'> Vi Aulas 61 e 62; Aula 63; DESLIGAR VM'S ao final da aula!!</p>"
   ]
  }
 ],
 "metadata": {
  "kernelspec": {
   "display_name": "Python 3 (ipykernel)",
   "language": "python",
   "name": "python3"
  },
  "language_info": {
   "codemirror_mode": {
    "name": "ipython",
    "version": 3
   },
   "file_extension": ".py",
   "mimetype": "text/x-python",
   "name": "python",
   "nbconvert_exporter": "python",
   "pygments_lexer": "ipython3",
   "version": "3.12.3"
  }
 },
 "nbformat": 4,
 "nbformat_minor": 5
}
