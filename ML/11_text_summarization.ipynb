{
 "cells": [
  {
   "cell_type": "markdown",
   "id": "dee017f3-d77a-4b8d-af25-bbfd486dd5da",
   "metadata": {},
   "source": [
    "<h1 style='font-size:40px'> Text Summarization</h1>"
   ]
  },
  {
   "cell_type": "markdown",
   "id": "c8fd8557-2b96-4a14-a6f0-79e3c34b7eca",
   "metadata": {},
   "source": [
    "<h2 style='font-size:30px'>   Text Summarization Section Introduction</h2>\n",
    "<div> \n",
    "    <ul style='font-size:20px'> \n",
    "        <li>\n",
    "            Exploraremos por aqui a aplicação de algoritmos de ML na sumarização de documentos.\n",
    "        </li>\n",
    "        <li>\n",
    "            De maneira geral, classificamos sumarizações de textos em duas categorias.\n",
    "        </li>\n",
    "    </ul>\n",
    " </div>"
   ]
  },
  {
   "cell_type": "markdown",
   "id": "4fd4f4af-9dd4-4112-a87b-5e20f3d5c3b2",
   "metadata": {},
   "source": [
    "<p style='color:red'> Terminei seção sobre análise de sentimentos; Aula 75 (4:20); Distinguir tipos de sumarizações</p>"
   ]
  }
 ],
 "metadata": {
  "kernelspec": {
   "display_name": "Python 3 (ipykernel)",
   "language": "python",
   "name": "python3"
  },
  "language_info": {
   "codemirror_mode": {
    "name": "ipython",
    "version": 3
   },
   "file_extension": ".py",
   "mimetype": "text/x-python",
   "name": "python",
   "nbconvert_exporter": "python",
   "pygments_lexer": "ipython3",
   "version": "3.10.12"
  }
 },
 "nbformat": 4,
 "nbformat_minor": 5
}
