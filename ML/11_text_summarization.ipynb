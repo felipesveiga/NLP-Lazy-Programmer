{
 "cells": [
  {
   "cell_type": "markdown",
   "id": "dee017f3-d77a-4b8d-af25-bbfd486dd5da",
   "metadata": {},
   "source": [
    "<h1 style='font-size:40px'> Text Summarization</h1>"
   ]
  },
  {
   "cell_type": "markdown",
   "id": "c8fd8557-2b96-4a14-a6f0-79e3c34b7eca",
   "metadata": {},
   "source": [
    "<h2 style='font-size:30px'>   Text Summarization Section Introduction</h2>\n",
    "<div> \n",
    "    <ul style='font-size:20px'> \n",
    "        <li>\n",
    "            Exploraremos por aqui a aplicação de algoritmos de ML na sumarização de documentos.\n",
    "        </li>\n",
    "        <li>\n",
    "            De maneira geral, classificamos sumarizações de textos em duas categorias.\n",
    "            <ul> \n",
    "                <li> \n",
    "                    <i> Extrativa</i> Feita com fragmentos do próprio documento.\n",
    "                </li>\n",
    "                <li> \n",
    "                    <i>Abstrativa:</i> Feita com uma descrição do texto baseada na interpretação do leitor\n",
    "                </li>\n",
    "            </ul>\n",
    "        </li>\n",
    "        <li>\n",
    "            No contexto desta seção, trabalharemos com sumarizações extrativas.\n",
    "        </li>\n",
    "    </ul>\n",
    " </div>"
   ]
  },
  {
   "cell_type": "markdown",
   "id": "e064bb60-c3a2-45af-be2c-8b941dbd8e8c",
   "metadata": {},
   "source": [
    "<h2 style='font-size:30px'>Text Summarization Using Vectors\n",
    "</h2>\n",
    "<div> \n",
    "    <ul style='font-size:20px'> \n",
    "        <li>\n",
    "            Nosso projeto de sumarização consistirá em conferir um score a cada fragmento de um dado texto. Nós selecionaremos os trechos de maior pontuação, para produzirmos nosso resumo.\n",
    "        </li>\n",
    "    </ul>\n",
    " </div>"
   ]
  },
  {
   "cell_type": "markdown",
   "id": "0e0f5489-1c68-4448-b1b1-ba6ad587c3a6",
   "metadata": {},
   "source": [
    "<h3 style='font-size:30px;font-style:italic'> Metodologia de Scores</h3>\n",
    "<div> \n",
    "    <ul style='font-size:20px'> \n",
    "        <li>\n",
    "            A pontuação de cada fragmento será feita aplicando um TF-IDF sobre cada trecho (`nltk.sent_tokenize`).\n",
    "        </li>\n",
    "        <li>\n",
    "            Nós extrairemos as pontuações computando a média de cada vetor-linha (np.nanmean).\n",
    "        </li>\n",
    "    </ul>\n",
    " </div>"
   ]
  },
  {
   "cell_type": "markdown",
   "id": "9844dfb3-8151-42c7-baf7-89c516c3f5da",
   "metadata": {},
   "source": [
    "<h2 style='font-size:30px'>Text Summarization Exercise Prompt\n",
    "</h2>\n",
    "<div> \n",
    "    <ul style='font-size:20px'> \n",
    "        <li>\n",
    "            Tente aplicar a nossa ideia no dataset da BBC, com vários artigos.\n",
    "        </li>\n",
    "    </ul>\n",
    " </div>"
   ]
  },
  {
   "cell_type": "markdown",
   "id": "2a036061-36a4-488f-8d7e-dde2ec17baa4",
   "metadata": {},
   "source": [
    "<h2 style='font-size:30px'> TextRank Intuition\n",
    "</h2>\n",
    "<div> \n",
    "    <ul style='font-size:20px'> \n",
    "        <li>\n",
    "            O TextRank é uma metodologia de sumarização de textos inpirado no algoritmo PageRank do Google.\n",
    "        </li>\n",
    "        <li>\n",
    "            Lembrando que o PageRank computa a probabilidade de o usuário acessar uma determinada página, navegando aleatoriamente pela internet.\n",
    "        </li>\n",
    "        <li>\n",
    "            No caso do TextRank, computaremos as probabilidades mensurando a similaridade cosseno entre cada documento. Isso nos retornará uma matriz $N\\times{N}$.\n",
    "        </li>\n",
    "    </ul>\n",
    " </div>"
   ]
  },
  {
   "cell_type": "code",
   "execution_count": 3,
   "id": "ba2c65b8-cad8-40f9-978f-83ee79f972b8",
   "metadata": {},
   "outputs": [
    {
     "name": "stdout",
     "output_type": "stream",
     "text": [
      "[master 750b1b2] Aula 80\n",
      " 1 file changed, 20 insertions(+), 13 deletions(-)\n",
      "Enumerating objects: 7, done.\n",
      "Counting objects: 100% (7/7), done.\n",
      "Delta compression using up to 24 threads\n",
      "Compressing objects: 100% (4/4), done.\n",
      "Writing objects: 100% (4/4), 832 bytes | 832.00 KiB/s, done.\n",
      "Total 4 (delta 3), reused 0 (delta 0), pack-reused 0\n",
      "remote: Resolving deltas: 100% (3/3), completed with 3 local objects.\u001b[K\n",
      "To https://github.com/felipesveiga/NLP-Lazy-Programmer.git\n",
      "   b91e68d..750b1b2  master -> master\n"
     ]
    }
   ],
   "source": [
    "! git add .\n",
    "! git commit -am 'Reiniciar Aula 80' \n",
    "! git push"
   ]
  },
  {
   "cell_type": "markdown",
   "id": "449b6583-fcbc-4a98-b15a-12cd8fc56b39",
   "metadata": {},
   "source": [
    "<p style='color:red'> Reiniciar Aula 80; Lembre-se que $A$ é agnóstica a tempo, enquanto o vetor $p$, não. Para facilitar seu entendimento, imagine a situação em que um único componente de $p=1$</p>"
   ]
  }
 ],
 "metadata": {
  "kernelspec": {
   "display_name": "Python 3 (ipykernel)",
   "language": "python",
   "name": "python3"
  },
  "language_info": {
   "codemirror_mode": {
    "name": "ipython",
    "version": 3
   },
   "file_extension": ".py",
   "mimetype": "text/x-python",
   "name": "python",
   "nbconvert_exporter": "python",
   "pygments_lexer": "ipython3",
   "version": "3.10.12"
  }
 },
 "nbformat": 4,
 "nbformat_minor": 5
}
