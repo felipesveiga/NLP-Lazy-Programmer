{
 "cells": [
  {
   "cell_type": "markdown",
   "id": "1ed56205-ce10-42d3-945c-690d803c6a68",
   "metadata": {},
   "source": [
    "<h1 style='font-size:40px'> Topic Modeling </h1>"
   ]
  },
  {
   "cell_type": "markdown",
   "id": "aa97c8f4-8606-4d0e-b10d-cf0a230dd3d2",
   "metadata": {
    "jp-MarkdownHeadingCollapsed": true
   },
   "source": [
    "<h2 style='font-size:30px'>   Topic Modeling Section Introduction</h2>\n",
    "<div> \n",
    "    <ul style='font-size:20px'> \n",
    "        <li>\n",
    "            Modelagem de tópicos consiste em agrupar diferentes documentos, com base em seu conteúdo. \n",
    "        </li>\n",
    "        <li>\n",
    "            É uma prática de Aprendizado Não-Supervisionado, sendo bastante útil quando temos uma miríade de textos, sem um rótulo. \n",
    "        </li>\n",
    "    </ul>\n",
    " </div>"
   ]
  },
  {
   "cell_type": "markdown",
   "id": "0d1b8764-3c10-43d9-960f-4878fc322c9d",
   "metadata": {},
   "source": [
    "<h2 style='font-size:30px'> Latent Dirichlet Allocation (LDA) - Essentials</h2>\n",
    "<div> \n",
    "    <ul style='font-size:20px'> \n",
    "        <li>\n",
    "            Aula com uma explicação alto-nível sobre o Latent Dirichlet Allocation.\n",
    "        </li>\n",
    "        <li>\n",
    "            Basicamente, o algoritmo receberá um CountVectorizer do nosso corpus, e indentificará uma quantidade $t$ de tópicos. Seu output são duas matrizes.\n",
    "        </li>\n",
    "        <li>\n",
    "            A primeira confere um score aos tokens do corpus para cada tópico identificado. Isso pode ser interpretado como o quão relacionado àquele tópico um determinado termo é. \n",
    "        </li>\n",
    "        <li>\n",
    "            A segunda oferece um grau de relação dos documentos para cada tópico.\n",
    "        </li>\n",
    "    </ul>\n",
    " </div>"
   ]
  },
  {
   "cell_type": "markdown",
   "id": "21d1d964-70b5-48c5-8118-51442a975598",
   "metadata": {},
   "source": [
    "<h2 style='font-size:30px'> LDA - Code Preparation</h2>\n",
    "<div> \n",
    "    <ul style='font-size:20px'> \n",
    "        <li>\n",
    "            A matriz de documentos por tópico é output do `transform` da classe do LDA. Já a de tópicos por tokens se torna um atributo do objeto (`components_`).\n",
    "        </li>\n",
    "        <li>\n",
    "            A classe do modelo pode ser também reaproveitada para dados novos.\n",
    "        </li>\n",
    "    </ul>\n",
    " </div>"
   ]
  },
  {
   "cell_type": "code",
   "execution_count": null,
   "id": "27870494-c28e-4535-bf53-e86d0447ec8f",
   "metadata": {},
   "outputs": [],
   "source": [
    "# Roteiro de Estudos LDA\n",
    "# LSI\n",
    "# Gaussian Mixtures (Expectation Maximization) ['https://www.baeldung.com/cs/expectation-maximization-technique']\n",
    "# LDA"
   ]
  },
  {
   "cell_type": "code",
   "execution_count": 1,
   "id": "73c49f74-0b89-45a0-8851-6fa96db72fb6",
   "metadata": {},
   "outputs": [
    {
     "name": "stdout",
     "output_type": "stream",
     "text": [
      "[master f2d0735] Aula 90\n",
      " 1 file changed, 28 insertions(+), 13 deletions(-)\n",
      "Enumerating objects: 7, done.\n",
      "Counting objects: 100% (7/7), done.\n",
      "Delta compression using up to 24 threads\n",
      "Compressing objects: 100% (4/4), done.\n",
      "Writing objects: 100% (4/4), 760 bytes | 760.00 KiB/s, done.\n",
      "Total 4 (delta 3), reused 0 (delta 0), pack-reused 0\n",
      "remote: Resolving deltas: 100% (3/3), completed with 3 local objects.\u001b[K\n",
      "To https://github.com/felipesveiga/NLP-Lazy-Programmer.git\n",
      "   c1c0988..f2d0735  master -> master\n"
     ]
    }
   ],
   "source": [
    "! git add .\n",
    "! git commit -am 'Aula 90' \n",
    "! git push"
   ]
  },
  {
   "cell_type": "markdown",
   "id": "025b42be-e43a-4158-9ec1-b810a421bcfc",
   "metadata": {},
   "source": [
    "<p style='color:red'> Vi Aulas 88 e 89; Aula 90</p>"
   ]
  }
 ],
 "metadata": {
  "kernelspec": {
   "display_name": "Python 3 (ipykernel)",
   "language": "python",
   "name": "python3"
  },
  "language_info": {
   "codemirror_mode": {
    "name": "ipython",
    "version": 3
   },
   "file_extension": ".py",
   "mimetype": "text/x-python",
   "name": "python",
   "nbconvert_exporter": "python",
   "pygments_lexer": "ipython3",
   "version": "3.10.12"
  }
 },
 "nbformat": 4,
 "nbformat_minor": 5
}
