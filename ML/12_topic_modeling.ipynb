{
 "cells": [
  {
   "cell_type": "markdown",
   "id": "1ed56205-ce10-42d3-945c-690d803c6a68",
   "metadata": {},
   "source": [
    "<h1 style='font-size:40px'> Topic Modeling </h1>"
   ]
  },
  {
   "cell_type": "markdown",
   "id": "aa97c8f4-8606-4d0e-b10d-cf0a230dd3d2",
   "metadata": {},
   "source": [
    "<h2 style='font-size:30px'>   Topic Modeling Section Introduction</h2>\n",
    "<div> \n",
    "    <ul style='font-size:20px'> \n",
    "        <li>\n",
    "            Modelagem de tópicos consiste em agrupar diferentes documentos, com base em seu conteúdo. \n",
    "        </li>\n",
    "        <li>\n",
    "            É uma prática de Aprendizado Não-Supervisionado, sendo bastante útil quando temos uma miríade de textos, sem um rótulo. \n",
    "        </li>\n",
    "    </ul>\n",
    " </div>"
   ]
  },
  {
   "cell_type": "code",
   "execution_count": 7,
   "id": "73c49f74-0b89-45a0-8851-6fa96db72fb6",
   "metadata": {},
   "outputs": [
    {
     "name": "stdout",
     "output_type": "stream",
     "text": [
      "[master 8627ee9] Aula 83\n",
      " 1 file changed, 7 insertions(+), 7 deletions(-)\n",
      "Enumerating objects: 7, done.\n",
      "Counting objects: 100% (7/7), done.\n",
      "Delta compression using up to 24 threads\n",
      "Compressing objects: 100% (4/4), done.\n",
      "Writing objects: 100% (4/4), 479 bytes | 479.00 KiB/s, done.\n",
      "Total 4 (delta 3), reused 0 (delta 0), pack-reused 0\n",
      "remote: Resolving deltas: 100% (3/3), completed with 3 local objects.\u001b[K\n",
      "To https://github.com/felipesveiga/NLP-Lazy-Programmer.git\n",
      "   75f1a3e..8627ee9  master -> master\n"
     ]
    }
   ],
   "source": [
    "! git add .\n",
    "! git commit -am 'Aula 86' \n",
    "! git push"
   ]
  },
  {
   "cell_type": "markdown",
   "id": "025b42be-e43a-4158-9ec1-b810a421bcfc",
   "metadata": {},
   "source": [
    "<p style='color:red'> Vi Aulas 83 a 85; Aula 86</p>"
   ]
  }
 ],
 "metadata": {
  "kernelspec": {
   "display_name": "Python 3 (ipykernel)",
   "language": "python",
   "name": "python3"
  },
  "language_info": {
   "codemirror_mode": {
    "name": "ipython",
    "version": 3
   },
   "file_extension": ".py",
   "mimetype": "text/x-python",
   "name": "python",
   "nbconvert_exporter": "python",
   "pygments_lexer": "ipython3",
   "version": "3.10.12"
  }
 },
 "nbformat": 4,
 "nbformat_minor": 5
}
