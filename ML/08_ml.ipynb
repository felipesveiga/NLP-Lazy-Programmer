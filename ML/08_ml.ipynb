{
 "cells": [
  {
   "cell_type": "markdown",
   "id": "b41daef1-2fc1-4e52-8e7a-29582c42bc43",
   "metadata": {},
   "source": [
    "<h1 style='font-size:40px'> Machine Learning Models</h1>\n",
    "<center style='margin-top:20px'> \n",
    "                <img src='../img/08_outline.png'>\n",
    "            </center>"
   ]
  }
 ],
 "metadata": {
  "kernelspec": {
   "display_name": "Python 3 (ipykernel)",
   "language": "python",
   "name": "python3"
  },
  "language_info": {
   "codemirror_mode": {
    "name": "ipython",
    "version": 3
   },
   "file_extension": ".py",
   "mimetype": "text/x-python",
   "name": "python",
   "nbconvert_exporter": "python",
   "pygments_lexer": "ipython3",
   "version": "3.12.3"
  }
 },
 "nbformat": 4,
 "nbformat_minor": 5
}
